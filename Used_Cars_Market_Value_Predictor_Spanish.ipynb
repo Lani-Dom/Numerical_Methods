{
 "cells": [
  {
   "cell_type": "markdown",
   "metadata": {},
   "source": [
    "# Predictor del Valor de Mercado de Autos Usados"
   ]
  },
  {
   "cell_type": "markdown",
   "metadata": {},
   "source": [
    "-----"
   ]
  },
  {
   "cell_type": "markdown",
   "metadata": {},
   "source": [
    "## Overview"
   ]
  },
  {
   "cell_type": "markdown",
   "metadata": {},
   "source": [
    "### Descripción"
   ]
  },
  {
   "cell_type": "markdown",
   "metadata": {},
   "source": [
    "<div style=\"color: #196CC4;\">\n",
    "    El servicio de venta de autos usados Rusty Bargain está desarrollando una aplicación para atraer nuevos clientes. Gracias a esa app, puedes averiguar rápidamente el valor de mercado de tu coche. Tienes acceso al historial: especificaciones técnicas, versiones de equipamiento y precios. Tienes que crear un modelo que determine el valor de mercado. A Rusty Bargain le interesa:<br>\n",
    "\n",
    "▶ la calidad de la predicción;<br>\n",
    "▶ la velocidad de la predicción;<br>\n",
    "▶ el tiempo requerido para el entrenamiento\n",
    " </div>"
   ]
  },
  {
   "cell_type": "markdown",
   "metadata": {},
   "source": [
    "### Objetivo"
   ]
  },
  {
   "cell_type": "markdown",
   "metadata": {},
   "source": [
    "<div style=\"color: #196CC4;\">Desarrollar un modelo de predicción de precios de vehículos de segunda mano para Rusty Bargain, con el fin de proporcionar a los usuarios una estimación precisa y rápida del valor de mercado de sus coches. El modelo debe cumplir con los criterios de calidad establecidos por Rusty Bargain, garantizando una predicción precisa y una velocidad de ejecución adecuada para mejorar la experiencia del usuario en la plataforma. </div>"
   ]
  },
  {
   "cell_type": "markdown",
   "metadata": {},
   "source": [
    "### Recursos"
   ]
  },
  {
   "cell_type": "markdown",
   "metadata": {},
   "source": [
    "<div style=\"color: #196CC4;\">\n",
    "<b>Características</b><br>\n",
    "▶ DateCrawled — fecha en la que se descargó el perfil de la base de datos<br>\n",
    "▶ VehicleType — tipo de carrocería del vehículo<br>\n",
    "▶ RegistrationYear — año de matriculación del vehículo<br>\n",
    "▶ Gearbox — tipo de caja de cambios<br>\n",
    "▶ Power — potencia (CV)<br>\n",
    "▶ Model — modelo del vehículo<br>\n",
    "▶ Mileage — kilometraje (medido en km de acuerdo con las especificidades regionales del conjunto de datos)<br>\n",
    "▶ RegistrationMonth — mes de matriculación del vehículo<br>\n",
    "▶ FuelType — tipo de combustible<br>\n",
    "▶ Brand — marca del vehículo<br>\n",
    "▶ NotRepaired — vehículo con o sin reparación<br>\n",
    "▶ DateCreated — fecha de creación del perfil<br>\n",
    "▶ NumberOfPictures — número de fotos del vehículo<br>\n",
    "▶ PostalCode — código postal del propietario del perfil (usuario)<br>\n",
    "▶ LastSeen — fecha de la última vez que el usuario estuvo activo<br>\n",
    "\n",
    "<b>Objetivo</b><br>\n",
    "▶ Price — precio (en euros)<br>\n",
    "</div>"
   ]
  },
  {
   "cell_type": "markdown",
   "metadata": {},
   "source": [
    "### Metodología"
   ]
  },
  {
   "cell_type": "markdown",
   "metadata": {},
   "source": [
    "<div style=\"color: #196CC4;\">\n",
    "<ol>\n",
    "<li><strong>Inicialización y Análisis Exploratorio de Datos</strong>\n",
    "<ul>\n",
    "<li>Se importan las librerías, módulos y el conjunto de datos: car_data.csv.</li>\n",
    "<li>Se realiza un análisis exploratorio de los datos, incluyendo correlaciones preliminares.</li>\n",
    "<li>Se calculan estadísticas descriptivas.</li>\n",
    "<li>Se identifican y tratan valores duplicados y faltantes.</li>\n",
    "<li>Se eliminan las variables que no aportan valor al modelo.</li>\n",
    "<li>Se normalizan las características para asegurar una escala común.</li>\n",
    "<li>Se realiza codificación de variables categóricas (One-Hot Encoding y Label Encoding).</li>\n",
    "<li>Se divide el conjunto de datos en conjuntos de entrenamiento, validación y prueba (proporción 3:1:1).</li>\n",
    "</ul>\n",
    "</li>\n",
    "\n",
    "<li><strong>Entrenamiento de Modelos</strong>\n",
    "<ul>\n",
    "<li>Se entrenan modelos con y sin potenciación de gradiente.</li>\n",
    "<li>Modelos sin potenciación de gradiente: Árbol de Decisión, Regresión Lineal y Random Forest.</li>\n",
    "<li>Modelos con potenciación de gradiente: LightGBM, CatBoost y XGBoost.</li>\n",
    "<li>Se evalúan los modelos utilizando las métricas MSE, RMSE y tiempo de entrenamiento y predicción.</li>\n",
    "</ul>\n",
    "</li>\n",
    "\n",
    "<li><strong>Evaluación y Comparación</strong>\n",
    "<ul>\n",
    "<li>Se presenta un resumen de las métricas obtenidas para cada modelo.</li>\n",
    "<li>Se comparan los modelos en términos de calidad de predicción (MSE, RMSE, MAPE) y eficiencia (tiempo de entrenamiento y predicción).</li>\n",
    "</ul>\n",
    "</li>\n",
    "\n",
    "<li><strong>Conclusiones</strong>\n",
    "<ul>\n",
    "<li>Se selecciona el modelo óptimo basado en el rendimiento y los requerimientos del proyecto.</li>\n",
    "</ul>\n",
    "</li>\n",
    "</ol>\n",
    "\n",
    "</div>"
   ]
  },
  {
   "cell_type": "markdown",
   "metadata": {},
   "source": [
    "-----"
   ]
  },
  {
   "cell_type": "markdown",
   "metadata": {},
   "source": [
    "## Información general"
   ]
  },
  {
   "cell_type": "markdown",
   "metadata": {},
   "source": [
    "### Inicialización"
   ]
  },
  {
   "cell_type": "code",
   "execution_count": 38,
   "metadata": {},
   "outputs": [],
   "source": [
    "# Data analysis\n",
    "import pandas as pd\n",
    "\n",
    "# Label Encoding for categories\n",
    "from sklearn.preprocessing import LabelEncoder\n",
    "\n",
    "# Testing sets\n",
    "from sklearn.model_selection import train_test_split\n",
    "\n",
    "# Model training\n",
    "from sklearn.linear_model import LinearRegression\n",
    "from sklearn.tree import DecisionTreeRegressor\n",
    "from sklearn.ensemble import RandomForestRegressor\n",
    "from sklearn.model_selection import RandomizedSearchCV\n",
    "\n",
    "# Gradient boosting model training\n",
    "import lightgbm as lgb\n",
    "from lightgbm import LGBMRegressor\n",
    "from catboost import CatBoostRegressor\n",
    "from xgboost import XGBRegressor\n",
    "\n",
    "# Metrics\n",
    "from sklearn.metrics import mean_squared_error, mean_absolute_percentage_error\n",
    "import time\n",
    "\n",
    "from sklearn.preprocessing import MinMaxScaler"
   ]
  },
  {
   "cell_type": "code",
   "execution_count": 39,
   "metadata": {},
   "outputs": [],
   "source": [
    "# Import data\n",
    "cars = pd.read_csv('datasets/car_data.csv')"
   ]
  },
  {
   "cell_type": "markdown",
   "metadata": {},
   "source": [
    "### Despliegue de dataset"
   ]
  },
  {
   "cell_type": "markdown",
   "metadata": {},
   "source": [
    "<div style=\"color: #196CC4;\">\n",
    "▶ Propiedades generales del Dataframe\n",
    "</div>"
   ]
  },
  {
   "cell_type": "code",
   "execution_count": 40,
   "metadata": {},
   "outputs": [
    {
     "name": "stdout",
     "output_type": "stream",
     "text": [
      "<class 'pandas.core.frame.DataFrame'>\n",
      "RangeIndex: 354369 entries, 0 to 354368\n",
      "Data columns (total 16 columns):\n",
      " #   Column             Non-Null Count   Dtype \n",
      "---  ------             --------------   ----- \n",
      " 0   DateCrawled        354369 non-null  object\n",
      " 1   Price              354369 non-null  int64 \n",
      " 2   VehicleType        316879 non-null  object\n",
      " 3   RegistrationYear   354369 non-null  int64 \n",
      " 4   Gearbox            334536 non-null  object\n",
      " 5   Power              354369 non-null  int64 \n",
      " 6   Model              334664 non-null  object\n",
      " 7   Mileage            354369 non-null  int64 \n",
      " 8   RegistrationMonth  354369 non-null  int64 \n",
      " 9   FuelType           321474 non-null  object\n",
      " 10  Brand              354369 non-null  object\n",
      " 11  NotRepaired        283215 non-null  object\n",
      " 12  DateCreated        354369 non-null  object\n",
      " 13  NumberOfPictures   354369 non-null  int64 \n",
      " 14  PostalCode         354369 non-null  int64 \n",
      " 15  LastSeen           354369 non-null  object\n",
      "dtypes: int64(7), object(9)\n",
      "memory usage: 43.3+ MB\n"
     ]
    }
   ],
   "source": [
    "# General Dataframe properties\n",
    "cars.info()"
   ]
  },
  {
   "cell_type": "markdown",
   "metadata": {},
   "source": [
    "<div style=\"color: #196CC4;\">\n",
    "▶ Vistazo general del Dataframe\n",
    "</div>"
   ]
  },
  {
   "cell_type": "code",
   "execution_count": 41,
   "metadata": {},
   "outputs": [
    {
     "data": {
      "text/html": [
       "<div>\n",
       "<style scoped>\n",
       "    .dataframe tbody tr th:only-of-type {\n",
       "        vertical-align: middle;\n",
       "    }\n",
       "\n",
       "    .dataframe tbody tr th {\n",
       "        vertical-align: top;\n",
       "    }\n",
       "\n",
       "    .dataframe thead th {\n",
       "        text-align: right;\n",
       "    }\n",
       "</style>\n",
       "<table border=\"1\" class=\"dataframe\">\n",
       "  <thead>\n",
       "    <tr style=\"text-align: right;\">\n",
       "      <th></th>\n",
       "      <th>DateCrawled</th>\n",
       "      <th>Price</th>\n",
       "      <th>VehicleType</th>\n",
       "      <th>RegistrationYear</th>\n",
       "      <th>Gearbox</th>\n",
       "      <th>Power</th>\n",
       "      <th>Model</th>\n",
       "      <th>Mileage</th>\n",
       "      <th>RegistrationMonth</th>\n",
       "      <th>FuelType</th>\n",
       "      <th>Brand</th>\n",
       "      <th>NotRepaired</th>\n",
       "      <th>DateCreated</th>\n",
       "      <th>NumberOfPictures</th>\n",
       "      <th>PostalCode</th>\n",
       "      <th>LastSeen</th>\n",
       "    </tr>\n",
       "  </thead>\n",
       "  <tbody>\n",
       "    <tr>\n",
       "      <th>0</th>\n",
       "      <td>24/03/2016 11:52</td>\n",
       "      <td>480</td>\n",
       "      <td>NaN</td>\n",
       "      <td>1993</td>\n",
       "      <td>manual</td>\n",
       "      <td>0</td>\n",
       "      <td>golf</td>\n",
       "      <td>150000</td>\n",
       "      <td>0</td>\n",
       "      <td>petrol</td>\n",
       "      <td>volkswagen</td>\n",
       "      <td>NaN</td>\n",
       "      <td>24/03/2016 00:00</td>\n",
       "      <td>0</td>\n",
       "      <td>70435</td>\n",
       "      <td>07/04/2016 03:16</td>\n",
       "    </tr>\n",
       "    <tr>\n",
       "      <th>1</th>\n",
       "      <td>24/03/2016 10:58</td>\n",
       "      <td>18300</td>\n",
       "      <td>coupe</td>\n",
       "      <td>2011</td>\n",
       "      <td>manual</td>\n",
       "      <td>190</td>\n",
       "      <td>NaN</td>\n",
       "      <td>125000</td>\n",
       "      <td>5</td>\n",
       "      <td>gasoline</td>\n",
       "      <td>audi</td>\n",
       "      <td>yes</td>\n",
       "      <td>24/03/2016 00:00</td>\n",
       "      <td>0</td>\n",
       "      <td>66954</td>\n",
       "      <td>07/04/2016 01:46</td>\n",
       "    </tr>\n",
       "    <tr>\n",
       "      <th>2</th>\n",
       "      <td>14/03/2016 12:52</td>\n",
       "      <td>9800</td>\n",
       "      <td>suv</td>\n",
       "      <td>2004</td>\n",
       "      <td>auto</td>\n",
       "      <td>163</td>\n",
       "      <td>grand</td>\n",
       "      <td>125000</td>\n",
       "      <td>8</td>\n",
       "      <td>gasoline</td>\n",
       "      <td>jeep</td>\n",
       "      <td>NaN</td>\n",
       "      <td>14/03/2016 00:00</td>\n",
       "      <td>0</td>\n",
       "      <td>90480</td>\n",
       "      <td>05/04/2016 12:47</td>\n",
       "    </tr>\n",
       "  </tbody>\n",
       "</table>\n",
       "</div>"
      ],
      "text/plain": [
       "        DateCrawled  Price VehicleType  RegistrationYear Gearbox  Power  \\\n",
       "0  24/03/2016 11:52    480         NaN              1993  manual      0   \n",
       "1  24/03/2016 10:58  18300       coupe              2011  manual    190   \n",
       "2  14/03/2016 12:52   9800         suv              2004    auto    163   \n",
       "\n",
       "   Model  Mileage  RegistrationMonth  FuelType       Brand NotRepaired  \\\n",
       "0   golf   150000                  0    petrol  volkswagen         NaN   \n",
       "1    NaN   125000                  5  gasoline        audi         yes   \n",
       "2  grand   125000                  8  gasoline        jeep         NaN   \n",
       "\n",
       "        DateCreated  NumberOfPictures  PostalCode          LastSeen  \n",
       "0  24/03/2016 00:00                 0       70435  07/04/2016 03:16  \n",
       "1  24/03/2016 00:00                 0       66954  07/04/2016 01:46  \n",
       "2  14/03/2016 00:00                 0       90480  05/04/2016 12:47  "
      ]
     },
     "metadata": {},
     "output_type": "display_data"
    }
   ],
   "source": [
    "# General data overview\n",
    "display(cars.head(3))"
   ]
  },
  {
   "cell_type": "markdown",
   "metadata": {},
   "source": [
    "<div style=\"color: #196CC4;\">\n",
    "▶ Verificación de valores duplicados.\n",
    "</div>"
   ]
  },
  {
   "cell_type": "code",
   "execution_count": 42,
   "metadata": {},
   "outputs": [
    {
     "name": "stdout",
     "output_type": "stream",
     "text": [
      "Total de valores duplicados:\n",
      "262\n",
      "\n"
     ]
    }
   ],
   "source": [
    "# Duplicated values\n",
    "cars_duplicates = cars.duplicated()\n",
    "\n",
    "# Sum of duplicated values\n",
    "total_cars_duplicates = cars_duplicates.sum()\n",
    "\n",
    "# Duplicated rows\n",
    "cars_duplicates_rows = cars[cars_duplicates]\n",
    "\n",
    "# Display data\n",
    "print(\"Total de valores duplicados:\")\n",
    "print(total_cars_duplicates)\n",
    "print()\n",
    "#print(\"Listado de aquellas filas duplicadas:\")\n",
    "#display(cars_duplicates_rows)"
   ]
  },
  {
   "cell_type": "markdown",
   "metadata": {},
   "source": [
    "<div style=\"color: #196CC4;\">\n",
    "▶ Estadísticas descriptivas para los datos numéricos.\n",
    "</div>"
   ]
  },
  {
   "cell_type": "code",
   "execution_count": 43,
   "metadata": {},
   "outputs": [
    {
     "data": {
      "text/html": [
       "<div>\n",
       "<style scoped>\n",
       "    .dataframe tbody tr th:only-of-type {\n",
       "        vertical-align: middle;\n",
       "    }\n",
       "\n",
       "    .dataframe tbody tr th {\n",
       "        vertical-align: top;\n",
       "    }\n",
       "\n",
       "    .dataframe thead th {\n",
       "        text-align: right;\n",
       "    }\n",
       "</style>\n",
       "<table border=\"1\" class=\"dataframe\">\n",
       "  <thead>\n",
       "    <tr style=\"text-align: right;\">\n",
       "      <th></th>\n",
       "      <th>Price</th>\n",
       "      <th>RegistrationYear</th>\n",
       "      <th>Power</th>\n",
       "      <th>Mileage</th>\n",
       "      <th>RegistrationMonth</th>\n",
       "      <th>NumberOfPictures</th>\n",
       "      <th>PostalCode</th>\n",
       "    </tr>\n",
       "  </thead>\n",
       "  <tbody>\n",
       "    <tr>\n",
       "      <th>count</th>\n",
       "      <td>354369.000000</td>\n",
       "      <td>354369.000000</td>\n",
       "      <td>354369.000000</td>\n",
       "      <td>354369.000000</td>\n",
       "      <td>354369.000000</td>\n",
       "      <td>354369.0</td>\n",
       "      <td>354369.000000</td>\n",
       "    </tr>\n",
       "    <tr>\n",
       "      <th>mean</th>\n",
       "      <td>4416.656776</td>\n",
       "      <td>2004.234448</td>\n",
       "      <td>110.094337</td>\n",
       "      <td>128211.172535</td>\n",
       "      <td>5.714645</td>\n",
       "      <td>0.0</td>\n",
       "      <td>50508.689087</td>\n",
       "    </tr>\n",
       "    <tr>\n",
       "      <th>std</th>\n",
       "      <td>4514.158514</td>\n",
       "      <td>90.227958</td>\n",
       "      <td>189.850405</td>\n",
       "      <td>37905.341530</td>\n",
       "      <td>3.726421</td>\n",
       "      <td>0.0</td>\n",
       "      <td>25783.096248</td>\n",
       "    </tr>\n",
       "    <tr>\n",
       "      <th>min</th>\n",
       "      <td>0.000000</td>\n",
       "      <td>1000.000000</td>\n",
       "      <td>0.000000</td>\n",
       "      <td>5000.000000</td>\n",
       "      <td>0.000000</td>\n",
       "      <td>0.0</td>\n",
       "      <td>1067.000000</td>\n",
       "    </tr>\n",
       "    <tr>\n",
       "      <th>25%</th>\n",
       "      <td>1050.000000</td>\n",
       "      <td>1999.000000</td>\n",
       "      <td>69.000000</td>\n",
       "      <td>125000.000000</td>\n",
       "      <td>3.000000</td>\n",
       "      <td>0.0</td>\n",
       "      <td>30165.000000</td>\n",
       "    </tr>\n",
       "    <tr>\n",
       "      <th>50%</th>\n",
       "      <td>2700.000000</td>\n",
       "      <td>2003.000000</td>\n",
       "      <td>105.000000</td>\n",
       "      <td>150000.000000</td>\n",
       "      <td>6.000000</td>\n",
       "      <td>0.0</td>\n",
       "      <td>49413.000000</td>\n",
       "    </tr>\n",
       "    <tr>\n",
       "      <th>75%</th>\n",
       "      <td>6400.000000</td>\n",
       "      <td>2008.000000</td>\n",
       "      <td>143.000000</td>\n",
       "      <td>150000.000000</td>\n",
       "      <td>9.000000</td>\n",
       "      <td>0.0</td>\n",
       "      <td>71083.000000</td>\n",
       "    </tr>\n",
       "    <tr>\n",
       "      <th>max</th>\n",
       "      <td>20000.000000</td>\n",
       "      <td>9999.000000</td>\n",
       "      <td>20000.000000</td>\n",
       "      <td>150000.000000</td>\n",
       "      <td>12.000000</td>\n",
       "      <td>0.0</td>\n",
       "      <td>99998.000000</td>\n",
       "    </tr>\n",
       "  </tbody>\n",
       "</table>\n",
       "</div>"
      ],
      "text/plain": [
       "               Price  RegistrationYear          Power        Mileage  \\\n",
       "count  354369.000000     354369.000000  354369.000000  354369.000000   \n",
       "mean     4416.656776       2004.234448     110.094337  128211.172535   \n",
       "std      4514.158514         90.227958     189.850405   37905.341530   \n",
       "min         0.000000       1000.000000       0.000000    5000.000000   \n",
       "25%      1050.000000       1999.000000      69.000000  125000.000000   \n",
       "50%      2700.000000       2003.000000     105.000000  150000.000000   \n",
       "75%      6400.000000       2008.000000     143.000000  150000.000000   \n",
       "max     20000.000000       9999.000000   20000.000000  150000.000000   \n",
       "\n",
       "       RegistrationMonth  NumberOfPictures     PostalCode  \n",
       "count      354369.000000          354369.0  354369.000000  \n",
       "mean            5.714645               0.0   50508.689087  \n",
       "std             3.726421               0.0   25783.096248  \n",
       "min             0.000000               0.0    1067.000000  \n",
       "25%             3.000000               0.0   30165.000000  \n",
       "50%             6.000000               0.0   49413.000000  \n",
       "75%             9.000000               0.0   71083.000000  \n",
       "max            12.000000               0.0   99998.000000  "
      ]
     },
     "execution_count": 43,
     "metadata": {},
     "output_type": "execute_result"
    }
   ],
   "source": [
    "# Descriptive statistics\n",
    "cars.describe()"
   ]
  },
  {
   "cell_type": "markdown",
   "metadata": {},
   "source": [
    "<div style=\"color: #196CC4;\">\n",
    "▶ En cuanto a las variables categóricas, a continuación se verifica la cantidad de valores para cada una:\n",
    "</div>"
   ]
  },
  {
   "cell_type": "code",
   "execution_count": 44,
   "metadata": {},
   "outputs": [
    {
     "name": "stdout",
     "output_type": "stream",
     "text": [
      "Número de valores únicos en la serie 'DateCrawled': 15470\n",
      "Número de valores únicos en la serie 'VehicleType': 8\n",
      "Número de valores únicos en la serie 'Gearbox': 2\n",
      "Número de valores únicos en la serie 'Model': 250\n",
      "Número de valores únicos en la serie 'FuelType': 7\n",
      "Número de valores únicos en la serie 'Brand': 40\n",
      "Número de valores únicos en la serie 'NotRepaired': 2\n",
      "Número de valores únicos en la serie 'DateCreated': 109\n",
      "Número de valores únicos en la serie 'LastSeen': 18592\n"
     ]
    }
   ],
   "source": [
    "# Unique values in 'DateCrawled'\n",
    "unique_surname = cars['DateCrawled'].nunique()\n",
    "print(\"Número de valores únicos en la serie 'DateCrawled':\", unique_surname)\n",
    "\n",
    "# Unique values in 'VehicleType'\n",
    "unique_surname = cars['VehicleType'].nunique()\n",
    "print(\"Número de valores únicos en la serie 'VehicleType':\", unique_surname)\n",
    "\n",
    "# Unique values in 'Gearbox'\n",
    "unique_surname = cars['Gearbox'].nunique()\n",
    "print(\"Número de valores únicos en la serie 'Gearbox':\", unique_surname)\n",
    "\n",
    "# Unique values in 'Model'\n",
    "unique_surname = cars['Model'].nunique()\n",
    "print(\"Número de valores únicos en la serie 'Model':\", unique_surname)\n",
    "\n",
    "# Unique values in 'FuelType'\n",
    "unique_surname = cars['FuelType'].nunique()\n",
    "print(\"Número de valores únicos en la serie 'FuelType':\", unique_surname)\n",
    "\n",
    "# Unique values in 'Brand'\n",
    "unique_surname = cars['Brand'].nunique()\n",
    "print(\"Número de valores únicos en la serie 'Brand':\", unique_surname)\n",
    "\n",
    "# Unique values in 'NotRepaired'\n",
    "unique_surname = cars['NotRepaired'].nunique()\n",
    "print(\"Número de valores únicos en la serie 'NotRepaired':\", unique_surname)\n",
    "\n",
    "# Unique values in 'DateCreated'\n",
    "unique_surname = cars['DateCreated'].nunique()\n",
    "print(\"Número de valores únicos en la serie 'DateCreated':\", unique_surname)\n",
    "\n",
    "# Unique values in 'LastSeen'\n",
    "unique_surname = cars['LastSeen'].nunique()\n",
    "print(\"Número de valores únicos en la serie 'LastSeen':\", unique_surname)"
   ]
  },
  {
   "cell_type": "markdown",
   "metadata": {},
   "source": [
    "### Observaciones iniciales"
   ]
  },
  {
   "cell_type": "markdown",
   "metadata": {},
   "source": [
    "<div style=\"color: #196CC4;\">\n",
    "<b>Observaciones iniciales:</b><br>\n",
    "▶ Los nombres de las Series están en mayúsculas<br>\n",
    "▶ Hay 262 filas duplicadas<br>\n",
    "▶ Hay algunas series que no influyen en el propósito de este proyecto como: \"DateCrawled\", \"Model\" (ya que contamos con la marca del vehículo), \"DateCreated\" y \"LastSeen\"<br>\n",
    "▶ Existen valores ausentes en \"vehicletype\", \"gearbox\", \"fueltype\" y \"notrepaired\"<br>\n",
    "▶ Hay Series que son de tipo \"object\", por lo que se debe valorar el adecuado tratamiento de estos datos<br>\n",
    "▶ De acuerdo a la estadística descriptiva, se muestran valores atípicos en las Series \"Price\", \"RegistrationYear\" y \"Power\"\n",
    "</div>"
   ]
  },
  {
   "cell_type": "markdown",
   "metadata": {},
   "source": [
    "-----"
   ]
  },
  {
   "cell_type": "markdown",
   "metadata": {},
   "source": [
    "## Análisis Exploratorio de Datos (EDA)"
   ]
  },
  {
   "cell_type": "markdown",
   "metadata": {},
   "source": [
    "### Limpieza de datos"
   ]
  },
  {
   "cell_type": "markdown",
   "metadata": {},
   "source": [
    "<div style=\"color: #196CC4;\">\n",
    "▶ Se sugiere que los nombres de las columnas sean minusculas para tener mayor consistencia y sean más fáciles de trabajar\n",
    "</div>"
   ]
  },
  {
   "cell_type": "code",
   "execution_count": 45,
   "metadata": {},
   "outputs": [],
   "source": [
    "# Convert to lowercase\n",
    "mapeo = {columna: columna.lower() for columna in cars.columns}\n",
    "\n",
    "# Renaming DataFrame\n",
    "cars = cars.rename(columns=mapeo)"
   ]
  },
  {
   "cell_type": "markdown",
   "metadata": {},
   "source": [
    "<div style=\"color: #196CC4;\">\n",
    "<b>Valores duplicados</b><br>\n",
    "▶ Los 262 datos duplicados que existen en \"cars\", son solo una pequeña parte del conjunto de datos y no afectan significativamente la representación general de los datos restante (354,369), por lo que se sugiere eliminar estos registros que podrían afectar el resultado del entrenamiento<br>\n",
    "    \n",
    "</div>"
   ]
  },
  {
   "cell_type": "code",
   "execution_count": 46,
   "metadata": {},
   "outputs": [],
   "source": [
    "# Delete duplicates\n",
    "cars = cars.drop_duplicates().reset_index(drop=True)"
   ]
  },
  {
   "cell_type": "markdown",
   "metadata": {},
   "source": [
    "<div style=\"color: #196CC4;\">\n",
    "<b>Eliminación de Series sin afectar los resultados</b><br>\n",
    "▶ <b>datecrawled:</b> Con 15,470 valores únicos; las fechas en las que se descargaron los perfiles de la base de datos  no serán tan importantes para el precio de los vehículos.<br>\n",
    "▶ <b>model:</b> Con 250 valores únicos, el modelo puede ser demasiado detallado para ser útil en la predicción de precios, además ya tenemos la marca del vehículo.<br>\n",
    "▶ <b>datecreated:</b> Con 109 valores únicos, la fecha de creación del perfil puede no ser relevante para predecir el precio de los vehículos<br>\n",
    "▶ <b>lastseen:</b> Con 18,592 valores únicos, la fecha de la última vez que el usuario estuvo activo podría no tener una influencia directa en el precio de los vehículos.<br>\n",
    "▶ <b>numberofpictures:</b> La cantidad de fotos no influye en los objetivo del proyecto.<br>\n",
    "▶ <b>postalcode:</b> Igualmente el Código Postal no influye en los objetivo del proyecto.<br>    \n",
    "</div>"
   ]
  },
  {
   "cell_type": "code",
   "execution_count": 47,
   "metadata": {},
   "outputs": [
    {
     "name": "stdout",
     "output_type": "stream",
     "text": [
      "<class 'pandas.core.frame.DataFrame'>\n",
      "RangeIndex: 354107 entries, 0 to 354106\n",
      "Data columns (total 10 columns):\n",
      " #   Column             Non-Null Count   Dtype \n",
      "---  ------             --------------   ----- \n",
      " 0   price              354107 non-null  int64 \n",
      " 1   vehicletype        316623 non-null  object\n",
      " 2   registrationyear   354107 non-null  int64 \n",
      " 3   gearbox            334277 non-null  object\n",
      " 4   power              354107 non-null  int64 \n",
      " 5   mileage            354107 non-null  int64 \n",
      " 6   registrationmonth  354107 non-null  int64 \n",
      " 7   fueltype           321218 non-null  object\n",
      " 8   brand              354107 non-null  object\n",
      " 9   notrepaired        282962 non-null  object\n",
      "dtypes: int64(5), object(5)\n",
      "memory usage: 27.0+ MB\n",
      "None\n"
     ]
    }
   ],
   "source": [
    "# Useless Series\n",
    "delete_series = ['datecrawled', 'model', 'datecreated', 'lastseen', 'numberofpictures', 'postalcode']\n",
    "\n",
    "# Delete Series\n",
    "cars = cars.drop(delete_series, axis=1)\n",
    "\n",
    "# Verificar el DataFrame actualizado\n",
    "print(cars.info())"
   ]
  },
  {
   "cell_type": "markdown",
   "metadata": {},
   "source": [
    "<div style=\"color: #196CC4;\">\n",
    "<b>Tratamiento de valores ausentes</b><br>\n",
    "▶ <b>Eliminación de filas:</b> El conjunto de datos tiene 354107 entradas y la cantidad de valores ausentes es notablemente menor en comparación, por lo que se están eliminando todas las filas que correspondan con valores duplicados para la Serie \"vehicletype\". Con este cambio quedarán 316623 entradas con las que se podrá seguir trabajando, correspondiente al 89.4% de la muestra original de datos.<br>\n",
    "▶ <b>Imputacion:</b> El número de valores ausentes que restan es relativamente pequeño en comparación con el tamaño inicial cuando se tenía el conjunto total, por lo que para poder seguir trabajando con ese 89.4% de datos no reducir más la muestra de información valiosa, se imputarán los valores ausentes utilizando la moda (valor más frecuente) de cada serie para \"gearbox\", \"fueltype\" y \"notrepaired\". <br><br>\n",
    "Eliminar parcialmente las filas con valores ausentes, ayuda a garantizar que datos restantes sean completos y estén listos para su análisis. De esta manera la cantidad de datos a imputar también se disminuye y con ello se reduce también el sesgo en los datos.\n",
    "</div>"
   ]
  },
  {
   "cell_type": "code",
   "execution_count": 48,
   "metadata": {},
   "outputs": [],
   "source": [
    "# Delete rows\n",
    "cars.dropna(subset=['vehicletype'], inplace=True)"
   ]
  },
  {
   "cell_type": "code",
   "execution_count": 49,
   "metadata": {
    "scrolled": true
   },
   "outputs": [
    {
     "name": "stdout",
     "output_type": "stream",
     "text": [
      "<class 'pandas.core.frame.DataFrame'>\n",
      "Index: 316623 entries, 1 to 354106\n",
      "Data columns (total 10 columns):\n",
      " #   Column             Non-Null Count   Dtype \n",
      "---  ------             --------------   ----- \n",
      " 0   price              316623 non-null  int64 \n",
      " 1   vehicletype        316623 non-null  object\n",
      " 2   registrationyear   316623 non-null  int64 \n",
      " 3   gearbox            316623 non-null  object\n",
      " 4   power              316623 non-null  int64 \n",
      " 5   mileage            316623 non-null  int64 \n",
      " 6   registrationmonth  316623 non-null  int64 \n",
      " 7   fueltype           316623 non-null  object\n",
      " 8   brand              316623 non-null  object\n",
      " 9   notrepaired        316623 non-null  object\n",
      "dtypes: int64(5), object(5)\n",
      "memory usage: 26.6+ MB\n",
      "None\n"
     ]
    },
    {
     "name": "stderr",
     "output_type": "stream",
     "text": [
      "C:\\Users\\dguez\\AppData\\Local\\Temp\\ipykernel_18400\\1516463945.py:2: FutureWarning: A value is trying to be set on a copy of a DataFrame or Series through chained assignment using an inplace method.\n",
      "The behavior will change in pandas 3.0. This inplace method will never work because the intermediate object on which we are setting values always behaves as a copy.\n",
      "\n",
      "For example, when doing 'df[col].method(value, inplace=True)', try using 'df.method({col: value}, inplace=True)' or df[col] = df[col].method(value) instead, to perform the operation inplace on the original object.\n",
      "\n",
      "\n",
      "  cars['gearbox'].fillna(cars['gearbox'].mode()[0], inplace=True)\n",
      "C:\\Users\\dguez\\AppData\\Local\\Temp\\ipykernel_18400\\1516463945.py:3: FutureWarning: A value is trying to be set on a copy of a DataFrame or Series through chained assignment using an inplace method.\n",
      "The behavior will change in pandas 3.0. This inplace method will never work because the intermediate object on which we are setting values always behaves as a copy.\n",
      "\n",
      "For example, when doing 'df[col].method(value, inplace=True)', try using 'df.method({col: value}, inplace=True)' or df[col] = df[col].method(value) instead, to perform the operation inplace on the original object.\n",
      "\n",
      "\n",
      "  cars['fueltype'].fillna(cars['fueltype'].mode()[0], inplace=True)\n",
      "C:\\Users\\dguez\\AppData\\Local\\Temp\\ipykernel_18400\\1516463945.py:4: FutureWarning: A value is trying to be set on a copy of a DataFrame or Series through chained assignment using an inplace method.\n",
      "The behavior will change in pandas 3.0. This inplace method will never work because the intermediate object on which we are setting values always behaves as a copy.\n",
      "\n",
      "For example, when doing 'df[col].method(value, inplace=True)', try using 'df.method({col: value}, inplace=True)' or df[col] = df[col].method(value) instead, to perform the operation inplace on the original object.\n",
      "\n",
      "\n",
      "  cars['notrepaired'].fillna(cars['notrepaired'].mode()[0], inplace=True)\n"
     ]
    }
   ],
   "source": [
    "# Mode Imputation\n",
    "cars['gearbox'].fillna(cars['gearbox'].mode()[0], inplace=True)\n",
    "cars['fueltype'].fillna(cars['fueltype'].mode()[0], inplace=True)\n",
    "cars['notrepaired'].fillna(cars['notrepaired'].mode()[0], inplace=True)\n",
    "\n",
    "# Verificar el DataFrame actualizado\n",
    "print(cars.info())"
   ]
  },
  {
   "cell_type": "markdown",
   "metadata": {},
   "source": [
    "<div style=\"color: #196CC4;\">\n",
    "<b>Outliers</b><br>\n",
    "▶ A continuación se calculan los valores específicos para la media y la desviación estándar de cada variable, estos valores se pueden usar para ajustar los límites para identificar y eliminar los valores atípicos en las Series \"price\", \"registrationyear\" y \"power\".\n",
    "</div>"
   ]
  },
  {
   "cell_type": "code",
   "execution_count": 50,
   "metadata": {},
   "outputs": [
    {
     "name": "stdout",
     "output_type": "stream",
     "text": [
      "Media de la columna 'price': 4658.036368172874\n",
      "Desviación estandar de la columna 'price': 4584.561111519157\n",
      "\n",
      "Media de la columna 'registrationyear': 2002.238640275659\n",
      "Desviación estandar de la columna 'registrationyear': 6.566531306470144\n",
      "\n",
      "Media de la columna 'power': 114.76780903471952\n",
      "Desviación estandar de la columna 'power': 185.93147452990652\n"
     ]
    }
   ],
   "source": [
    "# Mean and the Standard Deviation\n",
    "mean_price = cars['price'].mean()\n",
    "std_price = cars['price'].std()\n",
    "\n",
    "mean_registrationyear = cars['registrationyear'].mean()\n",
    "std_registrationyear = cars['registrationyear'].std()\n",
    "\n",
    "mean_power = cars['power'].mean()\n",
    "std_power = cars['power'].std()\n",
    "\n",
    "# Print\n",
    "print(\"Media de la columna 'price':\", mean_price)\n",
    "print(\"Desviación estandar de la columna 'price':\", std_price)\n",
    "print()\n",
    "print(\"Media de la columna 'registrationyear':\", mean_registrationyear)\n",
    "print(\"Desviación estandar de la columna 'registrationyear':\", std_registrationyear)\n",
    "print()\n",
    "print(\"Media de la columna 'power':\", mean_power)\n",
    "print(\"Desviación estandar de la columna 'power':\", std_power)"
   ]
  },
  {
   "cell_type": "markdown",
   "metadata": {},
   "source": [
    "<div style=\"color: #196CC4;\">\n",
    "▶ Basándonos en estos valores, los límites para identificar los valores atípicos serán ±2 desviaciones estándar de la media.\n",
    "</div>\n"
   ]
  },
  {
   "cell_type": "code",
   "execution_count": 51,
   "metadata": {},
   "outputs": [],
   "source": [
    "# Limit Outliers\n",
    "lower_bound_price = 4431.15 - 2 * 4261.85\n",
    "upper_bound_price = 4431.15 + 2 * 4261.85\n",
    "\n",
    "lower_bound_registrationyear = 2002.51 - 2 * 5.52\n",
    "upper_bound_registrationyear = 2002.51 + 2 * 5.52\n",
    "\n",
    "lower_bound_power = 110.71 - 2 * 60.40\n",
    "upper_bound_power = 110.71 + 2 * 60.40"
   ]
  },
  {
   "cell_type": "markdown",
   "metadata": {},
   "source": [
    "<div style=\"color: #196CC4;\">\n",
    "▶ A continuación se utilizan estos límites para identificar y eliminar los valores atípicos, como se muestra a continuación:\n",
    "</div>"
   ]
  },
  {
   "cell_type": "code",
   "execution_count": 52,
   "metadata": {},
   "outputs": [],
   "source": [
    "# Delete Outliers\n",
    "cars = cars[(cars['price'] >= lower_bound_price) & (cars['price'] <= upper_bound_price)]\n",
    "cars = cars[(cars['registrationyear'] >= lower_bound_registrationyear) & (cars['registrationyear'] <= upper_bound_registrationyear)]\n",
    "cars = cars[(cars['power'] >= lower_bound_power) & (cars['power'] <= upper_bound_power)]"
   ]
  },
  {
   "cell_type": "code",
   "execution_count": 53,
   "metadata": {},
   "outputs": [
    {
     "data": {
      "text/html": [
       "<div>\n",
       "<style scoped>\n",
       "    .dataframe tbody tr th:only-of-type {\n",
       "        vertical-align: middle;\n",
       "    }\n",
       "\n",
       "    .dataframe tbody tr th {\n",
       "        vertical-align: top;\n",
       "    }\n",
       "\n",
       "    .dataframe thead th {\n",
       "        text-align: right;\n",
       "    }\n",
       "</style>\n",
       "<table border=\"1\" class=\"dataframe\">\n",
       "  <thead>\n",
       "    <tr style=\"text-align: right;\">\n",
       "      <th></th>\n",
       "      <th>price</th>\n",
       "      <th>registrationyear</th>\n",
       "      <th>power</th>\n",
       "      <th>mileage</th>\n",
       "      <th>registrationmonth</th>\n",
       "    </tr>\n",
       "  </thead>\n",
       "  <tbody>\n",
       "    <tr>\n",
       "      <th>count</th>\n",
       "      <td>271236.000000</td>\n",
       "      <td>271236.000000</td>\n",
       "      <td>271236.000000</td>\n",
       "      <td>271236.000000</td>\n",
       "      <td>271236.000000</td>\n",
       "    </tr>\n",
       "    <tr>\n",
       "      <th>mean</th>\n",
       "      <td>3587.375724</td>\n",
       "      <td>2002.390604</td>\n",
       "      <td>103.115774</td>\n",
       "      <td>132129.252754</td>\n",
       "      <td>5.935801</td>\n",
       "    </tr>\n",
       "    <tr>\n",
       "      <th>std</th>\n",
       "      <td>3139.455275</td>\n",
       "      <td>4.713636</td>\n",
       "      <td>51.284131</td>\n",
       "      <td>33332.441315</td>\n",
       "      <td>3.636323</td>\n",
       "    </tr>\n",
       "    <tr>\n",
       "      <th>min</th>\n",
       "      <td>0.000000</td>\n",
       "      <td>1992.000000</td>\n",
       "      <td>0.000000</td>\n",
       "      <td>5000.000000</td>\n",
       "      <td>0.000000</td>\n",
       "    </tr>\n",
       "    <tr>\n",
       "      <th>25%</th>\n",
       "      <td>1100.000000</td>\n",
       "      <td>1999.000000</td>\n",
       "      <td>71.000000</td>\n",
       "      <td>125000.000000</td>\n",
       "      <td>3.000000</td>\n",
       "    </tr>\n",
       "    <tr>\n",
       "      <th>50%</th>\n",
       "      <td>2500.000000</td>\n",
       "      <td>2002.000000</td>\n",
       "      <td>102.000000</td>\n",
       "      <td>150000.000000</td>\n",
       "      <td>6.000000</td>\n",
       "    </tr>\n",
       "    <tr>\n",
       "      <th>75%</th>\n",
       "      <td>5350.000000</td>\n",
       "      <td>2006.000000</td>\n",
       "      <td>140.000000</td>\n",
       "      <td>150000.000000</td>\n",
       "      <td>9.000000</td>\n",
       "    </tr>\n",
       "    <tr>\n",
       "      <th>max</th>\n",
       "      <td>12950.000000</td>\n",
       "      <td>2013.000000</td>\n",
       "      <td>231.000000</td>\n",
       "      <td>150000.000000</td>\n",
       "      <td>12.000000</td>\n",
       "    </tr>\n",
       "  </tbody>\n",
       "</table>\n",
       "</div>"
      ],
      "text/plain": [
       "               price  registrationyear          power        mileage  \\\n",
       "count  271236.000000     271236.000000  271236.000000  271236.000000   \n",
       "mean     3587.375724       2002.390604     103.115774  132129.252754   \n",
       "std      3139.455275          4.713636      51.284131   33332.441315   \n",
       "min         0.000000       1992.000000       0.000000    5000.000000   \n",
       "25%      1100.000000       1999.000000      71.000000  125000.000000   \n",
       "50%      2500.000000       2002.000000     102.000000  150000.000000   \n",
       "75%      5350.000000       2006.000000     140.000000  150000.000000   \n",
       "max     12950.000000       2013.000000     231.000000  150000.000000   \n",
       "\n",
       "       registrationmonth  \n",
       "count      271236.000000  \n",
       "mean            5.935801  \n",
       "std             3.636323  \n",
       "min             0.000000  \n",
       "25%             3.000000  \n",
       "50%             6.000000  \n",
       "75%             9.000000  \n",
       "max            12.000000  "
      ]
     },
     "execution_count": 53,
     "metadata": {},
     "output_type": "execute_result"
    }
   ],
   "source": [
    "# Descriptive statistics\n",
    "cars.describe()"
   ]
  },
  {
   "cell_type": "markdown",
   "metadata": {},
   "source": [
    "<div style=\"color: #196CC4;\">\n",
    "<b>Escalación de datos</b><br>\n",
    "▶ La técnica de escalar datos es comúnmente utilizada en el preprocesamiento de datos para poner todas las características (features) en una misma escala. <br>\n",
    "▶ A continuación se escalan las características 'price', 'power' y 'mileage' en el conjunto de datos, para normalizar características.\n",
    "</div>"
   ]
  },
  {
   "cell_type": "code",
   "execution_count": 54,
   "metadata": {},
   "outputs": [],
   "source": [
    "# Inicializer\n",
    "escalador = MinMaxScaler()\n",
    "\n",
    "# Transformation\n",
    "#cars[['price','power', 'mileage']] = escalador.fit_transform(cars[['price', 'power', 'mileage']])\n",
    "cars[['power', 'mileage']] = escalador.fit_transform(cars[['power', 'mileage']])"
   ]
  },
  {
   "cell_type": "code",
   "execution_count": 55,
   "metadata": {},
   "outputs": [
    {
     "data": {
      "text/html": [
       "<div>\n",
       "<style scoped>\n",
       "    .dataframe tbody tr th:only-of-type {\n",
       "        vertical-align: middle;\n",
       "    }\n",
       "\n",
       "    .dataframe tbody tr th {\n",
       "        vertical-align: top;\n",
       "    }\n",
       "\n",
       "    .dataframe thead th {\n",
       "        text-align: right;\n",
       "    }\n",
       "</style>\n",
       "<table border=\"1\" class=\"dataframe\">\n",
       "  <thead>\n",
       "    <tr style=\"text-align: right;\">\n",
       "      <th></th>\n",
       "      <th>power</th>\n",
       "      <th>mileage</th>\n",
       "    </tr>\n",
       "  </thead>\n",
       "  <tbody>\n",
       "    <tr>\n",
       "      <th>2</th>\n",
       "      <td>0.705628</td>\n",
       "      <td>0.827586</td>\n",
       "    </tr>\n",
       "    <tr>\n",
       "      <th>3</th>\n",
       "      <td>0.324675</td>\n",
       "      <td>1.000000</td>\n",
       "    </tr>\n",
       "    <tr>\n",
       "      <th>4</th>\n",
       "      <td>0.298701</td>\n",
       "      <td>0.586207</td>\n",
       "    </tr>\n",
       "    <tr>\n",
       "      <th>5</th>\n",
       "      <td>0.441558</td>\n",
       "      <td>1.000000</td>\n",
       "    </tr>\n",
       "    <tr>\n",
       "      <th>6</th>\n",
       "      <td>0.471861</td>\n",
       "      <td>1.000000</td>\n",
       "    </tr>\n",
       "    <tr>\n",
       "      <th>...</th>\n",
       "      <td>...</td>\n",
       "      <td>...</td>\n",
       "    </tr>\n",
       "    <tr>\n",
       "      <th>354100</th>\n",
       "      <td>0.974026</td>\n",
       "      <td>1.000000</td>\n",
       "    </tr>\n",
       "    <tr>\n",
       "      <th>354101</th>\n",
       "      <td>0.000000</td>\n",
       "      <td>1.000000</td>\n",
       "    </tr>\n",
       "    <tr>\n",
       "      <th>354104</th>\n",
       "      <td>0.437229</td>\n",
       "      <td>0.827586</td>\n",
       "    </tr>\n",
       "    <tr>\n",
       "      <th>354105</th>\n",
       "      <td>0.441558</td>\n",
       "      <td>1.000000</td>\n",
       "    </tr>\n",
       "    <tr>\n",
       "      <th>354106</th>\n",
       "      <td>0.432900</td>\n",
       "      <td>1.000000</td>\n",
       "    </tr>\n",
       "  </tbody>\n",
       "</table>\n",
       "<p>271236 rows × 2 columns</p>\n",
       "</div>"
      ],
      "text/plain": [
       "           power   mileage\n",
       "2       0.705628  0.827586\n",
       "3       0.324675  1.000000\n",
       "4       0.298701  0.586207\n",
       "5       0.441558  1.000000\n",
       "6       0.471861  1.000000\n",
       "...          ...       ...\n",
       "354100  0.974026  1.000000\n",
       "354101  0.000000  1.000000\n",
       "354104  0.437229  0.827586\n",
       "354105  0.441558  1.000000\n",
       "354106  0.432900  1.000000\n",
       "\n",
       "[271236 rows x 2 columns]"
      ]
     },
     "metadata": {},
     "output_type": "display_data"
    },
    {
     "data": {
      "text/html": [
       "<div>\n",
       "<style scoped>\n",
       "    .dataframe tbody tr th:only-of-type {\n",
       "        vertical-align: middle;\n",
       "    }\n",
       "\n",
       "    .dataframe tbody tr th {\n",
       "        vertical-align: top;\n",
       "    }\n",
       "\n",
       "    .dataframe thead th {\n",
       "        text-align: right;\n",
       "    }\n",
       "</style>\n",
       "<table border=\"1\" class=\"dataframe\">\n",
       "  <thead>\n",
       "    <tr style=\"text-align: right;\">\n",
       "      <th></th>\n",
       "      <th>price</th>\n",
       "      <th>vehicletype</th>\n",
       "      <th>registrationyear</th>\n",
       "      <th>gearbox</th>\n",
       "      <th>power</th>\n",
       "      <th>mileage</th>\n",
       "      <th>registrationmonth</th>\n",
       "      <th>fueltype</th>\n",
       "      <th>brand</th>\n",
       "      <th>notrepaired</th>\n",
       "    </tr>\n",
       "  </thead>\n",
       "  <tbody>\n",
       "    <tr>\n",
       "      <th>2</th>\n",
       "      <td>9800</td>\n",
       "      <td>suv</td>\n",
       "      <td>2004</td>\n",
       "      <td>auto</td>\n",
       "      <td>0.705628</td>\n",
       "      <td>0.827586</td>\n",
       "      <td>8</td>\n",
       "      <td>gasoline</td>\n",
       "      <td>jeep</td>\n",
       "      <td>no</td>\n",
       "    </tr>\n",
       "    <tr>\n",
       "      <th>3</th>\n",
       "      <td>1500</td>\n",
       "      <td>small</td>\n",
       "      <td>2001</td>\n",
       "      <td>manual</td>\n",
       "      <td>0.324675</td>\n",
       "      <td>1.000000</td>\n",
       "      <td>6</td>\n",
       "      <td>petrol</td>\n",
       "      <td>volkswagen</td>\n",
       "      <td>no</td>\n",
       "    </tr>\n",
       "    <tr>\n",
       "      <th>4</th>\n",
       "      <td>3600</td>\n",
       "      <td>small</td>\n",
       "      <td>2008</td>\n",
       "      <td>manual</td>\n",
       "      <td>0.298701</td>\n",
       "      <td>0.586207</td>\n",
       "      <td>7</td>\n",
       "      <td>gasoline</td>\n",
       "      <td>skoda</td>\n",
       "      <td>no</td>\n",
       "    </tr>\n",
       "    <tr>\n",
       "      <th>5</th>\n",
       "      <td>650</td>\n",
       "      <td>sedan</td>\n",
       "      <td>1995</td>\n",
       "      <td>manual</td>\n",
       "      <td>0.441558</td>\n",
       "      <td>1.000000</td>\n",
       "      <td>10</td>\n",
       "      <td>petrol</td>\n",
       "      <td>bmw</td>\n",
       "      <td>yes</td>\n",
       "    </tr>\n",
       "    <tr>\n",
       "      <th>6</th>\n",
       "      <td>2200</td>\n",
       "      <td>convertible</td>\n",
       "      <td>2004</td>\n",
       "      <td>manual</td>\n",
       "      <td>0.471861</td>\n",
       "      <td>1.000000</td>\n",
       "      <td>8</td>\n",
       "      <td>petrol</td>\n",
       "      <td>peugeot</td>\n",
       "      <td>no</td>\n",
       "    </tr>\n",
       "    <tr>\n",
       "      <th>...</th>\n",
       "      <td>...</td>\n",
       "      <td>...</td>\n",
       "      <td>...</td>\n",
       "      <td>...</td>\n",
       "      <td>...</td>\n",
       "      <td>...</td>\n",
       "      <td>...</td>\n",
       "      <td>...</td>\n",
       "      <td>...</td>\n",
       "      <td>...</td>\n",
       "    </tr>\n",
       "    <tr>\n",
       "      <th>354100</th>\n",
       "      <td>3200</td>\n",
       "      <td>sedan</td>\n",
       "      <td>2004</td>\n",
       "      <td>manual</td>\n",
       "      <td>0.974026</td>\n",
       "      <td>1.000000</td>\n",
       "      <td>5</td>\n",
       "      <td>petrol</td>\n",
       "      <td>seat</td>\n",
       "      <td>yes</td>\n",
       "    </tr>\n",
       "    <tr>\n",
       "      <th>354101</th>\n",
       "      <td>1150</td>\n",
       "      <td>bus</td>\n",
       "      <td>2000</td>\n",
       "      <td>manual</td>\n",
       "      <td>0.000000</td>\n",
       "      <td>1.000000</td>\n",
       "      <td>3</td>\n",
       "      <td>petrol</td>\n",
       "      <td>opel</td>\n",
       "      <td>no</td>\n",
       "    </tr>\n",
       "    <tr>\n",
       "      <th>354104</th>\n",
       "      <td>1199</td>\n",
       "      <td>convertible</td>\n",
       "      <td>2000</td>\n",
       "      <td>auto</td>\n",
       "      <td>0.437229</td>\n",
       "      <td>0.827586</td>\n",
       "      <td>3</td>\n",
       "      <td>petrol</td>\n",
       "      <td>smart</td>\n",
       "      <td>no</td>\n",
       "    </tr>\n",
       "    <tr>\n",
       "      <th>354105</th>\n",
       "      <td>9200</td>\n",
       "      <td>bus</td>\n",
       "      <td>1996</td>\n",
       "      <td>manual</td>\n",
       "      <td>0.441558</td>\n",
       "      <td>1.000000</td>\n",
       "      <td>3</td>\n",
       "      <td>gasoline</td>\n",
       "      <td>volkswagen</td>\n",
       "      <td>no</td>\n",
       "    </tr>\n",
       "    <tr>\n",
       "      <th>354106</th>\n",
       "      <td>3400</td>\n",
       "      <td>wagon</td>\n",
       "      <td>2002</td>\n",
       "      <td>manual</td>\n",
       "      <td>0.432900</td>\n",
       "      <td>1.000000</td>\n",
       "      <td>6</td>\n",
       "      <td>gasoline</td>\n",
       "      <td>volkswagen</td>\n",
       "      <td>no</td>\n",
       "    </tr>\n",
       "  </tbody>\n",
       "</table>\n",
       "<p>271236 rows × 10 columns</p>\n",
       "</div>"
      ],
      "text/plain": [
       "        price  vehicletype  registrationyear gearbox     power   mileage  \\\n",
       "2        9800          suv              2004    auto  0.705628  0.827586   \n",
       "3        1500        small              2001  manual  0.324675  1.000000   \n",
       "4        3600        small              2008  manual  0.298701  0.586207   \n",
       "5         650        sedan              1995  manual  0.441558  1.000000   \n",
       "6        2200  convertible              2004  manual  0.471861  1.000000   \n",
       "...       ...          ...               ...     ...       ...       ...   \n",
       "354100   3200        sedan              2004  manual  0.974026  1.000000   \n",
       "354101   1150          bus              2000  manual  0.000000  1.000000   \n",
       "354104   1199  convertible              2000    auto  0.437229  0.827586   \n",
       "354105   9200          bus              1996  manual  0.441558  1.000000   \n",
       "354106   3400        wagon              2002  manual  0.432900  1.000000   \n",
       "\n",
       "        registrationmonth  fueltype       brand notrepaired  \n",
       "2                       8  gasoline        jeep          no  \n",
       "3                       6    petrol  volkswagen          no  \n",
       "4                       7  gasoline       skoda          no  \n",
       "5                      10    petrol         bmw         yes  \n",
       "6                       8    petrol     peugeot          no  \n",
       "...                   ...       ...         ...         ...  \n",
       "354100                  5    petrol        seat         yes  \n",
       "354101                  3    petrol        opel          no  \n",
       "354104                  3    petrol       smart          no  \n",
       "354105                  3  gasoline  volkswagen          no  \n",
       "354106                  6  gasoline  volkswagen          no  \n",
       "\n",
       "[271236 rows x 10 columns]"
      ]
     },
     "metadata": {},
     "output_type": "display_data"
    }
   ],
   "source": [
    "display(cars[['power', 'mileage']])\n",
    "display(cars)"
   ]
  },
  {
   "cell_type": "markdown",
   "metadata": {},
   "source": [
    "<div style=\"color: #196CC4;\">\n",
    "<b>Labeling para el tratamiento de las Series restantes con tipo de valor \"object\"</b><br>\n",
    "▶ One-Hot Encoding (OHE): Con columnas binarias para cada categoría. Esto se aplica en las series 'vehicletype', 'gearbox', 'fueltype', 'notrepaired' ya que tienen entre 2 y 8 valores.<br>\n",
    "▶ Codificación de etiquetas (Label Encoding): Asignando un número entero a cada categoría única. Esto se aplica en la serie 'brand'.\n",
    "</div>"
   ]
  },
  {
   "cell_type": "code",
   "execution_count": 56,
   "metadata": {},
   "outputs": [],
   "source": [
    "# OHE for Encoding\n",
    "cars = pd.get_dummies(cars, columns=['vehicletype', 'gearbox', 'fueltype', 'notrepaired'])"
   ]
  },
  {
   "cell_type": "code",
   "execution_count": 57,
   "metadata": {},
   "outputs": [],
   "source": [
    "# Label Encoding for 'Brand'\n",
    "label_encoder = LabelEncoder()\n",
    "cars['brand'] = label_encoder.fit_transform(cars['brand'])"
   ]
  },
  {
   "cell_type": "markdown",
   "metadata": {},
   "source": [
    "### Despliegue de información"
   ]
  },
  {
   "cell_type": "markdown",
   "metadata": {},
   "source": [
    "<div style=\"color: #196CC4;\">\n",
    "▶ A continuación verifico los cambios realizados en las propiedades del DataFrame 'cars' y su previsualización.<br>\n",
    "</div>"
   ]
  },
  {
   "cell_type": "code",
   "execution_count": 58,
   "metadata": {
    "scrolled": false
   },
   "outputs": [
    {
     "name": "stdout",
     "output_type": "stream",
     "text": [
      "<class 'pandas.core.frame.DataFrame'>\n",
      "Index: 271236 entries, 2 to 354106\n",
      "Data columns (total 25 columns):\n",
      " #   Column                   Non-Null Count   Dtype  \n",
      "---  ------                   --------------   -----  \n",
      " 0   price                    271236 non-null  int64  \n",
      " 1   registrationyear         271236 non-null  int64  \n",
      " 2   power                    271236 non-null  float64\n",
      " 3   mileage                  271236 non-null  float64\n",
      " 4   registrationmonth        271236 non-null  int64  \n",
      " 5   brand                    271236 non-null  int32  \n",
      " 6   vehicletype_bus          271236 non-null  bool   \n",
      " 7   vehicletype_convertible  271236 non-null  bool   \n",
      " 8   vehicletype_coupe        271236 non-null  bool   \n",
      " 9   vehicletype_other        271236 non-null  bool   \n",
      " 10  vehicletype_sedan        271236 non-null  bool   \n",
      " 11  vehicletype_small        271236 non-null  bool   \n",
      " 12  vehicletype_suv          271236 non-null  bool   \n",
      " 13  vehicletype_wagon        271236 non-null  bool   \n",
      " 14  gearbox_auto             271236 non-null  bool   \n",
      " 15  gearbox_manual           271236 non-null  bool   \n",
      " 16  fueltype_cng             271236 non-null  bool   \n",
      " 17  fueltype_electric        271236 non-null  bool   \n",
      " 18  fueltype_gasoline        271236 non-null  bool   \n",
      " 19  fueltype_hybrid          271236 non-null  bool   \n",
      " 20  fueltype_lpg             271236 non-null  bool   \n",
      " 21  fueltype_other           271236 non-null  bool   \n",
      " 22  fueltype_petrol          271236 non-null  bool   \n",
      " 23  notrepaired_no           271236 non-null  bool   \n",
      " 24  notrepaired_yes          271236 non-null  bool   \n",
      "dtypes: bool(19), float64(2), int32(1), int64(3)\n",
      "memory usage: 18.4 MB\n"
     ]
    },
    {
     "data": {
      "text/html": [
       "<div>\n",
       "<style scoped>\n",
       "    .dataframe tbody tr th:only-of-type {\n",
       "        vertical-align: middle;\n",
       "    }\n",
       "\n",
       "    .dataframe tbody tr th {\n",
       "        vertical-align: top;\n",
       "    }\n",
       "\n",
       "    .dataframe thead th {\n",
       "        text-align: right;\n",
       "    }\n",
       "</style>\n",
       "<table border=\"1\" class=\"dataframe\">\n",
       "  <thead>\n",
       "    <tr style=\"text-align: right;\">\n",
       "      <th></th>\n",
       "      <th>price</th>\n",
       "      <th>registrationyear</th>\n",
       "      <th>power</th>\n",
       "      <th>mileage</th>\n",
       "      <th>registrationmonth</th>\n",
       "      <th>brand</th>\n",
       "      <th>vehicletype_bus</th>\n",
       "      <th>vehicletype_convertible</th>\n",
       "      <th>vehicletype_coupe</th>\n",
       "      <th>vehicletype_other</th>\n",
       "      <th>...</th>\n",
       "      <th>gearbox_manual</th>\n",
       "      <th>fueltype_cng</th>\n",
       "      <th>fueltype_electric</th>\n",
       "      <th>fueltype_gasoline</th>\n",
       "      <th>fueltype_hybrid</th>\n",
       "      <th>fueltype_lpg</th>\n",
       "      <th>fueltype_other</th>\n",
       "      <th>fueltype_petrol</th>\n",
       "      <th>notrepaired_no</th>\n",
       "      <th>notrepaired_yes</th>\n",
       "    </tr>\n",
       "  </thead>\n",
       "  <tbody>\n",
       "    <tr>\n",
       "      <th>2</th>\n",
       "      <td>9800</td>\n",
       "      <td>2004</td>\n",
       "      <td>0.705628</td>\n",
       "      <td>0.827586</td>\n",
       "      <td>8</td>\n",
       "      <td>14</td>\n",
       "      <td>False</td>\n",
       "      <td>False</td>\n",
       "      <td>False</td>\n",
       "      <td>False</td>\n",
       "      <td>...</td>\n",
       "      <td>False</td>\n",
       "      <td>False</td>\n",
       "      <td>False</td>\n",
       "      <td>True</td>\n",
       "      <td>False</td>\n",
       "      <td>False</td>\n",
       "      <td>False</td>\n",
       "      <td>False</td>\n",
       "      <td>True</td>\n",
       "      <td>False</td>\n",
       "    </tr>\n",
       "    <tr>\n",
       "      <th>3</th>\n",
       "      <td>1500</td>\n",
       "      <td>2001</td>\n",
       "      <td>0.324675</td>\n",
       "      <td>1.000000</td>\n",
       "      <td>6</td>\n",
       "      <td>38</td>\n",
       "      <td>False</td>\n",
       "      <td>False</td>\n",
       "      <td>False</td>\n",
       "      <td>False</td>\n",
       "      <td>...</td>\n",
       "      <td>True</td>\n",
       "      <td>False</td>\n",
       "      <td>False</td>\n",
       "      <td>False</td>\n",
       "      <td>False</td>\n",
       "      <td>False</td>\n",
       "      <td>False</td>\n",
       "      <td>True</td>\n",
       "      <td>True</td>\n",
       "      <td>False</td>\n",
       "    </tr>\n",
       "    <tr>\n",
       "      <th>4</th>\n",
       "      <td>3600</td>\n",
       "      <td>2008</td>\n",
       "      <td>0.298701</td>\n",
       "      <td>0.586207</td>\n",
       "      <td>7</td>\n",
       "      <td>31</td>\n",
       "      <td>False</td>\n",
       "      <td>False</td>\n",
       "      <td>False</td>\n",
       "      <td>False</td>\n",
       "      <td>...</td>\n",
       "      <td>True</td>\n",
       "      <td>False</td>\n",
       "      <td>False</td>\n",
       "      <td>True</td>\n",
       "      <td>False</td>\n",
       "      <td>False</td>\n",
       "      <td>False</td>\n",
       "      <td>False</td>\n",
       "      <td>True</td>\n",
       "      <td>False</td>\n",
       "    </tr>\n",
       "    <tr>\n",
       "      <th>5</th>\n",
       "      <td>650</td>\n",
       "      <td>1995</td>\n",
       "      <td>0.441558</td>\n",
       "      <td>1.000000</td>\n",
       "      <td>10</td>\n",
       "      <td>2</td>\n",
       "      <td>False</td>\n",
       "      <td>False</td>\n",
       "      <td>False</td>\n",
       "      <td>False</td>\n",
       "      <td>...</td>\n",
       "      <td>True</td>\n",
       "      <td>False</td>\n",
       "      <td>False</td>\n",
       "      <td>False</td>\n",
       "      <td>False</td>\n",
       "      <td>False</td>\n",
       "      <td>False</td>\n",
       "      <td>True</td>\n",
       "      <td>False</td>\n",
       "      <td>True</td>\n",
       "    </tr>\n",
       "    <tr>\n",
       "      <th>6</th>\n",
       "      <td>2200</td>\n",
       "      <td>2004</td>\n",
       "      <td>0.471861</td>\n",
       "      <td>1.000000</td>\n",
       "      <td>8</td>\n",
       "      <td>25</td>\n",
       "      <td>False</td>\n",
       "      <td>True</td>\n",
       "      <td>False</td>\n",
       "      <td>False</td>\n",
       "      <td>...</td>\n",
       "      <td>True</td>\n",
       "      <td>False</td>\n",
       "      <td>False</td>\n",
       "      <td>False</td>\n",
       "      <td>False</td>\n",
       "      <td>False</td>\n",
       "      <td>False</td>\n",
       "      <td>True</td>\n",
       "      <td>True</td>\n",
       "      <td>False</td>\n",
       "    </tr>\n",
       "  </tbody>\n",
       "</table>\n",
       "<p>5 rows × 25 columns</p>\n",
       "</div>"
      ],
      "text/plain": [
       "   price  registrationyear     power   mileage  registrationmonth  brand  \\\n",
       "2   9800              2004  0.705628  0.827586                  8     14   \n",
       "3   1500              2001  0.324675  1.000000                  6     38   \n",
       "4   3600              2008  0.298701  0.586207                  7     31   \n",
       "5    650              1995  0.441558  1.000000                 10      2   \n",
       "6   2200              2004  0.471861  1.000000                  8     25   \n",
       "\n",
       "   vehicletype_bus  vehicletype_convertible  vehicletype_coupe  \\\n",
       "2            False                    False              False   \n",
       "3            False                    False              False   \n",
       "4            False                    False              False   \n",
       "5            False                    False              False   \n",
       "6            False                     True              False   \n",
       "\n",
       "   vehicletype_other  ...  gearbox_manual  fueltype_cng  fueltype_electric  \\\n",
       "2              False  ...           False         False              False   \n",
       "3              False  ...            True         False              False   \n",
       "4              False  ...            True         False              False   \n",
       "5              False  ...            True         False              False   \n",
       "6              False  ...            True         False              False   \n",
       "\n",
       "   fueltype_gasoline  fueltype_hybrid  fueltype_lpg  fueltype_other  \\\n",
       "2               True            False         False           False   \n",
       "3              False            False         False           False   \n",
       "4               True            False         False           False   \n",
       "5              False            False         False           False   \n",
       "6              False            False         False           False   \n",
       "\n",
       "   fueltype_petrol  notrepaired_no  notrepaired_yes  \n",
       "2            False            True            False  \n",
       "3             True            True            False  \n",
       "4            False            True            False  \n",
       "5             True           False             True  \n",
       "6             True            True            False  \n",
       "\n",
       "[5 rows x 25 columns]"
      ]
     },
     "metadata": {},
     "output_type": "display_data"
    }
   ],
   "source": [
    "# Data displayment\n",
    "cars.info()\n",
    "display(cars.head(5))"
   ]
  },
  {
   "cell_type": "markdown",
   "metadata": {},
   "source": [
    "### Inicialización para los modelos"
   ]
  },
  {
   "cell_type": "markdown",
   "metadata": {},
   "source": [
    "<div style=\"color: #196CC4;\">\n",
    "<b>A continuación se dividen los datos fuente de la siguiente manera para llegar a una proporción de 3:1:1:</b><br>\n",
    "▶ 60% Dataset para el entrenamiento<br>\n",
    "▶ 20% Dataset de validación<br>\n",
    "▶ 20% Dataset de prueba<br><br>\n",
    "Cuanto más grande sea el conjunto de entrenamiento, más datos tendrá el modelo para aprender patrones y relaciones en los datos. Por otro lado el dataset de validación servirá para evaluar el rendimiento del modelo y el dataset de prueba esperará al final para evaluar el rendimiento final del modelo  (cuando haya terminado el proceso de entrenamiento y validación).\n",
    "</div>"
   ]
  },
  {
   "cell_type": "code",
   "execution_count": 59,
   "metadata": {},
   "outputs": [],
   "source": [
    "# Split the data into a training set (80%) and a test set (20%)\n",
    "#df_train, df_test = train_test_split(cars, test_size=0.8, random_state=12345)\n",
    "\n",
    "# Split the data into a training set (60%), a validation set (20%), and a test set (20%)\n",
    "df_train, remaining_data = train_test_split(cars, test_size=0.4, random_state=12345)\n",
    "df_valid, df_test = train_test_split(remaining_data, test_size=0.5, random_state=12345)"
   ]
  },
  {
   "cell_type": "markdown",
   "metadata": {},
   "source": [
    "<div style=\"color: #196CC4;\">\n",
    "▶ En estas líneas de código se están preparando los datos para el entrenamiento y la prueba de un modelo de aprendizaje automático. Se realiza una separación entre las características (features) y la variable objetivo (target) en cada conjunto de datos.<br>\n",
    "</div>"
   ]
  },
  {
   "cell_type": "code",
   "execution_count": 60,
   "metadata": {},
   "outputs": [],
   "source": [
    "# Extract features and target variables from the training and validation sets\n",
    "features_train = df_train.drop(['price'], axis=1)\n",
    "target_train = df_train['price']\n",
    "\n",
    "features_valid = df_valid.drop(['price'], axis=1)\n",
    "target_valid = df_valid['price']\n",
    "\n",
    "# FINAL TESTING SETS ↓\n",
    "\n",
    "# Train + Valid OHE\n",
    "total_features_train = pd.concat([features_train, features_valid])\n",
    "total_target_train = pd.concat([target_train, target_valid])\n",
    "\n",
    "features_test = df_test.drop(['price'], axis=1)\n",
    "target_test = df_test['price']"
   ]
  },
  {
   "cell_type": "markdown",
   "metadata": {},
   "source": [
    "-----"
   ]
  },
  {
   "cell_type": "markdown",
   "metadata": {},
   "source": [
    "## Entrenamiento sin Potenciación de Gradiente"
   ]
  },
  {
   "cell_type": "markdown",
   "metadata": {},
   "source": [
    "<div style=\"color: #196CC4;\">\n",
    "A continuación se describe el proceso de entrenamiento y evaluación de tres modelos de aprendizaje automático sin potenciación de gradiente: <br>\n",
    "▶ DecisionTree <br>\n",
    "▶ Regresión Lineal<br>\n",
    "▶ Random Forest<br>\n",
    "\n",
    "Con estos datos históricos se podrán predecir los precios de automóviles y estos resultados se evalúan en función de tres criterios principales: <br>\n",
    "▶ Calidad de la predicción a través de MSE y RMSE<br>\n",
    "▶ Tiempo de entrenamiento<br>\n",
    "▶ Tiempo de predicción.</div>"
   ]
  },
  {
   "cell_type": "markdown",
   "metadata": {},
   "source": [
    "### Modelo DecisionTree"
   ]
  },
  {
   "cell_type": "markdown",
   "metadata": {},
   "source": [
    "<div style=\"color: #196CC4;\">\n",
    "▶ Un árbol de decisión es un modelo que toma decisiones dividiendo los datos en segmentos basados en preguntas o reglas simples. Cada \"nodo\" en el árbol representa una pregunta sobre una característica, cada \"rama\" es el resultado de esa pregunta, y cada \"hoja\" es una predicción final.</div>"
   ]
  },
  {
   "cell_type": "code",
   "execution_count": 61,
   "metadata": {},
   "outputs": [],
   "source": [
    "# Hyperparameters\n",
    "max_depth = 5\n",
    "min_samples_split = 2\n",
    "\n",
    "# Train\n",
    "tree_start_train_time = time.time()\n",
    "decisiontree = DecisionTreeRegressor(random_state=12345, max_depth=max_depth, min_samples_split=min_samples_split)\n",
    "decisiontree.fit(features_train, target_train)\n",
    "\n",
    "# Training time\n",
    "tree_end_train_time = time.time()\n",
    "tree_train_time = tree_end_train_time - tree_start_train_time\n",
    "\n",
    "# Price prediction\n",
    "tree_start_pred_time = time.time()\n",
    "decisiontree_pred = decisiontree.predict(features_valid)\n",
    "\n",
    "# Predictions time\n",
    "tree_end_pred_time = time.time()\n",
    "tree_pred_time = tree_end_pred_time - tree_start_pred_time"
   ]
  },
  {
   "cell_type": "code",
   "execution_count": 62,
   "metadata": {},
   "outputs": [
    {
     "name": "stdout",
     "output_type": "stream",
     "text": [
      "Modelo DecisionTree\n",
      "\n",
      "Calidad de predicciones:\n",
      "Mean Squared Error (MSE): 2975726.1010329495\n",
      "Root Mean Squared Error (RMSE): 1725.0293043983193\n",
      "Mean Absolute Percentage Error (MAPE): 2.325411609911504e+17\n",
      "\n",
      "Tiempo de entrenamiento: 0.1955549716949463 seconds\n",
      "Tiempo de predicción: 0.009880542755126953 seconds\n"
     ]
    }
   ],
   "source": [
    "# Quality of prediction metrics\n",
    "tree_mse = mean_squared_error(target_valid, decisiontree_pred)\n",
    "tree_rmse = tree_mse ** 0.5\n",
    "tree_mape = mean_absolute_percentage_error(target_valid, decisiontree_pred)\n",
    "\n",
    "# Print DecisionTree Model\n",
    "print(\"Modelo DecisionTree\")\n",
    "print()\n",
    "\n",
    "# Print metrics\n",
    "print(\"Calidad de predicciones:\")\n",
    "print(\"Mean Squared Error (MSE):\", tree_mse)\n",
    "print(\"Root Mean Squared Error (RMSE):\", tree_rmse)\n",
    "print(\"Mean Absolute Percentage Error (MAPE):\", tree_mape)\n",
    "print()\n",
    "\n",
    "# Print time\n",
    "print(\"Tiempo de entrenamiento:\", tree_train_time, \"seconds\")\n",
    "print(\"Tiempo de predicción:\", tree_pred_time, \"seconds\")"
   ]
  },
  {
   "cell_type": "markdown",
   "metadata": {},
   "source": [
    "### Regresión lineal"
   ]
  },
  {
   "cell_type": "markdown",
   "metadata": {},
   "source": [
    "<div style=\"color: #196CC4;\">\n",
    "▶ La regresión lineal es un modelo que asume que hay una relación recta entre las características de un objeto y su valor, de esta forma trata de encontrar la línea recta que mejor se ajusta a los datos para hacer predicciones. Si pensamos en un gráfico, la regresión lineal busca la línea que mejor describa cómo cambia el precio a medida que se modifican los parámetros del automóvil.</div>"
   ]
  },
  {
   "cell_type": "code",
   "execution_count": 63,
   "metadata": {},
   "outputs": [],
   "source": [
    "# Model\n",
    "linear_reg = LinearRegression()\n",
    "\n",
    "# Train\n",
    "rlineal_start_train_time = time.time()\n",
    "linear_reg.fit(features_train, target_train)\n",
    "\n",
    "# Training time\n",
    "rlineal_end_train_time = time.time()\n",
    "rlineal_train_time = rlineal_end_train_time - rlineal_start_train_time\n",
    "\n",
    "# Price prediction\n",
    "rlineal_start_pred_time = time.time()\n",
    "linear_reg_pred = linear_reg.predict(features_valid)\n",
    "\n",
    "# Predictions time\n",
    "rlineal_end_pred_time = time.time()\n",
    "rlineal_pred_time = rlineal_end_pred_time - rlineal_start_pred_time"
   ]
  },
  {
   "cell_type": "code",
   "execution_count": 64,
   "metadata": {},
   "outputs": [
    {
     "name": "stdout",
     "output_type": "stream",
     "text": [
      "Modelo Regresión lineal\n",
      "\n",
      "Calidad de predicciones:\n",
      "Mean Squared Error (MSE): 3425450.8321811836\n",
      "Root Mean Squared Error (RMSE): 1850.797350382041\n",
      "Mean Absolute Percentage Error (MAPE): 2.388739192612065e+17\n",
      "\n",
      "Tiempo de entrenamiento: 0.2594165802001953 seconds\n",
      "Tiempo de predicción: 0.011917591094970703 seconds\n"
     ]
    }
   ],
   "source": [
    "# Quality of prediction metrics\n",
    "rlineal_mse = mean_squared_error(target_valid, linear_reg_pred)\n",
    "rlineal_rmse = rlineal_mse ** 0.5\n",
    "rlineal_mape = mean_absolute_percentage_error(target_valid, linear_reg_pred)\n",
    "\n",
    "# Print LinealRegression\n",
    "print(\"Modelo Regresión lineal\")\n",
    "print()\n",
    "\n",
    "# Print metrics\n",
    "print(\"Calidad de predicciones:\")\n",
    "print(\"Mean Squared Error (MSE):\", rlineal_mse)\n",
    "print(\"Root Mean Squared Error (RMSE):\", rlineal_rmse)\n",
    "print(\"Mean Absolute Percentage Error (MAPE):\", rlineal_mape)\n",
    "print()\n",
    "\n",
    "# Print time\n",
    "print(\"Tiempo de entrenamiento:\", rlineal_train_time, \"seconds\")\n",
    "print(\"Tiempo de predicción:\", rlineal_pred_time, \"seconds\")"
   ]
  },
  {
   "cell_type": "markdown",
   "metadata": {},
   "source": [
    "### Random Forest"
   ]
  },
  {
   "cell_type": "markdown",
   "metadata": {},
   "source": [
    "<div style=\"color: #196CC4;\">\n",
    "▶ El Random Forest es un conjunto de muchos árboles de decisión que trabajan juntos. Cada árbol se entrena con diferentes partes del conjunto de datos y sus resultados se combinan para hacer una predicción más precisa y robusta.</div>"
   ]
  },
  {
   "cell_type": "code",
   "execution_count": 65,
   "metadata": {},
   "outputs": [],
   "source": [
    "# Parameters\n",
    "param_dist_forest = {\n",
    "    'n_estimators': [50, 100, 150],\n",
    "    'max_depth': [3, 5, 7],\n",
    "    'min_samples_leaf': [1, 3, 5],\n",
    "    'min_samples_split': [2, 4, 6]\n",
    "}\n",
    "\n",
    "# Randomized search & cross-validation\n",
    "random_search_forest = RandomizedSearchCV(RandomForestRegressor(random_state=12345), param_dist_forest, scoring='neg_mean_squared_error', cv=2, n_iter=10)\n",
    "\n",
    "# Training\n",
    "forest_start_train_time = time.time()\n",
    "random_search_forest.fit(features_train, target_train)\n",
    "\n",
    "# Training time\n",
    "forest_end_train_time = time.time()\n",
    "forest_train_time = forest_end_train_time - forest_start_train_time\n",
    "\n",
    "# Best model\n",
    "best_model_forest = random_search_forest.best_estimator_\n",
    "\n",
    "# Predictions\n",
    "forest_start_pred_time = time.time()\n",
    "predicted_valid_forest_random = best_model_forest.predict(features_valid)\n",
    "\n",
    "# Predictions time\n",
    "forest_end_pred_time = time.time()\n",
    "forest_pred_time = forest_end_pred_time - forest_start_pred_time"
   ]
  },
  {
   "cell_type": "code",
   "execution_count": 66,
   "metadata": {},
   "outputs": [
    {
     "name": "stdout",
     "output_type": "stream",
     "text": [
      "Modelo Random Forest\n",
      "\n",
      "Calidad de predicciones:\n",
      "Mean Squared Error (MSE): 2414588.9269462116\n",
      "Root Mean Squared Error (RMSE): 1553.8947605762146\n",
      "Mean Absolute Percentage Error (MAPE): 2.260626719437647e+17\n",
      "\n",
      "Tiempo de entrenamiento: 134.9140751361847 seconds\n",
      "Tiempo de predicción: 0.3460354804992676 seconds\n"
     ]
    }
   ],
   "source": [
    "# Quality of prediction metrics\n",
    "forest_mse = mean_squared_error(target_valid, predicted_valid_forest_random)\n",
    "forest_rmse = forest_mse ** 0.5\n",
    "forest_mape = mean_absolute_percentage_error(target_valid, predicted_valid_forest_random)\n",
    "\n",
    "# Print Random Forest\n",
    "print(\"Modelo Random Forest\")\n",
    "print()\n",
    "\n",
    "# Print metrics\n",
    "print(\"Calidad de predicciones:\")\n",
    "print(\"Mean Squared Error (MSE):\", forest_mse)\n",
    "print(\"Root Mean Squared Error (RMSE):\", forest_rmse)\n",
    "print(\"Mean Absolute Percentage Error (MAPE):\", forest_mape)\n",
    "print()\n",
    "\n",
    "# Print time\n",
    "print(\"Tiempo de entrenamiento:\", forest_train_time, \"seconds\")\n",
    "print(\"Tiempo de predicción:\", forest_pred_time, \"seconds\")"
   ]
  },
  {
   "cell_type": "markdown",
   "metadata": {},
   "source": [
    "-----"
   ]
  },
  {
   "cell_type": "markdown",
   "metadata": {},
   "source": [
    "## Entrenamiento con Potenciación de Gradiente"
   ]
  },
  {
   "cell_type": "markdown",
   "metadata": {},
   "source": [
    "<div style=\"color: #196CC4;\">\n",
    "<b>Potenciación del gradiente</b> es una técnica utilizada en aprendizaje automático para mejorar la precisión de los modelos de predicción, como los árboles de decisión. En lugar de entrenar un solo árbol y esperar que sea perfecto, la potenciación del gradiente trabaja en conjunto con muchos árboles pequeños, cada uno de los cuales aprende de los errores del anterior.<br>\n",
    "\n",
    "A continuación se describe el proceso de entrenamiento y evaluación de tres modelos de aprendizaje automático con potenciación de gradiente: <br>\n",
    "▶ Light Gradient Boosting Machine (LGBM)<br>\n",
    "▶ CatBoost<br>\n",
    "▶ XGBoost<br>\n",
    "\n",
    "De igual forma con estos datos históricos se podrán predecir los precios de automóviles y estos resultados se evalúan en función de tres criterios principales: <br>\n",
    "▶ Calidad de la predicción a través de MSE y RMSE<br>\n",
    "▶ Tiempo de entrenamiento<br>\n",
    "▶ Tiempo de predicción.</div>\n",
    "</div>"
   ]
  },
  {
   "cell_type": "markdown",
   "metadata": {},
   "source": [
    "### LGBM"
   ]
  },
  {
   "cell_type": "markdown",
   "metadata": {},
   "source": [
    "<div style=\"color: #196CC4;\">\n",
    "▶ <b>LGBM</b> es un algoritmo de potenciación de gradiente que también utiliza árboles de decisión; es muy eficiente y rápido, ideal para grandes conjuntos de datos. LGBM también entrena árboles uno tras otro, cada uno aprendiendo de los errores del anterior para mejorar la predicción.</div>"
   ]
  },
  {
   "cell_type": "code",
   "execution_count": 67,
   "metadata": {},
   "outputs": [
    {
     "name": "stdout",
     "output_type": "stream",
     "text": [
      "[LightGBM] [Info] Auto-choosing row-wise multi-threading, the overhead of testing was 0.003102 seconds.\n",
      "You can set `force_row_wise=true` to remove the overhead.\n",
      "And if memory is not enough, you can set `force_col_wise=true`.\n",
      "[LightGBM] [Info] Total Bins 346\n",
      "[LightGBM] [Info] Number of data points in the train set: 162741, number of used features: 24\n",
      "[LightGBM] [Info] Start training from score 3588.844753\n"
     ]
    }
   ],
   "source": [
    "# Hyperparameters\n",
    "lgbm = LGBMRegressor(\n",
    "    objective='regression',\n",
    "    num_leaves=35,\n",
    "    seed=23\n",
    ")\n",
    "\n",
    "# Training\n",
    "lgbm_start_train_time = time.time()\n",
    "lgbm.fit(features_train, target_train)\n",
    "\n",
    "# Training time\n",
    "lgbm_end_train_time = time.time()\n",
    "lgbm_train_time = lgbm_end_train_time - lgbm_start_train_time\n",
    "\n",
    "# Predictions\n",
    "lgbm_start_pred_time = time.time()\n",
    "lgbm_predicted_valid = lgbm.predict(features_valid)\n",
    "\n",
    "# Predictions time\n",
    "lgbm_end_pred_time = time.time()\n",
    "lgbm_pred_time = lgbm_end_pred_time - lgbm_start_pred_time"
   ]
  },
  {
   "cell_type": "code",
   "execution_count": 68,
   "metadata": {},
   "outputs": [
    {
     "name": "stdout",
     "output_type": "stream",
     "text": [
      "Modelo LGBM\n",
      "\n",
      "Calidad de predicciones:\n",
      "Mean Squared Error (MSE): 1651852.9482498362\n",
      "Root Mean Squared Error (RMSE): 1285.2443146148657\n",
      "Mean Absolute Percentage Error (MAPE): 2.1233470751532112e+17\n",
      "\n",
      "Tiempo de entrenamiento: 0.44679689407348633 seconds\n",
      "Tiempo de predicción: 0.04713726043701172 seconds\n"
     ]
    }
   ],
   "source": [
    "# Quality of prediction metrics\n",
    "lgbm_mse = mean_squared_error(target_valid, lgbm_predicted_valid)\n",
    "lgbm_rmse = lgbm_mse ** 0.5\n",
    "lgbm_mape = mean_absolute_percentage_error(target_valid, lgbm_predicted_valid)\n",
    "\n",
    "# Print LGBM\n",
    "print(\"Modelo LGBM\")\n",
    "print()\n",
    "\n",
    "# Print metrics\n",
    "print(\"Calidad de predicciones:\")\n",
    "print(\"Mean Squared Error (MSE):\", lgbm_mse)\n",
    "print(\"Root Mean Squared Error (RMSE):\", lgbm_rmse)\n",
    "print(\"Mean Absolute Percentage Error (MAPE):\", lgbm_mape)\n",
    "print()\n",
    "\n",
    "# Print time\n",
    "print(\"Tiempo de entrenamiento:\", lgbm_train_time, \"seconds\")\n",
    "print(\"Tiempo de predicción:\", lgbm_pred_time, \"seconds\")"
   ]
  },
  {
   "cell_type": "markdown",
   "metadata": {},
   "source": [
    "### CatBoost"
   ]
  },
  {
   "cell_type": "markdown",
   "metadata": {},
   "source": [
    "<div style=\"color: #196CC4;\">\n",
    "▶ <b>CatBoost</b> es un algoritmo de aprendizaje automático diseñado específicamente para problemas de regresión y clasificación. Utiliza un método de aumento de gradiente que entrena una serie de árboles de decisión. \n",
    "</div>"
   ]
  },
  {
   "cell_type": "code",
   "execution_count": 69,
   "metadata": {},
   "outputs": [],
   "source": [
    "# Hyperparameters\n",
    "catboost = CatBoostRegressor(\n",
    "    loss_function='RMSE',\n",
    "    iterations=100,\n",
    "    learning_rate=0.05,\n",
    "    depth=6,\n",
    "    random_seed=23\n",
    ")\n",
    "\n",
    "# Training\n",
    "catboost_start_train_time = time.time()\n",
    "catboost.fit(features_train, target_train, verbose=False)\n",
    "\n",
    "# Training time\n",
    "catboost_end_train_time = time.time()\n",
    "catboost_train_time = catboost_end_train_time - catboost_start_train_time\n",
    "\n",
    "# Predictions\n",
    "catboost_start_pred_time = time.time()\n",
    "catboost_predicted_valid = catboost.predict(features_valid)\n",
    "\n",
    "# Predictions time\n",
    "catboost_end_pred_time = time.time()\n",
    "catboost_pred_time = catboost_end_pred_time - catboost_start_pred_time\n"
   ]
  },
  {
   "cell_type": "code",
   "execution_count": 70,
   "metadata": {},
   "outputs": [
    {
     "name": "stdout",
     "output_type": "stream",
     "text": [
      "Modelo CatBoost\n",
      "\n",
      "Calidad de predicciones:\n",
      "Mean Squared Error (MSE): 2001682.4135732444\n",
      "Root Mean Squared Error (RMSE): 1414.8082603565913\n",
      "Mean Absolute Percentage Error (MAPE): 2.2214954381836336e+17\n",
      "\n",
      "Tiempo de entrenamiento: 0.7473475933074951 seconds\n",
      "Tiempo de predicción: 0.0 seconds\n"
     ]
    }
   ],
   "source": [
    "# Quality of prediction metrics\n",
    "catboost_mse = mean_squared_error(target_valid, catboost_predicted_valid)\n",
    "catboost_rmse = catboost_mse ** 0.5\n",
    "catboost_mape = mean_absolute_percentage_error(target_valid, catboost_predicted_valid)\n",
    "\n",
    "# Print CatBoost\n",
    "print(\"Modelo CatBoost\")\n",
    "print()\n",
    "\n",
    "# Print metrics\n",
    "print(\"Calidad de predicciones:\")\n",
    "print(\"Mean Squared Error (MSE):\", catboost_mse)\n",
    "print(\"Root Mean Squared Error (RMSE):\", catboost_rmse)\n",
    "print(\"Mean Absolute Percentage Error (MAPE):\", catboost_mape)\n",
    "print()\n",
    "\n",
    "# Print time\n",
    "print(\"Tiempo de entrenamiento:\", catboost_train_time, \"seconds\")\n",
    "print(\"Tiempo de predicción:\", catboost_pred_time, \"seconds\")"
   ]
  },
  {
   "cell_type": "markdown",
   "metadata": {},
   "source": [
    "### XGBoost"
   ]
  },
  {
   "cell_type": "markdown",
   "metadata": {},
   "source": [
    "<div style=\"color: #196CC4;\">\n",
    "▶ <b>XGBoost</b> es una implementación optimizada de algoritmos de gradient boosting diseñada para mejorar la precisión y eficiencia de los modelos de aprendizaje automático. Su capacidad para manejar datos dispersos y su velocidad de entrenamiento lo hacen adecuado para conjuntos de datos complejos como el nuestro.\n",
    "</div>"
   ]
  },
  {
   "cell_type": "code",
   "execution_count": 71,
   "metadata": {
    "scrolled": true
   },
   "outputs": [],
   "source": [
    "# Hyperparameters\n",
    "xgboost = XGBRegressor(\n",
    "    objective='reg:squarederror',\n",
    "    n_estimators=100,\n",
    "    learning_rate=0.05,\n",
    "    max_depth=6,\n",
    "    random_state=23\n",
    ")\n",
    "\n",
    "# Training\n",
    "xgboost_start_train_time = time.time()\n",
    "xgboost.fit(features_train, target_train)\n",
    "\n",
    "# Training time\n",
    "xgboost_end_train_time = time.time()\n",
    "xgboost_train_time = xgboost_end_train_time - xgboost_start_train_time\n",
    "\n",
    "# Predictions\n",
    "xgboost_start_pred_time = time.time()\n",
    "xgboost_predicted_valid = xgboost.predict(features_valid)\n",
    "\n",
    "# Predictions time\n",
    "xgboost_end_pred_time = time.time()\n",
    "xgboost_pred_time = xgboost_end_pred_time - xgboost_start_pred_time"
   ]
  },
  {
   "cell_type": "code",
   "execution_count": 72,
   "metadata": {},
   "outputs": [
    {
     "name": "stdout",
     "output_type": "stream",
     "text": [
      "Modelo XGBoost\n",
      "\n",
      "Calidad de predicciones:\n",
      "Mean Squared Error (MSE): 1776524.0930035997\n",
      "Root Mean Squared Error (RMSE): 1332.8631186298162\n",
      "Mean Absolute Percentage Error (MAPE): 2.163655593663008e+17\n",
      "\n",
      "Tiempo de entrenamiento: 0.3985927104949951 seconds\n",
      "Tiempo de predicción: 0.031795501708984375 seconds\n"
     ]
    }
   ],
   "source": [
    "# Quality of prediction metrics\n",
    "xgboost_mse = mean_squared_error(target_valid, xgboost_predicted_valid)\n",
    "xgboost_rmse = xgboost_mse ** 0.5\n",
    "xgboost_mape = mean_absolute_percentage_error(target_valid, xgboost_predicted_valid)\n",
    "\n",
    "# Print XGBoost\n",
    "print(\"Modelo XGBoost\")\n",
    "print()\n",
    "\n",
    "# Print metrics\n",
    "print(\"Calidad de predicciones:\")\n",
    "print(\"Mean Squared Error (MSE):\", xgboost_mse)\n",
    "print(\"Root Mean Squared Error (RMSE):\", xgboost_rmse)\n",
    "print(\"Mean Absolute Percentage Error (MAPE):\", xgboost_mape)\n",
    "print()\n",
    "\n",
    "# Print time\n",
    "print(\"Tiempo de entrenamiento:\", xgboost_train_time, \"seconds\")\n",
    "print(\"Tiempo de predicción:\", xgboost_pred_time, \"seconds\")"
   ]
  },
  {
   "cell_type": "markdown",
   "metadata": {},
   "source": [
    "-----"
   ]
  },
  {
   "cell_type": "markdown",
   "metadata": {},
   "source": [
    "## Evaluación del modelo"
   ]
  },
  {
   "cell_type": "markdown",
   "metadata": {},
   "source": [
    "<div style=\"color: #196CC4;\">\n",
    "A continuación se muestra un análisis completo de todas las métricas obtenidas en los modelos de entrenamiento con y sin Potenciación de Gradiente<br><br>\n",
    "<b>Calidad de predicciones</b> <br>   \n",
    "▶ <b>Mean Squared Error (MSE):</b> es una medida que calcula el promedio de los cuadrados de las diferencias entre los valores predichos por el modelo y los valores reales del objetivo. En este proyecto, el MSE nos indica cuán cerca están las predicciones del precio de los automóviles del valor real. Un MSE más bajo significa que el modelo tiene un mejor ajuste a los datos y predice con mayor precisión los precios de los automóviles.<br>\n",
    "▶ <b>Root Mean Squared Error (RMSE):</b> es la raíz cuadrada del MSE y proporciona una medida de la magnitud promedio de los errores en la misma unidad que la variable objetivo. Esta métrica nos ayudará evaluar la precisión del modelo en nuestro proyecto. Un RMSE más bajo indica que el modelo tiene una mejor precisión en la predicción de los precios de los automóviles.<br>\n",
    "▶ <b>Mean Absolute Percentage Error (MAPE):</b> es una métrica de evaluación utilizada en problemas de predicción para medir la precisión de un modelo en términos de porcentaje de error en las predicciones. En este caso cuanto más bajo sea el valor de MAPE, mejor será la capacidad del modelo para predecir con precisión los precios de los automóviles.<br>\n",
    "▶ <b>Comparativa:</b>El Mean Absolute Percentage Error (MAPE) es una métrica relativa porque calcula el error como un porcentaje del valor real. En contraste con el Mean Squared Error (MSE) o el Root Mean Squared Error (RMSE), que proporcionan una medida absoluta del error en las mismas unidades que la variable de salida, el MAPE mide el error como una proporción del valor real. Esto hace que el MAPE sea una medida relativa que describe la precisión del modelo en relación con el tamaño de los valores reales.<br><br>\n",
    "<b>Tiempo</b><br>    \n",
    "▶ <b>Tiempo de entrenamiento:</b> nos indica cuánto tiempo lleva construir y ajustar el modelo a partir de los datos de entrenamiento. Un menor tiempo de entrenamiento es preferible, ya que permite desarrollar y ajustar modelos más rápidamente.<br>\n",
    "▶ <b>Velocidad de Predicción:</b> nos indica cuánto tiempo lleva al modelo hacer predicciones sobre nuevos datos después de haber sido entrenado. Una velocidad de predicción más rápida es deseable, especialmente en aplicaciones en tiempo real donde las predicciones deben ser generadas rápidamente.<br>\n",
    "</div>"
   ]
  },
  {
   "cell_type": "markdown",
   "metadata": {},
   "source": [
    "### Resumen de métricas"
   ]
  },
  {
   "cell_type": "markdown",
   "metadata": {},
   "source": [
    "<div style=\"color: #196CC4;\">\n",
    "▶ A continuación se muestran todas las métricas obtenidas para todos los modelos utilizados a lo largo del proyecto\n",
    "</div>"
   ]
  },
  {
   "cell_type": "code",
   "execution_count": 73,
   "metadata": {},
   "outputs": [
    {
     "data": {
      "text/html": [
       "<div>\n",
       "<style scoped>\n",
       "    .dataframe tbody tr th:only-of-type {\n",
       "        vertical-align: middle;\n",
       "    }\n",
       "\n",
       "    .dataframe tbody tr th {\n",
       "        vertical-align: top;\n",
       "    }\n",
       "\n",
       "    .dataframe thead th {\n",
       "        text-align: right;\n",
       "    }\n",
       "</style>\n",
       "<table border=\"1\" class=\"dataframe\">\n",
       "  <thead>\n",
       "    <tr style=\"text-align: right;\">\n",
       "      <th></th>\n",
       "      <th>Modelo</th>\n",
       "      <th>Mean Squared Error (MSE)</th>\n",
       "      <th>Root Mean Squared Error (RMSE)</th>\n",
       "      <th>Mean Absolute Percentage Error (MAPE)</th>\n",
       "      <th>Tiempo de entrenamiento (segundos)</th>\n",
       "      <th>Tiempo de predicción (segundos)</th>\n",
       "    </tr>\n",
       "  </thead>\n",
       "  <tbody>\n",
       "    <tr>\n",
       "      <th>0</th>\n",
       "      <td>DecisionTree</td>\n",
       "      <td>2.975726e+06</td>\n",
       "      <td>1725.029304</td>\n",
       "      <td>2.325412e+17</td>\n",
       "      <td>0.195555</td>\n",
       "      <td>0.009881</td>\n",
       "    </tr>\n",
       "    <tr>\n",
       "      <th>1</th>\n",
       "      <td>Regresión lineal</td>\n",
       "      <td>3.425451e+06</td>\n",
       "      <td>1850.797350</td>\n",
       "      <td>2.388739e+17</td>\n",
       "      <td>0.259417</td>\n",
       "      <td>0.011918</td>\n",
       "    </tr>\n",
       "    <tr>\n",
       "      <th>2</th>\n",
       "      <td>Random Forest</td>\n",
       "      <td>2.414589e+06</td>\n",
       "      <td>1553.894761</td>\n",
       "      <td>2.260627e+17</td>\n",
       "      <td>134.914075</td>\n",
       "      <td>0.346035</td>\n",
       "    </tr>\n",
       "    <tr>\n",
       "      <th>3</th>\n",
       "      <td>LGBM</td>\n",
       "      <td>1.651853e+06</td>\n",
       "      <td>1285.244315</td>\n",
       "      <td>2.123347e+17</td>\n",
       "      <td>0.446797</td>\n",
       "      <td>0.047137</td>\n",
       "    </tr>\n",
       "    <tr>\n",
       "      <th>4</th>\n",
       "      <td>CatBoost</td>\n",
       "      <td>2.001682e+06</td>\n",
       "      <td>1414.808260</td>\n",
       "      <td>2.221495e+17</td>\n",
       "      <td>0.747348</td>\n",
       "      <td>0.000000</td>\n",
       "    </tr>\n",
       "    <tr>\n",
       "      <th>5</th>\n",
       "      <td>XGBoost</td>\n",
       "      <td>1.776524e+06</td>\n",
       "      <td>1332.863119</td>\n",
       "      <td>2.163656e+17</td>\n",
       "      <td>0.398593</td>\n",
       "      <td>0.031796</td>\n",
       "    </tr>\n",
       "  </tbody>\n",
       "</table>\n",
       "</div>"
      ],
      "text/plain": [
       "             Modelo  Mean Squared Error (MSE)  Root Mean Squared Error (RMSE)  \\\n",
       "0      DecisionTree              2.975726e+06                     1725.029304   \n",
       "1  Regresión lineal              3.425451e+06                     1850.797350   \n",
       "2     Random Forest              2.414589e+06                     1553.894761   \n",
       "3              LGBM              1.651853e+06                     1285.244315   \n",
       "4          CatBoost              2.001682e+06                     1414.808260   \n",
       "5           XGBoost              1.776524e+06                     1332.863119   \n",
       "\n",
       "   Mean Absolute Percentage Error (MAPE)  Tiempo de entrenamiento (segundos)  \\\n",
       "0                           2.325412e+17                            0.195555   \n",
       "1                           2.388739e+17                            0.259417   \n",
       "2                           2.260627e+17                          134.914075   \n",
       "3                           2.123347e+17                            0.446797   \n",
       "4                           2.221495e+17                            0.747348   \n",
       "5                           2.163656e+17                            0.398593   \n",
       "\n",
       "   Tiempo de predicción (segundos)  \n",
       "0                         0.009881  \n",
       "1                         0.011918  \n",
       "2                         0.346035  \n",
       "3                         0.047137  \n",
       "4                         0.000000  \n",
       "5                         0.031796  "
      ]
     },
     "metadata": {},
     "output_type": "display_data"
    }
   ],
   "source": [
    "\n",
    "# Definir los datos de los modelos\n",
    "modelos = [\n",
    "    \"DecisionTree\",\n",
    "    \"Regresión lineal\",\n",
    "    \"Random Forest\",\n",
    "    \"LGBM\",\n",
    "    \"CatBoost\",\n",
    "    \"XGBoost\"\n",
    "]\n",
    "\n",
    "mse = [\n",
    "    tree_mse,\n",
    "    rlineal_mse,\n",
    "    forest_mse,\n",
    "    lgbm_mse,\n",
    "    catboost_mse,\n",
    "    xgboost_mse\n",
    "]\n",
    "\n",
    "rmse = [\n",
    "    tree_rmse,\n",
    "    rlineal_rmse,\n",
    "    forest_rmse,\n",
    "    lgbm_rmse,\n",
    "    catboost_rmse,\n",
    "    xgboost_rmse\n",
    "]\n",
    "\n",
    "mape = [\n",
    "    tree_mape,\n",
    "    rlineal_mape,\n",
    "    forest_mape,\n",
    "    lgbm_mape,\n",
    "    catboost_mape,\n",
    "    xgboost_mape\n",
    "]\n",
    "\n",
    "train_time = [\n",
    "    tree_train_time,\n",
    "    rlineal_train_time,\n",
    "    forest_train_time,\n",
    "    lgbm_train_time,\n",
    "    catboost_train_time,\n",
    "    xgboost_train_time\n",
    "]\n",
    "\n",
    "pred_time = [\n",
    "    tree_pred_time,\n",
    "    rlineal_pred_time,\n",
    "    forest_pred_time,\n",
    "    lgbm_pred_time,\n",
    "    catboost_pred_time,\n",
    "    xgboost_pred_time\n",
    "]\n",
    "\n",
    "# Crear el DataFrame\n",
    "df_metrics = pd.DataFrame({\n",
    "    \"Modelo\": modelos,\n",
    "    \"Mean Squared Error (MSE)\": mse,\n",
    "    \"Root Mean Squared Error (RMSE)\": rmse,\n",
    "    \"Mean Absolute Percentage Error (MAPE)\": mape,\n",
    "    \"Tiempo de entrenamiento (segundos)\": train_time,\n",
    "    \"Tiempo de predicción (segundos)\": pred_time\n",
    "})\n",
    "\n",
    "display(df_metrics)"
   ]
  },
  {
   "cell_type": "markdown",
   "metadata": {},
   "source": [
    "### Análisis de calidad de predicciones"
   ]
  },
  {
   "cell_type": "markdown",
   "metadata": {},
   "source": [
    "<div style=\"color: #196CC4;\">\n",
    "<b>MSE (Mean Squared Error):</b><br>\n",
    "▶ Mide la media de los errores al cuadrado, por lo que valores más bajos indican mejor rendimiento.<br>    \n",
    "▶ El modelo con el MSE más bajo es LGBM, seguido por XGBoost y Random Forest.<br>\n",
    "▶ Los modelos DecisionTree y Regresión Lineal muestran un rendimiento aceptable en términos de MSE, pero son superados por otros modelos de conjunto.<br>\n",
    "    \n",
    "<b>RMSE (Root Mean Squared Error):</b> <br>\n",
    "▶ El RMSE es una medida de la dispersión de los errores en las predicciones.<br>\n",
    "▶ Al igual que con el MSE, el modelo LGBM tiene el RMSE más bajo, seguido por XGBoost y Random Forest.<br>\n",
    "▶ DecisionTree y Regresión Lineal tienen un RMSE más alto en comparación con los modelos de conjunto.<br> \n",
    "    \n",
    "<b>LGBM muestra el mejor rendimiento en términos de MSE y RMSE, con tiempos de entrenamiento y predicción moderados.\n",
    "XGBoost y Random Forest también muestran un buen rendimiento en términos de MSE y RMSE, aunque con tiempos de entrenamiento más largos.</b>    \n",
    "</div>    "
   ]
  },
  {
   "cell_type": "markdown",
   "metadata": {},
   "source": [
    "### Análisis de velocidad y tiempo"
   ]
  },
  {
   "cell_type": "markdown",
   "metadata": {},
   "source": [
    "<div style=\"color: #196CC4;\">\n",
    "<b>Tiempo de Entrenamiento:</b><br>\n",
    "▶ El modelo con el tiempo de entrenamiento más corto es la Regresión Lineal, seguido por DecisionTree y XGBoost.<br>\n",
    "▶ LGBM, CatBoost y Random Forest muestran tiempos de entrenamiento más largos en comparación con otros modelos.<br>\n",
    "▶ A pesar de tener tiempos de entrenamiento más largos, los modelos de conjunto como LGBM, CatBoost y Random Forest proporcionan un mejor rendimiento en términos de calidad de predicción en comparación con modelos más simples como la Regresión Lineal.<br>\n",
    "    \n",
    "<b>Velocidad de Predicción:</b><br>\n",
    "▶ DecisionTree y Regresión Lineal tienen los tiempos de predicción más bajos, seguidos por XGBoost.<br>\n",
    "▶ LGBM, CatBoost y Random Forest muestran tiempos de predicción más altos en comparación con modelos más simples como DecisionTree y Regresión Lineal.<br>\n",
    "▶ Aunque DecisionTree y Regresión Lineal tienen tiempos de predicción más bajos, su rendimiento en términos de calidad de predicción es inferior en comparación con los modelos de conjunto más complejos. \n",
    "</div>      "
   ]
  },
  {
   "cell_type": "markdown",
   "metadata": {},
   "source": [
    "## Conclusiones"
   ]
  },
  {
   "cell_type": "markdown",
   "metadata": {},
   "source": [
    "### Selección del modelo final"
   ]
  },
  {
   "cell_type": "markdown",
   "metadata": {},
   "source": [
    "<div style=\"color: #196CC4;\">\n",
    "LGBM ha mostrado consistentemente un buen rendimiento en términos de MSE, RMSE y MAPE en comparación con otros modelos en el conjunto de datos dado. Con un MSE y RMSE más bajos, indica que las predicciones realizadas por LGBM tienden a estar más cerca de los valores reales en promedio. Además, tiene uno de los valores de MAPE más bajos, lo que sugiere una menor discrepancia entre las predicciones y los valores reales en términos de porcentaje:<br>\n",
    "    \n",
    "▶ Aunque LGBM tiene tiempos de entrenamiento más largos en comparación con modelos más simples como la Regresión Lineal, su rendimiento en términos de calidad de predicción justifica este costo adicional en tiempo. <br>\n",
    "▶ Si bien LGBM no es el modelo más rápido en términos de velocidad de predicción, aún tiene tiempos de predicción razonablemente buenos\n",
    "</div>    "
   ]
  },
  {
   "cell_type": "code",
   "execution_count": 77,
   "metadata": {},
   "outputs": [
    {
     "name": "stdout",
     "output_type": "stream",
     "text": [
      "[LightGBM] [Info] Auto-choosing row-wise multi-threading, the overhead of testing was 0.006794 seconds.\n",
      "You can set `force_row_wise=true` to remove the overhead.\n",
      "And if memory is not enough, you can set `force_col_wise=true`.\n",
      "[LightGBM] [Info] Total Bins 346\n",
      "[LightGBM] [Info] Number of data points in the train set: 216988, number of used features: 24\n",
      "[LightGBM] [Info] Start training from score 3589.991562\n",
      "\n",
      "Modelo LGBM Final\n",
      "Calidad de predicciones:\n",
      "Mean Squared Error (MSE): 1664534.8743611246\n",
      "Root Mean Squared Error (RMSE): 1290.1685449433048\n",
      "Mean Absolute Percentage Error (MAPE): 2.118926661069755e+17\n",
      "\n",
      "Tiempo de entrenamiento: 0.6681802272796631 seconds\n",
      "Tiempo de predicción: 0.037001609802246094 seconds\n"
     ]
    }
   ],
   "source": [
    "# Hyperparameters\n",
    "lgbm_final = LGBMRegressor(\n",
    "    objective='regression',\n",
    "    num_leaves=35,\n",
    "    seed=23\n",
    ")\n",
    "\n",
    "# Training\n",
    "lgbm_final_start_train_time = time.time()\n",
    "lgbm_final.fit(total_features_train, total_target_train)\n",
    "\n",
    "# Training time\n",
    "lgbm_final_end_train_time = time.time()\n",
    "lgbm_final_train_time = lgbm_final_end_train_time - lgbm_final_start_train_time\n",
    "\n",
    "# Predictions\n",
    "lgbm_final_start_pred_time = time.time()\n",
    "lgbm_final_predicted_test = lgbm_final.predict(features_test)\n",
    "\n",
    "# Predictions time\n",
    "lgbm_final_end_pred_time = time.time()\n",
    "lgbm_final_pred_time = lgbm_final_end_pred_time - lgbm_final_start_pred_time\n",
    "\n",
    "# Quality of prediction metrics\n",
    "lgbm_final_mse = mean_squared_error(target_test, lgbm_final_predicted_test)\n",
    "lgbm_final_rmse = lgbm_final_mse ** 0.5\n",
    "lgbm_final_mape = mean_absolute_percentage_error(target_test, lgbm_final_predicted_test)\n",
    "\n",
    "# Print LGBM Final Model\n",
    "print(\"\\nModelo LGBM Final\")\n",
    "\n",
    "\n",
    "# Print metrics\n",
    "print(\"Calidad de predicciones:\")\n",
    "print(\"Mean Squared Error (MSE):\", lgbm_final_mse)\n",
    "print(\"Root Mean Squared Error (RMSE):\", lgbm_final_rmse)\n",
    "print(\"Mean Absolute Percentage Error (MAPE):\", lgbm_final_mape)\n",
    "print()\n",
    "\n",
    "# Print time\n",
    "print(\"Tiempo de entrenamiento:\", lgbm_final_train_time, \"seconds\")\n",
    "print(\"Tiempo de predicción:\", lgbm_final_pred_time, \"seconds\")\n"
   ]
  },
  {
   "cell_type": "markdown",
   "metadata": {},
   "source": [
    "### Conclusiones"
   ]
  },
  {
   "cell_type": "markdown",
   "metadata": {},
   "source": [
    "<div style=\"color: #196CC4;\">\n",
    "El modelo LightGBM es la mejor opción para Rusty Bargain en términos de calidad de predicción, velocidad de predicción y eficiencia en el tiempo de entrenamiento. Aunque el modelo tiene un tiempo de entrenamiento ligeramente mayor que otros modelos más simples, como la regresión lineal, su capacidad para generar predicciones precisas y su tiempo de respuesta rápido lo hacen ideal para su implementación en la plataforma.<br>\n",
    "    \n",
    "Este modelo cumple con los criterios establecidos por Rusty Bargain, proporcionando una herramienta valiosa para que los usuarios obtengan estimaciones confiables y rápidas del valor de mercado de sus vehículos. La implementación de este modelo en la aplicación mejorará significativamente la experiencia del usuario, atrayendo nuevos clientes y potenciando la propuesta de valor de Rusty Bargain en el mercado de autos usados.\n",
    "</div>    "
   ]
  }
 ],
 "metadata": {
  "ExecuteTimeLog": [
   {
    "duration": 1683,
    "start_time": "2024-05-23T22:02:37.180Z"
   },
   {
    "duration": 793,
    "start_time": "2024-05-23T22:03:35.947Z"
   },
   {
    "duration": 707,
    "start_time": "2024-05-23T22:03:43.040Z"
   },
   {
    "duration": 690,
    "start_time": "2024-05-23T22:03:49.742Z"
   },
   {
    "duration": 143,
    "start_time": "2024-05-23T22:04:17.049Z"
   },
   {
    "duration": 53,
    "start_time": "2024-05-23T22:04:35.118Z"
   },
   {
    "duration": 413,
    "start_time": "2024-05-23T22:05:03.713Z"
   },
   {
    "duration": 18,
    "start_time": "2024-05-23T22:05:37.081Z"
   },
   {
    "duration": 713,
    "start_time": "2024-05-23T22:05:49.290Z"
   },
   {
    "duration": 144,
    "start_time": "2024-05-23T22:05:51.501Z"
   },
   {
    "duration": 18,
    "start_time": "2024-05-23T22:05:53.945Z"
   },
   {
    "duration": 382,
    "start_time": "2024-05-23T22:07:14.819Z"
   },
   {
    "duration": 496,
    "start_time": "2024-05-23T22:07:25.965Z"
   },
   {
    "duration": 483,
    "start_time": "2024-05-23T22:07:37.530Z"
   },
   {
    "duration": 377,
    "start_time": "2024-05-23T22:07:41.280Z"
   },
   {
    "duration": 106,
    "start_time": "2024-05-23T22:07:48.765Z"
   },
   {
    "duration": 17,
    "start_time": "2024-05-23T22:14:57.017Z"
   },
   {
    "duration": 1686,
    "start_time": "2024-05-24T17:20:36.502Z"
   },
   {
    "duration": 849,
    "start_time": "2024-05-24T17:20:38.192Z"
   },
   {
    "duration": 170,
    "start_time": "2024-05-24T17:20:39.044Z"
   },
   {
    "duration": 37,
    "start_time": "2024-05-24T17:20:39.226Z"
   },
   {
    "duration": 490,
    "start_time": "2024-05-24T17:20:39.268Z"
   },
   {
    "duration": 149,
    "start_time": "2024-05-24T17:20:39.762Z"
   },
   {
    "duration": 557,
    "start_time": "2024-05-24T17:20:39.915Z"
   },
   {
    "duration": 0,
    "start_time": "2024-05-24T17:20:40.476Z"
   },
   {
    "duration": 0,
    "start_time": "2024-05-24T17:20:40.479Z"
   },
   {
    "duration": 786,
    "start_time": "2024-05-24T17:21:16.245Z"
   },
   {
    "duration": 163,
    "start_time": "2024-05-24T17:21:18.784Z"
   },
   {
    "duration": 26,
    "start_time": "2024-05-24T17:21:24.034Z"
   },
   {
    "duration": 494,
    "start_time": "2024-05-24T17:21:31.208Z"
   },
   {
    "duration": 138,
    "start_time": "2024-05-24T17:21:42.362Z"
   },
   {
    "duration": 439,
    "start_time": "2024-05-24T17:24:11.334Z"
   },
   {
    "duration": 30,
    "start_time": "2024-05-24T17:30:19.394Z"
   },
   {
    "duration": 160,
    "start_time": "2024-05-24T17:31:36.840Z"
   },
   {
    "duration": 48,
    "start_time": "2024-05-24T17:31:48.796Z"
   },
   {
    "duration": 165,
    "start_time": "2024-05-24T17:31:50.671Z"
   },
   {
    "duration": 494,
    "start_time": "2024-05-24T17:34:10.062Z"
   },
   {
    "duration": 163,
    "start_time": "2024-05-24T17:34:21.589Z"
   },
   {
    "duration": 474,
    "start_time": "2024-05-24T17:34:40.200Z"
   },
   {
    "duration": 168,
    "start_time": "2024-05-24T17:34:52.458Z"
   },
   {
    "duration": 494,
    "start_time": "2024-05-24T17:35:20.037Z"
   },
   {
    "duration": 157,
    "start_time": "2024-05-24T17:35:23.337Z"
   },
   {
    "duration": 41742,
    "start_time": "2024-05-24T17:38:00.307Z"
   },
   {
    "duration": 151,
    "start_time": "2024-05-24T17:43:21.075Z"
   },
   {
    "duration": 1499,
    "start_time": "2024-05-25T00:21:30.740Z"
   },
   {
    "duration": 790,
    "start_time": "2024-05-25T00:21:32.243Z"
   },
   {
    "duration": 153,
    "start_time": "2024-05-25T00:21:33.036Z"
   },
   {
    "duration": 39,
    "start_time": "2024-05-25T00:21:33.194Z"
   },
   {
    "duration": 421,
    "start_time": "2024-05-25T00:21:33.237Z"
   },
   {
    "duration": 120,
    "start_time": "2024-05-25T00:21:33.662Z"
   },
   {
    "duration": 433,
    "start_time": "2024-05-25T00:21:33.785Z"
   },
   {
    "duration": 45,
    "start_time": "2024-05-25T00:21:34.221Z"
   },
   {
    "duration": 41469,
    "start_time": "2024-05-25T00:21:34.269Z"
   },
   {
    "duration": 149,
    "start_time": "2024-05-25T00:22:15.743Z"
   },
   {
    "duration": 501,
    "start_time": "2024-05-25T00:22:15.894Z"
   },
   {
    "duration": 0,
    "start_time": "2024-05-25T00:22:16.398Z"
   },
   {
    "duration": 419,
    "start_time": "2024-05-25T00:27:40.863Z"
   },
   {
    "duration": 145,
    "start_time": "2024-05-25T00:27:44.189Z"
   },
   {
    "duration": 1717,
    "start_time": "2024-05-25T00:43:58.174Z"
   },
   {
    "duration": 438,
    "start_time": "2024-05-25T00:44:17.704Z"
   },
   {
    "duration": 140,
    "start_time": "2024-05-25T00:44:54.768Z"
   },
   {
    "duration": 551,
    "start_time": "2024-05-25T00:45:19.432Z"
   },
   {
    "duration": 33,
    "start_time": "2024-05-25T00:45:27.103Z"
   },
   {
    "duration": 6,
    "start_time": "2024-05-25T00:53:09.210Z"
   },
   {
    "duration": 363,
    "start_time": "2024-05-25T00:53:33.930Z"
   },
   {
    "duration": 247,
    "start_time": "2024-05-25T00:53:40.924Z"
   },
   {
    "duration": 98,
    "start_time": "2024-05-25T00:53:46.046Z"
   },
   {
    "duration": 299,
    "start_time": "2024-05-25T00:54:02.719Z"
   },
   {
    "duration": 61,
    "start_time": "2024-05-25T00:54:05.296Z"
   },
   {
    "duration": 512,
    "start_time": "2024-05-25T00:54:36.398Z"
   },
   {
    "duration": 83,
    "start_time": "2024-05-25T00:54:50.538Z"
   },
   {
    "duration": 348,
    "start_time": "2024-05-25T00:55:11.495Z"
   },
   {
    "duration": 1456,
    "start_time": "2024-05-25T00:55:17.939Z"
   },
   {
    "duration": 716,
    "start_time": "2024-05-25T00:55:19.398Z"
   },
   {
    "duration": 146,
    "start_time": "2024-05-25T00:55:20.116Z"
   },
   {
    "duration": 23,
    "start_time": "2024-05-25T00:55:20.266Z"
   },
   {
    "duration": 415,
    "start_time": "2024-05-25T00:55:20.292Z"
   },
   {
    "duration": 124,
    "start_time": "2024-05-25T00:55:20.710Z"
   },
   {
    "duration": 437,
    "start_time": "2024-05-25T00:55:20.838Z"
   },
   {
    "duration": 40,
    "start_time": "2024-05-25T00:55:21.278Z"
   },
   {
    "duration": 633,
    "start_time": "2024-05-25T00:55:21.336Z"
   },
   {
    "duration": 277,
    "start_time": "2024-05-25T00:55:21.974Z"
   },
   {
    "duration": 58,
    "start_time": "2024-05-25T00:55:22.253Z"
   },
   {
    "duration": 490,
    "start_time": "2024-05-25T00:55:22.333Z"
   },
   {
    "duration": 0,
    "start_time": "2024-05-25T00:55:22.825Z"
   },
   {
    "duration": 684,
    "start_time": "2024-05-25T00:55:34.397Z"
   },
   {
    "duration": 1264,
    "start_time": "2024-05-25T00:55:39.433Z"
   },
   {
    "duration": 10,
    "start_time": "2024-05-25T00:55:43.836Z"
   },
   {
    "duration": 45,
    "start_time": "2024-05-25T00:56:06.940Z"
   },
   {
    "duration": 1467,
    "start_time": "2024-05-25T00:56:35.777Z"
   },
   {
    "duration": 710,
    "start_time": "2024-05-25T00:56:37.247Z"
   },
   {
    "duration": 146,
    "start_time": "2024-05-25T00:56:37.960Z"
   },
   {
    "duration": 36,
    "start_time": "2024-05-25T00:56:38.110Z"
   },
   {
    "duration": 409,
    "start_time": "2024-05-25T00:56:38.148Z"
   },
   {
    "duration": 120,
    "start_time": "2024-05-25T00:56:38.559Z"
   },
   {
    "duration": 432,
    "start_time": "2024-05-25T00:56:38.682Z"
   },
   {
    "duration": 53,
    "start_time": "2024-05-25T00:56:39.118Z"
   },
   {
    "duration": 979,
    "start_time": "2024-05-25T00:56:39.174Z"
   },
   {
    "duration": 690,
    "start_time": "2024-05-25T00:56:40.159Z"
   },
   {
    "duration": 181,
    "start_time": "2024-05-25T00:56:40.852Z"
   },
   {
    "duration": 506,
    "start_time": "2024-05-25T00:56:41.036Z"
   },
   {
    "duration": 0,
    "start_time": "2024-05-25T00:56:41.545Z"
   },
   {
    "duration": 666,
    "start_time": "2024-05-25T01:00:16.359Z"
   },
   {
    "duration": 1406,
    "start_time": "2024-05-25T01:00:29.348Z"
   },
   {
    "duration": 744,
    "start_time": "2024-05-25T01:00:30.758Z"
   },
   {
    "duration": 157,
    "start_time": "2024-05-25T01:00:31.505Z"
   },
   {
    "duration": 24,
    "start_time": "2024-05-25T01:00:31.665Z"
   },
   {
    "duration": 421,
    "start_time": "2024-05-25T01:00:31.696Z"
   },
   {
    "duration": 124,
    "start_time": "2024-05-25T01:00:32.120Z"
   },
   {
    "duration": 460,
    "start_time": "2024-05-25T01:00:32.247Z"
   },
   {
    "duration": 55,
    "start_time": "2024-05-25T01:00:32.710Z"
   },
   {
    "duration": 598,
    "start_time": "2024-05-25T01:00:32.767Z"
   },
   {
    "duration": 281,
    "start_time": "2024-05-25T01:00:33.368Z"
   },
   {
    "duration": 45,
    "start_time": "2024-05-25T01:00:33.652Z"
   },
   {
    "duration": 492,
    "start_time": "2024-05-25T01:00:33.700Z"
   },
   {
    "duration": 0,
    "start_time": "2024-05-25T01:00:34.194Z"
   },
   {
    "duration": 26,
    "start_time": "2024-05-25T01:00:52.814Z"
   },
   {
    "duration": 44,
    "start_time": "2024-05-25T01:01:04.006Z"
   },
   {
    "duration": 367,
    "start_time": "2024-05-25T01:21:40.722Z"
   },
   {
    "duration": 6,
    "start_time": "2024-05-25T01:22:42.688Z"
   },
   {
    "duration": 683,
    "start_time": "2024-05-25T01:22:42.698Z"
   },
   {
    "duration": 164,
    "start_time": "2024-05-25T01:22:43.383Z"
   },
   {
    "duration": 18,
    "start_time": "2024-05-25T01:22:43.549Z"
   },
   {
    "duration": 393,
    "start_time": "2024-05-25T01:22:43.572Z"
   },
   {
    "duration": 114,
    "start_time": "2024-05-25T01:22:43.968Z"
   },
   {
    "duration": 468,
    "start_time": "2024-05-25T01:22:44.085Z"
   },
   {
    "duration": 30,
    "start_time": "2024-05-25T01:22:44.556Z"
   },
   {
    "duration": 618,
    "start_time": "2024-05-25T01:22:44.588Z"
   },
   {
    "duration": 130,
    "start_time": "2024-05-25T01:22:48.758Z"
   },
   {
    "duration": 160,
    "start_time": "2024-05-25T01:27:07.518Z"
   },
   {
    "duration": 112,
    "start_time": "2024-05-25T01:32:24.181Z"
   },
   {
    "duration": 131,
    "start_time": "2024-05-25T01:33:50.120Z"
   },
   {
    "duration": 6,
    "start_time": "2024-05-25T01:34:18.024Z"
   },
   {
    "duration": 750,
    "start_time": "2024-05-25T01:34:18.035Z"
   },
   {
    "duration": 167,
    "start_time": "2024-05-25T01:34:18.790Z"
   },
   {
    "duration": 22,
    "start_time": "2024-05-25T01:34:18.961Z"
   },
   {
    "duration": 477,
    "start_time": "2024-05-25T01:34:18.989Z"
   },
   {
    "duration": 124,
    "start_time": "2024-05-25T01:34:19.470Z"
   },
   {
    "duration": 500,
    "start_time": "2024-05-25T01:34:19.597Z"
   },
   {
    "duration": 53,
    "start_time": "2024-05-25T01:34:20.102Z"
   },
   {
    "duration": 676,
    "start_time": "2024-05-25T01:34:20.158Z"
   },
   {
    "duration": 145,
    "start_time": "2024-05-25T01:37:07.524Z"
   },
   {
    "duration": 76,
    "start_time": "2024-05-25T01:38:38.612Z"
   },
   {
    "duration": 5,
    "start_time": "2024-05-25T01:38:56.482Z"
   },
   {
    "duration": 708,
    "start_time": "2024-05-25T01:38:56.492Z"
   },
   {
    "duration": 171,
    "start_time": "2024-05-25T01:38:57.203Z"
   },
   {
    "duration": 19,
    "start_time": "2024-05-25T01:38:57.377Z"
   },
   {
    "duration": 400,
    "start_time": "2024-05-25T01:38:57.400Z"
   },
   {
    "duration": 116,
    "start_time": "2024-05-25T01:38:57.803Z"
   },
   {
    "duration": 486,
    "start_time": "2024-05-25T01:38:57.922Z"
   },
   {
    "duration": 51,
    "start_time": "2024-05-25T01:38:58.411Z"
   },
   {
    "duration": 616,
    "start_time": "2024-05-25T01:38:58.466Z"
   },
   {
    "duration": 118,
    "start_time": "2024-05-25T01:39:11.120Z"
   },
   {
    "duration": 159,
    "start_time": "2024-05-25T01:39:32.658Z"
   },
   {
    "duration": 7,
    "start_time": "2024-05-25T01:42:41.415Z"
   },
   {
    "duration": 719,
    "start_time": "2024-05-25T01:42:41.426Z"
   },
   {
    "duration": 160,
    "start_time": "2024-05-25T01:42:42.148Z"
   },
   {
    "duration": 27,
    "start_time": "2024-05-25T01:42:42.311Z"
   },
   {
    "duration": 400,
    "start_time": "2024-05-25T01:42:42.342Z"
   },
   {
    "duration": 117,
    "start_time": "2024-05-25T01:42:42.745Z"
   },
   {
    "duration": 479,
    "start_time": "2024-05-25T01:42:42.866Z"
   },
   {
    "duration": 37,
    "start_time": "2024-05-25T01:42:43.348Z"
   },
   {
    "duration": 644,
    "start_time": "2024-05-25T01:42:43.388Z"
   },
   {
    "duration": 122,
    "start_time": "2024-05-25T01:43:10.946Z"
   },
   {
    "duration": 60,
    "start_time": "2024-05-25T01:45:30.105Z"
   },
   {
    "duration": 172,
    "start_time": "2024-05-25T01:49:08.357Z"
   },
   {
    "duration": 6,
    "start_time": "2024-05-25T01:49:52.813Z"
   },
   {
    "duration": 809,
    "start_time": "2024-05-25T01:49:52.823Z"
   },
   {
    "duration": 174,
    "start_time": "2024-05-25T01:49:53.635Z"
   },
   {
    "duration": 24,
    "start_time": "2024-05-25T01:49:53.812Z"
   },
   {
    "duration": 482,
    "start_time": "2024-05-25T01:49:53.841Z"
   },
   {
    "duration": 117,
    "start_time": "2024-05-25T01:49:54.327Z"
   },
   {
    "duration": 573,
    "start_time": "2024-05-25T01:49:54.449Z"
   },
   {
    "duration": 44,
    "start_time": "2024-05-25T01:49:55.025Z"
   },
   {
    "duration": 680,
    "start_time": "2024-05-25T01:49:55.072Z"
   },
   {
    "duration": 129,
    "start_time": "2024-05-25T01:49:58.237Z"
   },
   {
    "duration": 175,
    "start_time": "2024-05-25T01:50:07.638Z"
   },
   {
    "duration": 48,
    "start_time": "2024-05-25T01:50:54.549Z"
   },
   {
    "duration": 1473,
    "start_time": "2024-05-25T01:51:25.130Z"
   },
   {
    "duration": 729,
    "start_time": "2024-05-25T01:51:26.607Z"
   },
   {
    "duration": 148,
    "start_time": "2024-05-25T01:51:27.339Z"
   },
   {
    "duration": 45,
    "start_time": "2024-05-25T01:51:27.489Z"
   },
   {
    "duration": 409,
    "start_time": "2024-05-25T01:51:27.538Z"
   },
   {
    "duration": 121,
    "start_time": "2024-05-25T01:51:27.951Z"
   },
   {
    "duration": 417,
    "start_time": "2024-05-25T01:51:28.074Z"
   },
   {
    "duration": 51,
    "start_time": "2024-05-25T01:51:28.496Z"
   },
   {
    "duration": 653,
    "start_time": "2024-05-25T01:51:28.549Z"
   },
   {
    "duration": 67,
    "start_time": "2024-05-25T01:51:29.205Z"
   },
   {
    "duration": 187,
    "start_time": "2024-05-25T01:51:29.275Z"
   },
   {
    "duration": 160,
    "start_time": "2024-05-25T01:51:29.464Z"
   },
   {
    "duration": 82,
    "start_time": "2024-05-25T01:51:29.627Z"
   },
   {
    "duration": 55,
    "start_time": "2024-05-25T01:51:29.715Z"
   },
   {
    "duration": 502,
    "start_time": "2024-05-25T01:51:29.773Z"
   },
   {
    "duration": 0,
    "start_time": "2024-05-25T01:51:30.277Z"
   },
   {
    "duration": 1708,
    "start_time": "2024-05-25T03:42:06.008Z"
   },
   {
    "duration": 913,
    "start_time": "2024-05-25T03:42:07.720Z"
   },
   {
    "duration": 188,
    "start_time": "2024-05-25T03:42:08.640Z"
   },
   {
    "duration": 32,
    "start_time": "2024-05-25T03:42:08.836Z"
   },
   {
    "duration": 493,
    "start_time": "2024-05-25T03:42:08.875Z"
   },
   {
    "duration": 142,
    "start_time": "2024-05-25T03:42:09.372Z"
   },
   {
    "duration": 521,
    "start_time": "2024-05-25T03:42:09.519Z"
   },
   {
    "duration": 47,
    "start_time": "2024-05-25T03:42:10.044Z"
   },
   {
    "duration": 583,
    "start_time": "2024-05-25T03:42:10.095Z"
   },
   {
    "duration": 135,
    "start_time": "2024-05-25T03:42:10.681Z"
   },
   {
    "duration": 67,
    "start_time": "2024-05-25T03:42:10.827Z"
   },
   {
    "duration": 297,
    "start_time": "2024-05-25T03:42:10.897Z"
   },
   {
    "duration": 167,
    "start_time": "2024-05-25T03:42:11.200Z"
   },
   {
    "duration": 92,
    "start_time": "2024-05-25T03:42:11.374Z"
   },
   {
    "duration": 74,
    "start_time": "2024-05-25T03:42:11.469Z"
   },
   {
    "duration": 519,
    "start_time": "2024-05-25T03:42:11.550Z"
   },
   {
    "duration": 1,
    "start_time": "2024-05-25T03:42:12.072Z"
   },
   {
    "duration": 98,
    "start_time": "2024-05-25T03:48:58.363Z"
   },
   {
    "duration": 33,
    "start_time": "2024-05-25T03:49:50.678Z"
   },
   {
    "duration": 35,
    "start_time": "2024-05-25T03:51:01.659Z"
   },
   {
    "duration": 24,
    "start_time": "2024-05-25T03:53:49.014Z"
   },
   {
    "duration": 16,
    "start_time": "2024-05-25T03:55:53.729Z"
   },
   {
    "duration": 1489,
    "start_time": "2024-05-26T23:35:53.843Z"
   },
   {
    "duration": 756,
    "start_time": "2024-05-26T23:35:55.336Z"
   },
   {
    "duration": 152,
    "start_time": "2024-05-26T23:35:56.095Z"
   },
   {
    "duration": 23,
    "start_time": "2024-05-26T23:35:56.251Z"
   },
   {
    "duration": 413,
    "start_time": "2024-05-26T23:35:56.277Z"
   },
   {
    "duration": 122,
    "start_time": "2024-05-26T23:35:56.692Z"
   },
   {
    "duration": 457,
    "start_time": "2024-05-26T23:35:56.817Z"
   },
   {
    "duration": 56,
    "start_time": "2024-05-26T23:35:57.277Z"
   },
   {
    "duration": 491,
    "start_time": "2024-05-26T23:35:57.335Z"
   },
   {
    "duration": 130,
    "start_time": "2024-05-26T23:35:57.832Z"
   },
   {
    "duration": 69,
    "start_time": "2024-05-26T23:35:57.968Z"
   },
   {
    "duration": 186,
    "start_time": "2024-05-26T23:35:58.040Z"
   },
   {
    "duration": 151,
    "start_time": "2024-05-26T23:35:58.233Z"
   },
   {
    "duration": 92,
    "start_time": "2024-05-26T23:35:58.387Z"
   },
   {
    "duration": 56,
    "start_time": "2024-05-26T23:35:58.482Z"
   },
   {
    "duration": 107,
    "start_time": "2024-05-26T23:35:58.542Z"
   },
   {
    "duration": 15,
    "start_time": "2024-05-26T23:35:58.651Z"
   },
   {
    "duration": 1528,
    "start_time": "2024-05-27T00:14:23.536Z"
   },
   {
    "duration": 861,
    "start_time": "2024-05-27T00:14:25.068Z"
   },
   {
    "duration": 207,
    "start_time": "2024-05-27T00:14:25.932Z"
   },
   {
    "duration": 25,
    "start_time": "2024-05-27T00:14:26.143Z"
   },
   {
    "duration": 578,
    "start_time": "2024-05-27T00:14:26.172Z"
   },
   {
    "duration": 143,
    "start_time": "2024-05-27T00:14:26.753Z"
   },
   {
    "duration": 625,
    "start_time": "2024-05-27T00:14:26.899Z"
   },
   {
    "duration": 46,
    "start_time": "2024-05-27T00:14:27.533Z"
   },
   {
    "duration": 609,
    "start_time": "2024-05-27T00:14:27.582Z"
   },
   {
    "duration": 144,
    "start_time": "2024-05-27T00:14:28.194Z"
   },
   {
    "duration": 78,
    "start_time": "2024-05-27T00:14:28.344Z"
   },
   {
    "duration": 239,
    "start_time": "2024-05-27T00:14:28.426Z"
   },
   {
    "duration": 168,
    "start_time": "2024-05-27T00:14:28.668Z"
   },
   {
    "duration": 96,
    "start_time": "2024-05-27T00:14:28.842Z"
   },
   {
    "duration": 46,
    "start_time": "2024-05-27T00:14:28.945Z"
   },
   {
    "duration": 152,
    "start_time": "2024-05-27T00:14:28.994Z"
   },
   {
    "duration": 17,
    "start_time": "2024-05-27T00:14:29.150Z"
   },
   {
    "duration": 185590,
    "start_time": "2024-05-27T01:04:11.437Z"
   },
   {
    "duration": 1513,
    "start_time": "2024-05-27T16:13:57.928Z"
   },
   {
    "duration": 790,
    "start_time": "2024-05-27T16:13:59.445Z"
   },
   {
    "duration": 152,
    "start_time": "2024-05-27T16:14:00.238Z"
   },
   {
    "duration": 45,
    "start_time": "2024-05-27T16:14:00.393Z"
   },
   {
    "duration": 419,
    "start_time": "2024-05-27T16:14:00.444Z"
   },
   {
    "duration": 123,
    "start_time": "2024-05-27T16:14:00.865Z"
   },
   {
    "duration": 450,
    "start_time": "2024-05-27T16:14:00.992Z"
   },
   {
    "duration": 42,
    "start_time": "2024-05-27T16:14:01.445Z"
   },
   {
    "duration": 549,
    "start_time": "2024-05-27T16:14:01.490Z"
   },
   {
    "duration": 142,
    "start_time": "2024-05-27T16:14:02.042Z"
   },
   {
    "duration": 81,
    "start_time": "2024-05-27T16:14:02.187Z"
   },
   {
    "duration": 193,
    "start_time": "2024-05-27T16:14:02.271Z"
   },
   {
    "duration": 160,
    "start_time": "2024-05-27T16:14:02.467Z"
   },
   {
    "duration": 84,
    "start_time": "2024-05-27T16:14:02.635Z"
   },
   {
    "duration": 43,
    "start_time": "2024-05-27T16:14:02.730Z"
   },
   {
    "duration": 119,
    "start_time": "2024-05-27T16:14:02.776Z"
   },
   {
    "duration": 14,
    "start_time": "2024-05-27T16:14:02.898Z"
   },
   {
    "duration": 82716,
    "start_time": "2024-05-27T16:14:02.932Z"
   },
   {
    "duration": 32,
    "start_time": "2024-05-27T16:15:25.651Z"
   },
   {
    "duration": 5,
    "start_time": "2024-05-27T16:26:37.035Z"
   },
   {
    "duration": 526,
    "start_time": "2024-05-27T16:27:21.159Z"
   },
   {
    "duration": 6,
    "start_time": "2024-05-27T16:27:54.647Z"
   },
   {
    "duration": 0,
    "start_time": "2024-05-27T16:29:17.573Z"
   },
   {
    "duration": 7586,
    "start_time": "2024-05-27T16:29:27.044Z"
   },
   {
    "duration": 381,
    "start_time": "2024-05-27T16:33:26.081Z"
   },
   {
    "duration": 1440,
    "start_time": "2024-05-27T16:33:57.979Z"
   },
   {
    "duration": 133,
    "start_time": "2024-05-27T16:34:02.690Z"
   },
   {
    "duration": 8,
    "start_time": "2024-05-27T16:34:16.039Z"
   },
   {
    "duration": 856,
    "start_time": "2024-05-27T16:34:16.052Z"
   },
   {
    "duration": 160,
    "start_time": "2024-05-27T16:34:16.911Z"
   },
   {
    "duration": 23,
    "start_time": "2024-05-27T16:34:17.075Z"
   },
   {
    "duration": 426,
    "start_time": "2024-05-27T16:34:17.103Z"
   },
   {
    "duration": 122,
    "start_time": "2024-05-27T16:34:17.532Z"
   },
   {
    "duration": 431,
    "start_time": "2024-05-27T16:34:17.657Z"
   },
   {
    "duration": 54,
    "start_time": "2024-05-27T16:34:18.091Z"
   },
   {
    "duration": 515,
    "start_time": "2024-05-27T16:34:18.148Z"
   },
   {
    "duration": 126,
    "start_time": "2024-05-27T16:34:18.665Z"
   },
   {
    "duration": 70,
    "start_time": "2024-05-27T16:34:18.794Z"
   },
   {
    "duration": 184,
    "start_time": "2024-05-27T16:34:18.867Z"
   },
   {
    "duration": 166,
    "start_time": "2024-05-27T16:34:19.054Z"
   },
   {
    "duration": 85,
    "start_time": "2024-05-27T16:34:19.230Z"
   },
   {
    "duration": 51,
    "start_time": "2024-05-27T16:34:19.317Z"
   },
   {
    "duration": 112,
    "start_time": "2024-05-27T16:34:19.371Z"
   },
   {
    "duration": 34,
    "start_time": "2024-05-27T16:34:32.933Z"
   },
   {
    "duration": 24,
    "start_time": "2024-05-27T16:34:43.381Z"
   },
   {
    "duration": 12,
    "start_time": "2024-05-27T16:34:50.141Z"
   },
   {
    "duration": 206,
    "start_time": "2024-05-27T16:34:52.837Z"
   },
   {
    "duration": 48022,
    "start_time": "2024-05-27T16:34:59.503Z"
   },
   {
    "duration": 8054,
    "start_time": "2024-05-27T16:35:50.834Z"
   },
   {
    "duration": 139384,
    "start_time": "2024-05-27T16:36:29.270Z"
   },
   {
    "duration": 320,
    "start_time": "2024-05-27T16:48:13.634Z"
   },
   {
    "duration": 22,
    "start_time": "2024-05-27T16:48:25.190Z"
   },
   {
    "duration": 1444,
    "start_time": "2024-05-27T16:48:29.141Z"
   },
   {
    "duration": 842,
    "start_time": "2024-05-27T16:48:30.589Z"
   },
   {
    "duration": 146,
    "start_time": "2024-05-27T16:48:31.434Z"
   },
   {
    "duration": 23,
    "start_time": "2024-05-27T16:48:31.585Z"
   },
   {
    "duration": 459,
    "start_time": "2024-05-27T16:48:31.612Z"
   },
   {
    "duration": 129,
    "start_time": "2024-05-27T16:48:32.074Z"
   },
   {
    "duration": 449,
    "start_time": "2024-05-27T16:48:32.207Z"
   },
   {
    "duration": 39,
    "start_time": "2024-05-27T16:48:32.659Z"
   },
   {
    "duration": 536,
    "start_time": "2024-05-27T16:48:32.701Z"
   },
   {
    "duration": 133,
    "start_time": "2024-05-27T16:48:33.241Z"
   },
   {
    "duration": 66,
    "start_time": "2024-05-27T16:48:33.378Z"
   },
   {
    "duration": 186,
    "start_time": "2024-05-27T16:48:33.447Z"
   },
   {
    "duration": 162,
    "start_time": "2024-05-27T16:48:33.636Z"
   },
   {
    "duration": 84,
    "start_time": "2024-05-27T16:48:33.802Z"
   },
   {
    "duration": 57,
    "start_time": "2024-05-27T16:48:33.889Z"
   },
   {
    "duration": 127,
    "start_time": "2024-05-27T16:48:57.373Z"
   },
   {
    "duration": 127,
    "start_time": "2024-05-27T16:49:08.206Z"
   },
   {
    "duration": 40,
    "start_time": "2024-05-27T16:50:24.911Z"
   },
   {
    "duration": 24,
    "start_time": "2024-05-27T16:51:27.423Z"
   },
   {
    "duration": 6,
    "start_time": "2024-05-27T16:51:54.564Z"
   },
   {
    "duration": 320,
    "start_time": "2024-05-27T16:52:11.836Z"
   },
   {
    "duration": 1467,
    "start_time": "2024-05-27T16:52:21.263Z"
   },
   {
    "duration": 157,
    "start_time": "2024-05-27T16:52:25.722Z"
   },
   {
    "duration": 91,
    "start_time": "2024-05-27T16:52:30.782Z"
   },
   {
    "duration": 24,
    "start_time": "2024-05-27T16:52:33.562Z"
   },
   {
    "duration": 7,
    "start_time": "2024-05-27T16:52:40.528Z"
   },
   {
    "duration": 845,
    "start_time": "2024-05-27T16:52:40.539Z"
   },
   {
    "duration": 165,
    "start_time": "2024-05-27T16:52:41.388Z"
   },
   {
    "duration": 22,
    "start_time": "2024-05-27T16:52:41.556Z"
   },
   {
    "duration": 464,
    "start_time": "2024-05-27T16:52:41.583Z"
   },
   {
    "duration": 124,
    "start_time": "2024-05-27T16:52:42.050Z"
   },
   {
    "duration": 447,
    "start_time": "2024-05-27T16:52:42.177Z"
   },
   {
    "duration": 46,
    "start_time": "2024-05-27T16:52:42.626Z"
   },
   {
    "duration": 535,
    "start_time": "2024-05-27T16:52:42.675Z"
   },
   {
    "duration": 134,
    "start_time": "2024-05-27T16:52:43.213Z"
   },
   {
    "duration": 67,
    "start_time": "2024-05-27T16:52:43.350Z"
   },
   {
    "duration": 202,
    "start_time": "2024-05-27T16:52:43.419Z"
   },
   {
    "duration": 157,
    "start_time": "2024-05-27T16:52:43.631Z"
   },
   {
    "duration": 91,
    "start_time": "2024-05-27T16:52:43.794Z"
   },
   {
    "duration": 48,
    "start_time": "2024-05-27T16:52:43.888Z"
   },
   {
    "duration": 138,
    "start_time": "2024-05-27T16:52:43.940Z"
   },
   {
    "duration": 25,
    "start_time": "2024-05-27T16:53:09.364Z"
   },
   {
    "duration": 320,
    "start_time": "2024-05-27T16:53:26.322Z"
   },
   {
    "duration": 1488,
    "start_time": "2024-05-27T16:53:31.643Z"
   },
   {
    "duration": 130,
    "start_time": "2024-05-27T16:53:39.109Z"
   },
   {
    "duration": 1452,
    "start_time": "2024-05-27T16:54:41.109Z"
   },
   {
    "duration": 777,
    "start_time": "2024-05-27T16:54:42.565Z"
   },
   {
    "duration": 155,
    "start_time": "2024-05-27T16:54:43.345Z"
   },
   {
    "duration": 45,
    "start_time": "2024-05-27T16:54:43.505Z"
   },
   {
    "duration": 402,
    "start_time": "2024-05-27T16:54:43.553Z"
   },
   {
    "duration": 123,
    "start_time": "2024-05-27T16:54:43.957Z"
   },
   {
    "duration": 434,
    "start_time": "2024-05-27T16:54:44.084Z"
   },
   {
    "duration": 46,
    "start_time": "2024-05-27T16:54:44.521Z"
   },
   {
    "duration": 518,
    "start_time": "2024-05-27T16:54:44.569Z"
   },
   {
    "duration": 131,
    "start_time": "2024-05-27T16:54:45.092Z"
   },
   {
    "duration": 58,
    "start_time": "2024-05-27T16:54:45.230Z"
   },
   {
    "duration": 193,
    "start_time": "2024-05-27T16:54:45.290Z"
   },
   {
    "duration": 158,
    "start_time": "2024-05-27T16:54:45.486Z"
   },
   {
    "duration": 96,
    "start_time": "2024-05-27T16:54:45.647Z"
   },
   {
    "duration": 47,
    "start_time": "2024-05-27T16:54:45.746Z"
   },
   {
    "duration": 155,
    "start_time": "2024-05-27T16:54:45.797Z"
   },
   {
    "duration": 28,
    "start_time": "2024-05-27T16:54:45.955Z"
   },
   {
    "duration": 1462,
    "start_time": "2024-05-27T16:55:21.976Z"
   },
   {
    "duration": 781,
    "start_time": "2024-05-27T16:55:23.442Z"
   },
   {
    "duration": 167,
    "start_time": "2024-05-27T16:55:24.232Z"
   },
   {
    "duration": 37,
    "start_time": "2024-05-27T16:55:24.402Z"
   },
   {
    "duration": 421,
    "start_time": "2024-05-27T16:55:24.444Z"
   },
   {
    "duration": 125,
    "start_time": "2024-05-27T16:55:24.868Z"
   },
   {
    "duration": 447,
    "start_time": "2024-05-27T16:55:24.996Z"
   },
   {
    "duration": 43,
    "start_time": "2024-05-27T16:55:25.447Z"
   },
   {
    "duration": 523,
    "start_time": "2024-05-27T16:55:25.493Z"
   },
   {
    "duration": 151,
    "start_time": "2024-05-27T16:55:26.019Z"
   },
   {
    "duration": 74,
    "start_time": "2024-05-27T16:55:26.173Z"
   },
   {
    "duration": 188,
    "start_time": "2024-05-27T16:55:26.249Z"
   },
   {
    "duration": 163,
    "start_time": "2024-05-27T16:55:26.440Z"
   },
   {
    "duration": 90,
    "start_time": "2024-05-27T16:55:26.609Z"
   },
   {
    "duration": 55,
    "start_time": "2024-05-27T16:55:26.702Z"
   },
   {
    "duration": 149,
    "start_time": "2024-05-27T16:55:26.760Z"
   },
   {
    "duration": 27,
    "start_time": "2024-05-27T16:55:26.911Z"
   },
   {
    "duration": 1463,
    "start_time": "2024-05-27T16:57:25.291Z"
   },
   {
    "duration": 801,
    "start_time": "2024-05-27T16:57:26.757Z"
   },
   {
    "duration": 149,
    "start_time": "2024-05-27T16:57:27.560Z"
   },
   {
    "duration": 35,
    "start_time": "2024-05-27T16:57:27.713Z"
   },
   {
    "duration": 414,
    "start_time": "2024-05-27T16:57:27.751Z"
   },
   {
    "duration": 118,
    "start_time": "2024-05-27T16:57:28.168Z"
   },
   {
    "duration": 460,
    "start_time": "2024-05-27T16:57:28.289Z"
   },
   {
    "duration": 41,
    "start_time": "2024-05-27T16:57:28.752Z"
   },
   {
    "duration": 513,
    "start_time": "2024-05-27T16:57:28.795Z"
   },
   {
    "duration": 133,
    "start_time": "2024-05-27T16:57:29.314Z"
   },
   {
    "duration": 65,
    "start_time": "2024-05-27T16:57:29.450Z"
   },
   {
    "duration": 193,
    "start_time": "2024-05-27T16:57:29.532Z"
   },
   {
    "duration": 155,
    "start_time": "2024-05-27T16:57:29.727Z"
   },
   {
    "duration": 94,
    "start_time": "2024-05-27T16:57:29.884Z"
   },
   {
    "duration": 51,
    "start_time": "2024-05-27T16:57:29.981Z"
   },
   {
    "duration": 145,
    "start_time": "2024-05-27T16:57:30.035Z"
   },
   {
    "duration": 27,
    "start_time": "2024-05-27T16:57:30.183Z"
   },
   {
    "duration": 495,
    "start_time": "2024-05-27T16:57:30.213Z"
   },
   {
    "duration": 0,
    "start_time": "2024-05-27T16:57:30.711Z"
   },
   {
    "duration": 0,
    "start_time": "2024-05-27T16:57:30.714Z"
   },
   {
    "duration": 0,
    "start_time": "2024-05-27T16:57:30.715Z"
   },
   {
    "duration": 0,
    "start_time": "2024-05-27T16:57:30.731Z"
   },
   {
    "duration": 0,
    "start_time": "2024-05-27T16:57:30.733Z"
   },
   {
    "duration": 0,
    "start_time": "2024-05-27T16:57:30.734Z"
   },
   {
    "duration": 0,
    "start_time": "2024-05-27T16:57:30.736Z"
   },
   {
    "duration": 22,
    "start_time": "2024-05-27T16:57:58.392Z"
   },
   {
    "duration": 23,
    "start_time": "2024-05-27T16:58:07.538Z"
   },
   {
    "duration": 25,
    "start_time": "2024-05-27T16:58:14.277Z"
   },
   {
    "duration": 4,
    "start_time": "2024-05-27T16:58:15.932Z"
   },
   {
    "duration": 24,
    "start_time": "2024-05-27T16:58:18.596Z"
   },
   {
    "duration": 19,
    "start_time": "2024-05-27T16:58:20.724Z"
   },
   {
    "duration": 3,
    "start_time": "2024-05-27T16:58:22.710Z"
   },
   {
    "duration": 122,
    "start_time": "2024-05-27T16:58:32.336Z"
   },
   {
    "duration": 21,
    "start_time": "2024-05-27T16:58:34.014Z"
   },
   {
    "duration": 1598,
    "start_time": "2024-05-27T17:05:25.518Z"
   },
   {
    "duration": 843,
    "start_time": "2024-05-27T17:05:27.121Z"
   },
   {
    "duration": 167,
    "start_time": "2024-05-27T17:05:27.967Z"
   },
   {
    "duration": 26,
    "start_time": "2024-05-27T17:05:28.138Z"
   },
   {
    "duration": 439,
    "start_time": "2024-05-27T17:05:28.167Z"
   },
   {
    "duration": 123,
    "start_time": "2024-05-27T17:05:28.609Z"
   },
   {
    "duration": 457,
    "start_time": "2024-05-27T17:05:28.738Z"
   },
   {
    "duration": 58,
    "start_time": "2024-05-27T17:05:29.198Z"
   },
   {
    "duration": 511,
    "start_time": "2024-05-27T17:05:29.259Z"
   },
   {
    "duration": 129,
    "start_time": "2024-05-27T17:05:29.777Z"
   },
   {
    "duration": 67,
    "start_time": "2024-05-27T17:05:29.909Z"
   },
   {
    "duration": 229,
    "start_time": "2024-05-27T17:05:29.979Z"
   },
   {
    "duration": 158,
    "start_time": "2024-05-27T17:05:30.213Z"
   },
   {
    "duration": 111,
    "start_time": "2024-05-27T17:05:30.374Z"
   },
   {
    "duration": 64,
    "start_time": "2024-05-27T17:05:30.487Z"
   },
   {
    "duration": 145,
    "start_time": "2024-05-27T17:05:30.554Z"
   },
   {
    "duration": 39,
    "start_time": "2024-05-27T17:05:30.702Z"
   },
   {
    "duration": 4,
    "start_time": "2024-05-27T17:05:30.744Z"
   },
   {
    "duration": 4,
    "start_time": "2024-05-27T17:05:30.752Z"
   },
   {
    "duration": 4,
    "start_time": "2024-05-27T17:05:30.759Z"
   },
   {
    "duration": 35503,
    "start_time": "2024-05-27T17:05:30.766Z"
   },
   {
    "duration": 0,
    "start_time": "2024-05-27T17:06:06.273Z"
   },
   {
    "duration": 0,
    "start_time": "2024-05-27T17:06:06.275Z"
   },
   {
    "duration": 0,
    "start_time": "2024-05-27T17:06:06.277Z"
   },
   {
    "duration": 0,
    "start_time": "2024-05-27T17:06:06.279Z"
   },
   {
    "duration": 30,
    "start_time": "2024-05-27T17:06:53.122Z"
   },
   {
    "duration": 354,
    "start_time": "2024-05-27T17:09:41.792Z"
   },
   {
    "duration": 1510,
    "start_time": "2024-05-27T17:09:50.124Z"
   },
   {
    "duration": 886,
    "start_time": "2024-05-27T17:09:51.640Z"
   },
   {
    "duration": 159,
    "start_time": "2024-05-27T17:09:52.529Z"
   },
   {
    "duration": 41,
    "start_time": "2024-05-27T17:09:52.694Z"
   },
   {
    "duration": 509,
    "start_time": "2024-05-27T17:09:52.741Z"
   },
   {
    "duration": 127,
    "start_time": "2024-05-27T17:09:53.254Z"
   },
   {
    "duration": 497,
    "start_time": "2024-05-27T17:09:53.385Z"
   },
   {
    "duration": 43,
    "start_time": "2024-05-27T17:09:53.889Z"
   },
   {
    "duration": 545,
    "start_time": "2024-05-27T17:09:53.935Z"
   },
   {
    "duration": 138,
    "start_time": "2024-05-27T17:09:54.484Z"
   },
   {
    "duration": 72,
    "start_time": "2024-05-27T17:09:54.630Z"
   },
   {
    "duration": 262,
    "start_time": "2024-05-27T17:09:54.706Z"
   },
   {
    "duration": 177,
    "start_time": "2024-05-27T17:09:54.971Z"
   },
   {
    "duration": 127,
    "start_time": "2024-05-27T17:09:55.155Z"
   },
   {
    "duration": 61,
    "start_time": "2024-05-27T17:09:55.285Z"
   },
   {
    "duration": 126,
    "start_time": "2024-05-27T17:09:55.349Z"
   },
   {
    "duration": 16,
    "start_time": "2024-05-27T17:09:55.478Z"
   },
   {
    "duration": 523,
    "start_time": "2024-05-27T17:09:55.497Z"
   },
   {
    "duration": 0,
    "start_time": "2024-05-27T17:09:56.024Z"
   },
   {
    "duration": 0,
    "start_time": "2024-05-27T17:09:56.031Z"
   },
   {
    "duration": 0,
    "start_time": "2024-05-27T17:09:56.033Z"
   },
   {
    "duration": 0,
    "start_time": "2024-05-27T17:09:56.036Z"
   },
   {
    "duration": 0,
    "start_time": "2024-05-27T17:09:56.038Z"
   },
   {
    "duration": 0,
    "start_time": "2024-05-27T17:09:56.039Z"
   },
   {
    "duration": 0,
    "start_time": "2024-05-27T17:09:56.041Z"
   },
   {
    "duration": 0,
    "start_time": "2024-05-27T17:09:56.045Z"
   },
   {
    "duration": 21,
    "start_time": "2024-05-27T17:10:16.732Z"
   },
   {
    "duration": 4,
    "start_time": "2024-05-27T17:10:19.993Z"
   },
   {
    "duration": 1504,
    "start_time": "2024-05-27T17:11:15.738Z"
   },
   {
    "duration": 834,
    "start_time": "2024-05-27T17:11:17.247Z"
   },
   {
    "duration": 159,
    "start_time": "2024-05-27T17:11:18.084Z"
   },
   {
    "duration": 22,
    "start_time": "2024-05-27T17:11:18.248Z"
   },
   {
    "duration": 470,
    "start_time": "2024-05-27T17:11:18.274Z"
   },
   {
    "duration": 140,
    "start_time": "2024-05-27T17:11:18.746Z"
   },
   {
    "duration": 445,
    "start_time": "2024-05-27T17:11:18.889Z"
   },
   {
    "duration": 45,
    "start_time": "2024-05-27T17:11:19.338Z"
   },
   {
    "duration": 560,
    "start_time": "2024-05-27T17:11:19.385Z"
   },
   {
    "duration": 134,
    "start_time": "2024-05-27T17:11:19.953Z"
   },
   {
    "duration": 81,
    "start_time": "2024-05-27T17:11:20.090Z"
   },
   {
    "duration": 195,
    "start_time": "2024-05-27T17:11:20.174Z"
   },
   {
    "duration": 164,
    "start_time": "2024-05-27T17:11:20.373Z"
   },
   {
    "duration": 96,
    "start_time": "2024-05-27T17:11:20.540Z"
   },
   {
    "duration": 61,
    "start_time": "2024-05-27T17:11:20.638Z"
   },
   {
    "duration": 141,
    "start_time": "2024-05-27T17:11:20.702Z"
   },
   {
    "duration": 15,
    "start_time": "2024-05-27T17:11:20.846Z"
   },
   {
    "duration": 4,
    "start_time": "2024-05-27T17:11:20.866Z"
   },
   {
    "duration": 9,
    "start_time": "2024-05-27T17:11:20.874Z"
   },
   {
    "duration": 3,
    "start_time": "2024-05-27T17:11:20.886Z"
   },
   {
    "duration": 263,
    "start_time": "2024-05-27T17:11:20.893Z"
   },
   {
    "duration": 74,
    "start_time": "2024-05-27T17:11:21.160Z"
   },
   {
    "duration": 4,
    "start_time": "2024-05-27T17:11:21.237Z"
   },
   {
    "duration": 3,
    "start_time": "2024-05-27T17:11:21.244Z"
   },
   {
    "duration": 6,
    "start_time": "2024-05-27T17:11:21.250Z"
   },
   {
    "duration": 72,
    "start_time": "2024-05-27T17:11:21.259Z"
   },
   {
    "duration": 50387,
    "start_time": "2024-05-27T17:11:41.865Z"
   },
   {
    "duration": 479,
    "start_time": "2024-05-27T17:15:50.636Z"
   },
   {
    "duration": 135,
    "start_time": "2024-05-27T17:16:04.960Z"
   },
   {
    "duration": 33,
    "start_time": "2024-05-27T17:16:07.098Z"
   },
   {
    "duration": 32,
    "start_time": "2024-05-27T17:16:15.962Z"
   },
   {
    "duration": 488,
    "start_time": "2024-05-27T17:16:35.842Z"
   },
   {
    "duration": 144445,
    "start_time": "2024-05-27T17:16:38.363Z"
   },
   {
    "duration": 326,
    "start_time": "2024-05-27T17:22:49.325Z"
   },
   {
    "duration": 1511,
    "start_time": "2024-05-27T17:23:00.862Z"
   },
   {
    "duration": 797,
    "start_time": "2024-05-27T17:23:02.376Z"
   },
   {
    "duration": 208,
    "start_time": "2024-05-27T17:23:03.176Z"
   },
   {
    "duration": 44,
    "start_time": "2024-05-27T17:23:03.390Z"
   },
   {
    "duration": 402,
    "start_time": "2024-05-27T17:23:03.438Z"
   },
   {
    "duration": 123,
    "start_time": "2024-05-27T17:23:03.843Z"
   },
   {
    "duration": 428,
    "start_time": "2024-05-27T17:23:03.969Z"
   },
   {
    "duration": 53,
    "start_time": "2024-05-27T17:23:04.400Z"
   },
   {
    "duration": 497,
    "start_time": "2024-05-27T17:23:04.456Z"
   },
   {
    "duration": 135,
    "start_time": "2024-05-27T17:23:04.958Z"
   },
   {
    "duration": 73,
    "start_time": "2024-05-27T17:23:05.097Z"
   },
   {
    "duration": 178,
    "start_time": "2024-05-27T17:23:05.173Z"
   },
   {
    "duration": 165,
    "start_time": "2024-05-27T17:23:05.353Z"
   },
   {
    "duration": 90,
    "start_time": "2024-05-27T17:23:05.521Z"
   },
   {
    "duration": 71,
    "start_time": "2024-05-27T17:23:05.614Z"
   },
   {
    "duration": 158,
    "start_time": "2024-05-27T17:23:05.688Z"
   },
   {
    "duration": 13,
    "start_time": "2024-05-27T17:23:05.848Z"
   },
   {
    "duration": 22,
    "start_time": "2024-05-27T17:23:05.864Z"
   },
   {
    "duration": 4,
    "start_time": "2024-05-27T17:23:05.888Z"
   },
   {
    "duration": 1431,
    "start_time": "2024-05-27T17:24:28.958Z"
   },
   {
    "duration": 802,
    "start_time": "2024-05-27T17:24:30.392Z"
   },
   {
    "duration": 149,
    "start_time": "2024-05-27T17:24:31.196Z"
   },
   {
    "duration": 23,
    "start_time": "2024-05-27T17:24:31.348Z"
   },
   {
    "duration": 437,
    "start_time": "2024-05-27T17:24:31.375Z"
   },
   {
    "duration": 125,
    "start_time": "2024-05-27T17:24:31.816Z"
   },
   {
    "duration": 443,
    "start_time": "2024-05-27T17:24:31.944Z"
   },
   {
    "duration": 59,
    "start_time": "2024-05-27T17:24:32.390Z"
   },
   {
    "duration": 513,
    "start_time": "2024-05-27T17:24:32.451Z"
   },
   {
    "duration": 143,
    "start_time": "2024-05-27T17:24:32.968Z"
   },
   {
    "duration": 66,
    "start_time": "2024-05-27T17:24:33.115Z"
   },
   {
    "duration": 189,
    "start_time": "2024-05-27T17:24:33.184Z"
   },
   {
    "duration": 158,
    "start_time": "2024-05-27T17:24:33.376Z"
   },
   {
    "duration": 93,
    "start_time": "2024-05-27T17:24:33.539Z"
   },
   {
    "duration": 42,
    "start_time": "2024-05-27T17:24:33.635Z"
   },
   {
    "duration": 152,
    "start_time": "2024-05-27T17:24:33.680Z"
   },
   {
    "duration": 12,
    "start_time": "2024-05-27T17:24:33.834Z"
   },
   {
    "duration": 28,
    "start_time": "2024-05-27T17:24:33.849Z"
   },
   {
    "duration": 305,
    "start_time": "2024-05-27T17:27:04.876Z"
   },
   {
    "duration": 1473,
    "start_time": "2024-05-27T17:27:32.549Z"
   },
   {
    "duration": 807,
    "start_time": "2024-05-27T17:27:34.026Z"
   },
   {
    "duration": 156,
    "start_time": "2024-05-27T17:27:34.840Z"
   },
   {
    "duration": 36,
    "start_time": "2024-05-27T17:27:34.998Z"
   },
   {
    "duration": 440,
    "start_time": "2024-05-27T17:27:35.039Z"
   },
   {
    "duration": 117,
    "start_time": "2024-05-27T17:27:35.481Z"
   },
   {
    "duration": 464,
    "start_time": "2024-05-27T17:27:35.602Z"
   },
   {
    "duration": 43,
    "start_time": "2024-05-27T17:27:36.069Z"
   },
   {
    "duration": 539,
    "start_time": "2024-05-27T17:27:36.115Z"
   },
   {
    "duration": 126,
    "start_time": "2024-05-27T17:27:36.657Z"
   },
   {
    "duration": 78,
    "start_time": "2024-05-27T17:27:36.786Z"
   },
   {
    "duration": 181,
    "start_time": "2024-05-27T17:27:36.867Z"
   },
   {
    "duration": 159,
    "start_time": "2024-05-27T17:27:37.051Z"
   },
   {
    "duration": 87,
    "start_time": "2024-05-27T17:27:37.215Z"
   },
   {
    "duration": 55,
    "start_time": "2024-05-27T17:27:37.304Z"
   },
   {
    "duration": 145,
    "start_time": "2024-05-27T17:27:37.362Z"
   },
   {
    "duration": 24,
    "start_time": "2024-05-27T17:27:37.510Z"
   },
   {
    "duration": 30,
    "start_time": "2024-05-27T17:27:37.538Z"
   },
   {
    "duration": 1427,
    "start_time": "2024-05-27T17:28:04.042Z"
   },
   {
    "duration": 801,
    "start_time": "2024-05-27T17:28:05.474Z"
   },
   {
    "duration": 169,
    "start_time": "2024-05-27T17:28:06.278Z"
   },
   {
    "duration": 25,
    "start_time": "2024-05-27T17:28:06.450Z"
   },
   {
    "duration": 421,
    "start_time": "2024-05-27T17:28:06.481Z"
   },
   {
    "duration": 112,
    "start_time": "2024-05-27T17:28:06.905Z"
   },
   {
    "duration": 439,
    "start_time": "2024-05-27T17:28:07.020Z"
   },
   {
    "duration": 44,
    "start_time": "2024-05-27T17:28:07.462Z"
   },
   {
    "duration": 516,
    "start_time": "2024-05-27T17:28:07.509Z"
   },
   {
    "duration": 123,
    "start_time": "2024-05-27T17:28:08.033Z"
   },
   {
    "duration": 76,
    "start_time": "2024-05-27T17:28:08.159Z"
   },
   {
    "duration": 183,
    "start_time": "2024-05-27T17:28:08.237Z"
   },
   {
    "duration": 157,
    "start_time": "2024-05-27T17:28:08.429Z"
   },
   {
    "duration": 99,
    "start_time": "2024-05-27T17:28:08.593Z"
   },
   {
    "duration": 55,
    "start_time": "2024-05-27T17:28:08.694Z"
   },
   {
    "duration": 140,
    "start_time": "2024-05-27T17:28:08.752Z"
   },
   {
    "duration": 12,
    "start_time": "2024-05-27T17:28:08.894Z"
   },
   {
    "duration": 43,
    "start_time": "2024-05-27T17:28:08.909Z"
   },
   {
    "duration": 424,
    "start_time": "2024-05-27T17:28:13.406Z"
   },
   {
    "duration": 139299,
    "start_time": "2024-05-27T17:28:16.018Z"
   },
   {
    "duration": 1518,
    "start_time": "2024-05-27T17:42:07.399Z"
   },
   {
    "duration": 847,
    "start_time": "2024-05-27T17:42:08.921Z"
   },
   {
    "duration": 182,
    "start_time": "2024-05-27T17:42:09.774Z"
   },
   {
    "duration": 26,
    "start_time": "2024-05-27T17:42:09.960Z"
   },
   {
    "duration": 472,
    "start_time": "2024-05-27T17:42:09.991Z"
   },
   {
    "duration": 138,
    "start_time": "2024-05-27T17:42:10.467Z"
   },
   {
    "duration": 447,
    "start_time": "2024-05-27T17:42:10.611Z"
   },
   {
    "duration": 42,
    "start_time": "2024-05-27T17:42:11.062Z"
   },
   {
    "duration": 538,
    "start_time": "2024-05-27T17:42:11.107Z"
   },
   {
    "duration": 195,
    "start_time": "2024-05-27T17:42:11.648Z"
   },
   {
    "duration": 62,
    "start_time": "2024-05-27T17:42:11.846Z"
   },
   {
    "duration": 256,
    "start_time": "2024-05-27T17:42:11.911Z"
   },
   {
    "duration": 172,
    "start_time": "2024-05-27T17:42:12.171Z"
   },
   {
    "duration": 94,
    "start_time": "2024-05-27T17:42:12.349Z"
   },
   {
    "duration": 46,
    "start_time": "2024-05-27T17:42:12.448Z"
   },
   {
    "duration": 161,
    "start_time": "2024-05-27T17:42:12.497Z"
   },
   {
    "duration": 14,
    "start_time": "2024-05-27T17:42:12.661Z"
   },
   {
    "duration": 60,
    "start_time": "2024-05-27T17:42:12.678Z"
   },
   {
    "duration": 5,
    "start_time": "2024-05-27T17:42:12.743Z"
   },
   {
    "duration": 1525,
    "start_time": "2024-05-27T17:42:48.968Z"
   },
   {
    "duration": 831,
    "start_time": "2024-05-27T17:42:50.496Z"
   },
   {
    "duration": 154,
    "start_time": "2024-05-27T17:42:51.332Z"
   },
   {
    "duration": 47,
    "start_time": "2024-05-27T17:42:51.489Z"
   },
   {
    "duration": 473,
    "start_time": "2024-05-27T17:42:51.541Z"
   },
   {
    "duration": 138,
    "start_time": "2024-05-27T17:42:52.018Z"
   },
   {
    "duration": 475,
    "start_time": "2024-05-27T17:42:52.163Z"
   },
   {
    "duration": 41,
    "start_time": "2024-05-27T17:42:52.641Z"
   },
   {
    "duration": 550,
    "start_time": "2024-05-27T17:42:52.685Z"
   },
   {
    "duration": 138,
    "start_time": "2024-05-27T17:42:53.237Z"
   },
   {
    "duration": 81,
    "start_time": "2024-05-27T17:42:53.379Z"
   },
   {
    "duration": 205,
    "start_time": "2024-05-27T17:42:53.463Z"
   },
   {
    "duration": 161,
    "start_time": "2024-05-27T17:42:53.673Z"
   },
   {
    "duration": 80,
    "start_time": "2024-05-27T17:42:53.840Z"
   },
   {
    "duration": 48,
    "start_time": "2024-05-27T17:42:53.923Z"
   },
   {
    "duration": 165,
    "start_time": "2024-05-27T17:42:53.974Z"
   },
   {
    "duration": 13,
    "start_time": "2024-05-27T17:42:54.142Z"
   },
   {
    "duration": 31,
    "start_time": "2024-05-27T17:42:54.158Z"
   },
   {
    "duration": 4,
    "start_time": "2024-05-27T17:42:54.191Z"
   },
   {
    "duration": 36,
    "start_time": "2024-05-27T17:42:54.197Z"
   },
   {
    "duration": 4,
    "start_time": "2024-05-27T17:42:54.237Z"
   },
   {
    "duration": 407,
    "start_time": "2024-05-27T17:42:54.245Z"
   },
   {
    "duration": 144950,
    "start_time": "2024-05-27T17:42:54.656Z"
   },
   {
    "duration": 527,
    "start_time": "2024-05-27T17:48:39.903Z"
   },
   {
    "duration": 6814,
    "start_time": "2024-05-27T17:50:00.606Z"
   },
   {
    "duration": 324,
    "start_time": "2024-05-27T17:51:29.208Z"
   },
   {
    "duration": 1761,
    "start_time": "2024-05-27T17:51:41.783Z"
   },
   {
    "duration": 838,
    "start_time": "2024-05-27T17:51:43.552Z"
   },
   {
    "duration": 162,
    "start_time": "2024-05-27T17:51:44.393Z"
   },
   {
    "duration": 21,
    "start_time": "2024-05-27T17:51:44.559Z"
   },
   {
    "duration": 491,
    "start_time": "2024-05-27T17:51:44.586Z"
   },
   {
    "duration": 129,
    "start_time": "2024-05-27T17:51:45.081Z"
   },
   {
    "duration": 458,
    "start_time": "2024-05-27T17:51:45.214Z"
   },
   {
    "duration": 55,
    "start_time": "2024-05-27T17:51:45.676Z"
   },
   {
    "duration": 589,
    "start_time": "2024-05-27T17:51:45.734Z"
   },
   {
    "duration": 184,
    "start_time": "2024-05-27T17:51:46.326Z"
   },
   {
    "duration": 62,
    "start_time": "2024-05-27T17:51:46.514Z"
   },
   {
    "duration": 210,
    "start_time": "2024-05-27T17:51:46.579Z"
   },
   {
    "duration": 194,
    "start_time": "2024-05-27T17:51:46.792Z"
   },
   {
    "duration": 87,
    "start_time": "2024-05-27T17:51:46.993Z"
   },
   {
    "duration": 60,
    "start_time": "2024-05-27T17:51:47.083Z"
   },
   {
    "duration": 158,
    "start_time": "2024-05-27T17:51:47.147Z"
   },
   {
    "duration": 22,
    "start_time": "2024-05-27T17:51:47.309Z"
   },
   {
    "duration": 31,
    "start_time": "2024-05-27T17:51:47.335Z"
   },
   {
    "duration": 4,
    "start_time": "2024-05-27T17:51:47.370Z"
   },
   {
    "duration": 345,
    "start_time": "2024-05-27T17:56:24.067Z"
   },
   {
    "duration": 1793,
    "start_time": "2024-05-27T17:56:37.749Z"
   },
   {
    "duration": 882,
    "start_time": "2024-05-27T17:56:39.546Z"
   },
   {
    "duration": 154,
    "start_time": "2024-05-27T17:56:40.432Z"
   },
   {
    "duration": 22,
    "start_time": "2024-05-27T17:56:40.589Z"
   },
   {
    "duration": 448,
    "start_time": "2024-05-27T17:56:40.633Z"
   },
   {
    "duration": 123,
    "start_time": "2024-05-27T17:56:41.086Z"
   },
   {
    "duration": 458,
    "start_time": "2024-05-27T17:56:41.214Z"
   },
   {
    "duration": 57,
    "start_time": "2024-05-27T17:56:41.676Z"
   },
   {
    "duration": 587,
    "start_time": "2024-05-27T17:56:41.735Z"
   },
   {
    "duration": 146,
    "start_time": "2024-05-27T17:56:42.327Z"
   },
   {
    "duration": 86,
    "start_time": "2024-05-27T17:56:42.476Z"
   },
   {
    "duration": 196,
    "start_time": "2024-05-27T17:56:42.565Z"
   },
   {
    "duration": 171,
    "start_time": "2024-05-27T17:56:42.764Z"
   },
   {
    "duration": 106,
    "start_time": "2024-05-27T17:56:42.940Z"
   },
   {
    "duration": 55,
    "start_time": "2024-05-27T17:56:43.049Z"
   },
   {
    "duration": 182,
    "start_time": "2024-05-27T17:56:43.108Z"
   },
   {
    "duration": 5,
    "start_time": "2024-05-27T17:56:43.293Z"
   },
   {
    "duration": 42,
    "start_time": "2024-05-27T17:56:43.302Z"
   },
   {
    "duration": 5,
    "start_time": "2024-05-27T17:56:43.350Z"
   },
   {
    "duration": 609,
    "start_time": "2024-05-27T18:15:03.679Z"
   },
   {
    "duration": 1827,
    "start_time": "2024-05-27T18:17:49.336Z"
   },
   {
    "duration": 813,
    "start_time": "2024-05-27T18:17:51.169Z"
   },
   {
    "duration": 199,
    "start_time": "2024-05-27T18:17:51.986Z"
   },
   {
    "duration": 48,
    "start_time": "2024-05-27T18:17:52.190Z"
   },
   {
    "duration": 458,
    "start_time": "2024-05-27T18:17:52.243Z"
   },
   {
    "duration": 125,
    "start_time": "2024-05-27T18:17:52.705Z"
   },
   {
    "duration": 560,
    "start_time": "2024-05-27T18:17:52.834Z"
   },
   {
    "duration": 55,
    "start_time": "2024-05-27T18:17:53.398Z"
   },
   {
    "duration": 536,
    "start_time": "2024-05-27T18:17:53.456Z"
   },
   {
    "duration": 140,
    "start_time": "2024-05-27T18:17:53.998Z"
   },
   {
    "duration": 58,
    "start_time": "2024-05-27T18:17:54.141Z"
   },
   {
    "duration": 292,
    "start_time": "2024-05-27T18:17:54.203Z"
   },
   {
    "duration": 164,
    "start_time": "2024-05-27T18:17:54.498Z"
   },
   {
    "duration": 117,
    "start_time": "2024-05-27T18:17:54.665Z"
   },
   {
    "duration": 58,
    "start_time": "2024-05-27T18:17:54.785Z"
   },
   {
    "duration": 166,
    "start_time": "2024-05-27T18:17:54.846Z"
   },
   {
    "duration": 5,
    "start_time": "2024-05-27T18:17:55.016Z"
   },
   {
    "duration": 31,
    "start_time": "2024-05-27T18:17:55.024Z"
   },
   {
    "duration": 9,
    "start_time": "2024-05-27T18:17:55.059Z"
   },
   {
    "duration": 4,
    "start_time": "2024-05-27T18:17:55.072Z"
   },
   {
    "duration": 471,
    "start_time": "2024-05-27T18:17:55.081Z"
   },
   {
    "duration": 135052,
    "start_time": "2024-05-27T18:17:55.557Z"
   },
   {
    "duration": 323,
    "start_time": "2024-05-27T18:20:38.892Z"
   },
   {
    "duration": 1620,
    "start_time": "2024-05-27T18:20:53.192Z"
   },
   {
    "duration": 792,
    "start_time": "2024-05-27T18:20:54.816Z"
   },
   {
    "duration": 161,
    "start_time": "2024-05-27T18:20:55.611Z"
   },
   {
    "duration": 20,
    "start_time": "2024-05-27T18:20:55.778Z"
   },
   {
    "duration": 454,
    "start_time": "2024-05-27T18:20:55.802Z"
   },
   {
    "duration": 129,
    "start_time": "2024-05-27T18:20:56.259Z"
   },
   {
    "duration": 442,
    "start_time": "2024-05-27T18:20:56.391Z"
   },
   {
    "duration": 39,
    "start_time": "2024-05-27T18:20:56.836Z"
   },
   {
    "duration": 531,
    "start_time": "2024-05-27T18:20:56.878Z"
   },
   {
    "duration": 136,
    "start_time": "2024-05-27T18:20:57.415Z"
   },
   {
    "duration": 59,
    "start_time": "2024-05-27T18:20:57.554Z"
   },
   {
    "duration": 207,
    "start_time": "2024-05-27T18:20:57.615Z"
   },
   {
    "duration": 154,
    "start_time": "2024-05-27T18:20:57.832Z"
   },
   {
    "duration": 89,
    "start_time": "2024-05-27T18:20:57.989Z"
   },
   {
    "duration": 55,
    "start_time": "2024-05-27T18:20:58.081Z"
   },
   {
    "duration": 140,
    "start_time": "2024-05-27T18:20:58.139Z"
   },
   {
    "duration": 4,
    "start_time": "2024-05-27T18:20:58.282Z"
   },
   {
    "duration": 47,
    "start_time": "2024-05-27T18:20:58.289Z"
   },
   {
    "duration": 4,
    "start_time": "2024-05-27T18:20:58.338Z"
   },
   {
    "duration": 4,
    "start_time": "2024-05-27T18:20:58.345Z"
   },
   {
    "duration": 385,
    "start_time": "2024-05-27T18:20:58.352Z"
   },
   {
    "duration": 131958,
    "start_time": "2024-05-27T18:20:58.739Z"
   },
   {
    "duration": 4,
    "start_time": "2024-05-27T18:23:10.700Z"
   },
   {
    "duration": 4,
    "start_time": "2024-05-27T18:23:10.707Z"
   },
   {
    "duration": 467,
    "start_time": "2024-05-27T18:23:10.714Z"
   },
   {
    "duration": 0,
    "start_time": "2024-05-27T18:23:11.184Z"
   },
   {
    "duration": 0,
    "start_time": "2024-05-27T18:23:11.187Z"
   },
   {
    "duration": 26,
    "start_time": "2024-05-27T18:28:34.925Z"
   },
   {
    "duration": 5,
    "start_time": "2024-05-27T18:28:56.424Z"
   },
   {
    "duration": 2100,
    "start_time": "2024-05-27T18:29:00.654Z"
   },
   {
    "duration": 15118,
    "start_time": "2024-05-27T18:30:10.174Z"
   },
   {
    "duration": 2513547,
    "start_time": "2024-05-27T18:32:41.906Z"
   },
   {
    "duration": 6,
    "start_time": "2024-05-27T19:15:25.106Z"
   },
   {
    "duration": 464639,
    "start_time": "2024-05-27T19:16:14.648Z"
   },
   {
    "duration": 11,
    "start_time": "2024-05-27T19:33:15.693Z"
   },
   {
    "duration": 9,
    "start_time": "2024-05-27T19:33:24.960Z"
   },
   {
    "duration": 2059,
    "start_time": "2024-05-27T19:33:58.099Z"
   },
   {
    "duration": 658,
    "start_time": "2024-05-27T19:54:56.708Z"
   },
   {
    "duration": 538,
    "start_time": "2024-05-27T20:01:49.877Z"
   },
   {
    "duration": 427,
    "start_time": "2024-05-27T20:02:19.609Z"
   },
   {
    "duration": 535,
    "start_time": "2024-05-27T20:05:07.036Z"
   },
   {
    "duration": 7,
    "start_time": "2024-05-27T20:05:10.735Z"
   },
   {
    "duration": 341,
    "start_time": "2024-05-27T20:07:34.212Z"
   },
   {
    "duration": 9,
    "start_time": "2024-05-27T20:08:00.940Z"
   },
   {
    "duration": 8,
    "start_time": "2024-05-27T20:08:40.752Z"
   },
   {
    "duration": 8,
    "start_time": "2024-05-27T20:09:26.172Z"
   },
   {
    "duration": 8,
    "start_time": "2024-05-27T20:09:44.716Z"
   },
   {
    "duration": 397473,
    "start_time": "2024-05-27T20:16:19.053Z"
   },
   {
    "duration": 7,
    "start_time": "2024-05-27T20:26:03.365Z"
   },
   {
    "duration": 29,
    "start_time": "2024-05-27T20:26:15.126Z"
   },
   {
    "duration": 6,
    "start_time": "2024-05-27T20:28:28.862Z"
   },
   {
    "duration": 6163,
    "start_time": "2024-05-27T20:31:45.574Z"
   },
   {
    "duration": 6102,
    "start_time": "2024-05-27T20:39:53.651Z"
   },
   {
    "duration": 7,
    "start_time": "2024-05-27T20:39:59.756Z"
   },
   {
    "duration": 8,
    "start_time": "2024-05-27T20:40:07.186Z"
   },
   {
    "duration": 8,
    "start_time": "2024-05-27T20:41:00.815Z"
   },
   {
    "duration": 8,
    "start_time": "2024-05-27T20:41:04.475Z"
   },
   {
    "duration": 0,
    "start_time": "2024-05-27T20:59:05.281Z"
   },
   {
    "duration": 8407,
    "start_time": "2024-05-27T20:59:13.435Z"
   },
   {
    "duration": 4432,
    "start_time": "2024-05-27T20:59:39.835Z"
   },
   {
    "duration": 6525,
    "start_time": "2024-05-27T21:00:24.650Z"
   },
   {
    "duration": 6546,
    "start_time": "2024-05-27T21:00:48.113Z"
   },
   {
    "duration": 6848,
    "start_time": "2024-05-27T21:02:37.319Z"
   },
   {
    "duration": 5286,
    "start_time": "2024-05-27T22:22:39.399Z"
   },
   {
    "duration": 821,
    "start_time": "2024-05-27T22:22:44.689Z"
   },
   {
    "duration": 148,
    "start_time": "2024-05-27T22:22:45.513Z"
   },
   {
    "duration": 21,
    "start_time": "2024-05-27T22:22:45.664Z"
   },
   {
    "duration": 408,
    "start_time": "2024-05-27T22:22:45.705Z"
   },
   {
    "duration": 119,
    "start_time": "2024-05-27T22:22:46.116Z"
   },
   {
    "duration": 433,
    "start_time": "2024-05-27T22:22:46.237Z"
   },
   {
    "duration": 50,
    "start_time": "2024-05-27T22:22:46.673Z"
   },
   {
    "duration": 510,
    "start_time": "2024-05-27T22:22:46.726Z"
   },
   {
    "duration": 125,
    "start_time": "2024-05-27T22:22:47.239Z"
   },
   {
    "duration": 71,
    "start_time": "2024-05-27T22:22:47.368Z"
   },
   {
    "duration": 192,
    "start_time": "2024-05-27T22:22:47.443Z"
   },
   {
    "duration": 154,
    "start_time": "2024-05-27T22:22:47.641Z"
   },
   {
    "duration": 81,
    "start_time": "2024-05-27T22:22:47.805Z"
   },
   {
    "duration": 68,
    "start_time": "2024-05-27T22:22:47.889Z"
   },
   {
    "duration": 141,
    "start_time": "2024-05-27T22:22:47.960Z"
   },
   {
    "duration": 27,
    "start_time": "2024-05-27T22:22:48.106Z"
   },
   {
    "duration": 4,
    "start_time": "2024-05-27T22:22:48.136Z"
   },
   {
    "duration": 594,
    "start_time": "2024-05-27T22:22:48.143Z"
   },
   {
    "duration": 445,
    "start_time": "2024-05-27T22:22:48.739Z"
   },
   {
    "duration": 0,
    "start_time": "2024-05-27T22:22:49.187Z"
   },
   {
    "duration": 0,
    "start_time": "2024-05-27T22:22:49.190Z"
   },
   {
    "duration": 0,
    "start_time": "2024-05-27T22:22:49.192Z"
   },
   {
    "duration": 0,
    "start_time": "2024-05-27T22:22:49.207Z"
   },
   {
    "duration": 0,
    "start_time": "2024-05-27T22:22:49.209Z"
   },
   {
    "duration": 0,
    "start_time": "2024-05-27T22:22:49.212Z"
   },
   {
    "duration": 0,
    "start_time": "2024-05-27T22:22:49.215Z"
   },
   {
    "duration": 0,
    "start_time": "2024-05-27T22:22:49.217Z"
   },
   {
    "duration": 0,
    "start_time": "2024-05-27T22:22:49.220Z"
   },
   {
    "duration": 9,
    "start_time": "2024-05-27T22:24:54.648Z"
   },
   {
    "duration": 393,
    "start_time": "2024-05-27T22:24:57.830Z"
   },
   {
    "duration": 8,
    "start_time": "2024-05-27T22:25:04.607Z"
   },
   {
    "duration": 361460,
    "start_time": "2024-05-27T22:25:07.637Z"
   },
   {
    "duration": 9,
    "start_time": "2024-05-27T22:34:46.167Z"
   },
   {
    "duration": 6135,
    "start_time": "2024-05-27T22:34:48.794Z"
   },
   {
    "duration": 4199,
    "start_time": "2024-05-27T22:35:18.535Z"
   },
   {
    "duration": 7,
    "start_time": "2024-05-27T22:36:06.684Z"
   },
   {
    "duration": 13,
    "start_time": "2024-05-27T22:39:23.030Z"
   },
   {
    "duration": 10,
    "start_time": "2024-05-27T22:39:36.688Z"
   },
   {
    "duration": 10,
    "start_time": "2024-05-27T22:39:54.142Z"
   },
   {
    "duration": 10,
    "start_time": "2024-05-27T22:40:18.553Z"
   },
   {
    "duration": 7,
    "start_time": "2024-05-27T22:46:57.153Z"
   },
   {
    "duration": 7,
    "start_time": "2024-05-27T22:48:16.827Z"
   },
   {
    "duration": 12,
    "start_time": "2024-05-27T22:49:41.771Z"
   },
   {
    "duration": 4483,
    "start_time": "2024-05-28T00:03:19.329Z"
   },
   {
    "duration": 8,
    "start_time": "2024-05-28T00:03:26.994Z"
   },
   {
    "duration": 67732,
    "start_time": "2024-05-28T00:05:29.414Z"
   },
   {
    "duration": 10,
    "start_time": "2024-05-28T00:06:50.159Z"
   },
   {
    "duration": 16,
    "start_time": "2024-05-28T00:13:40.440Z"
   },
   {
    "duration": 19,
    "start_time": "2024-05-28T00:13:51.201Z"
   },
   {
    "duration": 6,
    "start_time": "2024-05-28T02:18:48.072Z"
   },
   {
    "duration": 6,
    "start_time": "2024-05-28T02:19:02.566Z"
   },
   {
    "duration": 5358,
    "start_time": "2024-05-28T17:16:06.631Z"
   },
   {
    "duration": 784,
    "start_time": "2024-05-28T17:16:11.993Z"
   },
   {
    "duration": 165,
    "start_time": "2024-05-28T17:16:12.780Z"
   },
   {
    "duration": 22,
    "start_time": "2024-05-28T17:16:12.950Z"
   },
   {
    "duration": 484,
    "start_time": "2024-05-28T17:16:12.975Z"
   },
   {
    "duration": 123,
    "start_time": "2024-05-28T17:16:13.461Z"
   },
   {
    "duration": 454,
    "start_time": "2024-05-28T17:16:13.586Z"
   },
   {
    "duration": 41,
    "start_time": "2024-05-28T17:16:14.043Z"
   },
   {
    "duration": 542,
    "start_time": "2024-05-28T17:16:14.087Z"
   },
   {
    "duration": 134,
    "start_time": "2024-05-28T17:16:14.635Z"
   },
   {
    "duration": 88,
    "start_time": "2024-05-28T17:16:14.771Z"
   },
   {
    "duration": 227,
    "start_time": "2024-05-28T17:16:14.861Z"
   },
   {
    "duration": 162,
    "start_time": "2024-05-28T17:16:15.091Z"
   },
   {
    "duration": 89,
    "start_time": "2024-05-28T17:16:15.256Z"
   },
   {
    "duration": 43,
    "start_time": "2024-05-28T17:16:15.348Z"
   },
   {
    "duration": 135,
    "start_time": "2024-05-28T17:16:15.413Z"
   },
   {
    "duration": 26,
    "start_time": "2024-05-28T17:16:15.551Z"
   },
   {
    "duration": 600,
    "start_time": "2024-05-28T17:16:15.579Z"
   },
   {
    "duration": 7,
    "start_time": "2024-05-28T17:16:16.183Z"
   },
   {
    "duration": 422,
    "start_time": "2024-05-28T17:16:16.195Z"
   },
   {
    "duration": 9,
    "start_time": "2024-05-28T17:16:16.619Z"
   },
   {
    "duration": 353211,
    "start_time": "2024-05-28T17:16:16.632Z"
   },
   {
    "duration": 8,
    "start_time": "2024-05-28T17:22:09.847Z"
   },
   {
    "duration": 3975,
    "start_time": "2024-05-28T17:22:09.858Z"
   },
   {
    "duration": 77,
    "start_time": "2024-05-28T17:22:13.836Z"
   },
   {
    "duration": 4459,
    "start_time": "2024-05-28T17:22:13.916Z"
   },
   {
    "duration": 7,
    "start_time": "2024-05-28T17:22:18.378Z"
   },
   {
    "duration": 48420,
    "start_time": "2024-05-28T17:22:18.392Z"
   },
   {
    "duration": 8,
    "start_time": "2024-05-28T17:23:06.816Z"
   },
   {
    "duration": 16,
    "start_time": "2024-05-28T17:23:06.828Z"
   },
   {
    "duration": 5,
    "start_time": "2024-05-28T17:23:06.848Z"
   },
   {
    "duration": 1921,
    "start_time": "2024-05-28T17:24:51.499Z"
   },
   {
    "duration": 783,
    "start_time": "2024-05-28T17:24:53.425Z"
   },
   {
    "duration": 185,
    "start_time": "2024-05-28T17:24:54.211Z"
   },
   {
    "duration": 33,
    "start_time": "2024-05-28T17:24:54.401Z"
   },
   {
    "duration": 462,
    "start_time": "2024-05-28T17:24:54.440Z"
   },
   {
    "duration": 137,
    "start_time": "2024-05-28T17:24:54.906Z"
   },
   {
    "duration": 453,
    "start_time": "2024-05-28T17:24:55.047Z"
   },
   {
    "duration": 44,
    "start_time": "2024-05-28T17:24:55.503Z"
   },
   {
    "duration": 520,
    "start_time": "2024-05-28T17:24:55.550Z"
   },
   {
    "duration": 132,
    "start_time": "2024-05-28T17:24:56.077Z"
   },
   {
    "duration": 60,
    "start_time": "2024-05-28T17:24:56.213Z"
   },
   {
    "duration": 204,
    "start_time": "2024-05-28T17:24:56.276Z"
   },
   {
    "duration": 163,
    "start_time": "2024-05-28T17:24:56.484Z"
   },
   {
    "duration": 88,
    "start_time": "2024-05-28T17:24:56.650Z"
   },
   {
    "duration": 45,
    "start_time": "2024-05-28T17:24:56.741Z"
   },
   {
    "duration": 159,
    "start_time": "2024-05-28T17:24:56.789Z"
   },
   {
    "duration": 26,
    "start_time": "2024-05-28T17:24:56.951Z"
   },
   {
    "duration": 575,
    "start_time": "2024-05-28T17:24:56.981Z"
   },
   {
    "duration": 444,
    "start_time": "2024-05-28T17:24:57.559Z"
   },
   {
    "duration": 0,
    "start_time": "2024-05-28T17:24:58.013Z"
   },
   {
    "duration": 0,
    "start_time": "2024-05-28T17:24:58.015Z"
   },
   {
    "duration": 0,
    "start_time": "2024-05-28T17:24:58.018Z"
   },
   {
    "duration": 0,
    "start_time": "2024-05-28T17:24:58.020Z"
   },
   {
    "duration": 0,
    "start_time": "2024-05-28T17:24:58.024Z"
   },
   {
    "duration": 0,
    "start_time": "2024-05-28T17:24:58.026Z"
   },
   {
    "duration": 0,
    "start_time": "2024-05-28T17:24:58.029Z"
   },
   {
    "duration": 0,
    "start_time": "2024-05-28T17:24:58.031Z"
   },
   {
    "duration": 0,
    "start_time": "2024-05-28T17:24:58.033Z"
   },
   {
    "duration": 0,
    "start_time": "2024-05-28T17:24:58.036Z"
   },
   {
    "duration": 0,
    "start_time": "2024-05-28T17:24:58.039Z"
   },
   {
    "duration": 0,
    "start_time": "2024-05-28T17:24:58.041Z"
   },
   {
    "duration": 6,
    "start_time": "2024-05-28T17:26:42.759Z"
   },
   {
    "duration": 1677,
    "start_time": "2024-05-28T17:26:47.271Z"
   },
   {
    "duration": 741,
    "start_time": "2024-05-28T17:26:48.951Z"
   },
   {
    "duration": 147,
    "start_time": "2024-05-28T17:26:49.695Z"
   },
   {
    "duration": 22,
    "start_time": "2024-05-28T17:26:49.845Z"
   },
   {
    "duration": 441,
    "start_time": "2024-05-28T17:26:49.873Z"
   },
   {
    "duration": 122,
    "start_time": "2024-05-28T17:26:50.319Z"
   },
   {
    "duration": 447,
    "start_time": "2024-05-28T17:26:50.444Z"
   },
   {
    "duration": 47,
    "start_time": "2024-05-28T17:26:50.894Z"
   },
   {
    "duration": 522,
    "start_time": "2024-05-28T17:26:50.944Z"
   },
   {
    "duration": 140,
    "start_time": "2024-05-28T17:26:51.469Z"
   },
   {
    "duration": 63,
    "start_time": "2024-05-28T17:26:51.612Z"
   },
   {
    "duration": 195,
    "start_time": "2024-05-28T17:26:51.679Z"
   },
   {
    "duration": 158,
    "start_time": "2024-05-28T17:26:51.877Z"
   },
   {
    "duration": 97,
    "start_time": "2024-05-28T17:26:52.041Z"
   },
   {
    "duration": 44,
    "start_time": "2024-05-28T17:26:52.140Z"
   },
   {
    "duration": 161,
    "start_time": "2024-05-28T17:26:52.187Z"
   },
   {
    "duration": 28,
    "start_time": "2024-05-28T17:26:52.351Z"
   },
   {
    "duration": 605,
    "start_time": "2024-05-28T17:26:52.382Z"
   },
   {
    "duration": 22,
    "start_time": "2024-05-28T17:26:52.990Z"
   },
   {
    "duration": 414,
    "start_time": "2024-05-28T17:26:53.015Z"
   },
   {
    "duration": 94,
    "start_time": "2024-05-28T17:26:53.432Z"
   },
   {
    "duration": 469038,
    "start_time": "2024-05-28T17:26:53.532Z"
   },
   {
    "duration": 10,
    "start_time": "2024-05-28T17:34:42.572Z"
   },
   {
    "duration": 4131,
    "start_time": "2024-05-28T17:34:42.585Z"
   },
   {
    "duration": 9,
    "start_time": "2024-05-28T17:34:46.719Z"
   },
   {
    "duration": 4065,
    "start_time": "2024-05-28T17:34:46.732Z"
   },
   {
    "duration": 10,
    "start_time": "2024-05-28T17:34:50.799Z"
   },
   {
    "duration": 48314,
    "start_time": "2024-05-28T17:34:50.812Z"
   },
   {
    "duration": 10,
    "start_time": "2024-05-28T17:35:39.129Z"
   },
   {
    "duration": 70,
    "start_time": "2024-05-28T17:35:39.145Z"
   },
   {
    "duration": 7,
    "start_time": "2024-05-28T17:35:39.218Z"
   },
   {
    "duration": 5434,
    "start_time": "2024-05-28T21:28:14.958Z"
   },
   {
    "duration": 1016,
    "start_time": "2024-05-28T21:28:20.396Z"
   },
   {
    "duration": 302,
    "start_time": "2024-05-28T21:28:21.414Z"
   },
   {
    "duration": 22,
    "start_time": "2024-05-28T21:28:21.719Z"
   },
   {
    "duration": 816,
    "start_time": "2024-05-28T21:28:21.744Z"
   },
   {
    "duration": 153,
    "start_time": "2024-05-28T21:28:22.563Z"
   },
   {
    "duration": 500,
    "start_time": "2024-05-28T21:28:22.719Z"
   },
   {
    "duration": 38,
    "start_time": "2024-05-28T21:28:23.221Z"
   },
   {
    "duration": 509,
    "start_time": "2024-05-28T21:28:23.262Z"
   },
   {
    "duration": 137,
    "start_time": "2024-05-28T21:28:23.778Z"
   },
   {
    "duration": 71,
    "start_time": "2024-05-28T21:28:23.918Z"
   },
   {
    "duration": 216,
    "start_time": "2024-05-28T21:28:23.992Z"
   },
   {
    "duration": 162,
    "start_time": "2024-05-28T21:28:24.212Z"
   },
   {
    "duration": 89,
    "start_time": "2024-05-28T21:28:24.377Z"
   },
   {
    "duration": 60,
    "start_time": "2024-05-28T21:28:24.468Z"
   },
   {
    "duration": 162,
    "start_time": "2024-05-28T21:28:24.531Z"
   },
   {
    "duration": 30,
    "start_time": "2024-05-28T21:28:24.696Z"
   },
   {
    "duration": 677,
    "start_time": "2024-05-28T21:28:24.729Z"
   },
   {
    "duration": 11,
    "start_time": "2024-05-28T21:28:25.409Z"
   },
   {
    "duration": 581,
    "start_time": "2024-05-28T21:28:25.424Z"
   },
   {
    "duration": 25,
    "start_time": "2024-05-28T21:28:26.008Z"
   },
   {
    "duration": 322495,
    "start_time": "2024-05-28T21:28:26.040Z"
   },
   {
    "duration": 9,
    "start_time": "2024-05-28T21:33:48.538Z"
   },
   {
    "duration": 102889,
    "start_time": "2024-05-28T21:33:48.551Z"
   },
   {
    "duration": 10,
    "start_time": "2024-05-28T21:35:31.443Z"
   },
   {
    "duration": 4139,
    "start_time": "2024-05-28T21:35:31.456Z"
   },
   {
    "duration": 10,
    "start_time": "2024-05-28T21:35:35.598Z"
   },
   {
    "duration": 67212,
    "start_time": "2024-05-28T21:35:35.614Z"
   },
   {
    "duration": 12,
    "start_time": "2024-05-28T21:36:42.829Z"
   },
   {
    "duration": 18,
    "start_time": "2024-05-28T21:36:42.846Z"
   },
   {
    "duration": 7,
    "start_time": "2024-05-28T21:36:42.867Z"
   },
   {
    "duration": 525,
    "start_time": "2024-05-28T21:44:51.197Z"
   },
   {
    "duration": 6,
    "start_time": "2024-05-28T21:45:00.930Z"
   },
   {
    "duration": 130,
    "start_time": "2024-05-28T21:45:08.866Z"
   },
   {
    "duration": 12,
    "start_time": "2024-05-28T21:45:35.029Z"
   },
   {
    "duration": 22,
    "start_time": "2024-05-28T21:45:42.141Z"
   },
   {
    "duration": 28,
    "start_time": "2024-05-28T21:47:08.860Z"
   },
   {
    "duration": 7,
    "start_time": "2024-05-28T21:47:20.809Z"
   },
   {
    "duration": 7,
    "start_time": "2024-05-28T21:51:34.568Z"
   },
   {
    "duration": 184,
    "start_time": "2024-05-28T21:51:45.825Z"
   },
   {
    "duration": 20,
    "start_time": "2024-05-28T21:51:48.597Z"
   },
   {
    "duration": 8,
    "start_time": "2024-05-28T21:56:09.264Z"
   },
   {
    "duration": 661,
    "start_time": "2024-05-28T21:56:09.275Z"
   },
   {
    "duration": 155,
    "start_time": "2024-05-28T21:56:09.939Z"
   },
   {
    "duration": 18,
    "start_time": "2024-05-28T21:56:10.098Z"
   },
   {
    "duration": 386,
    "start_time": "2024-05-28T21:56:10.120Z"
   },
   {
    "duration": 127,
    "start_time": "2024-05-28T21:56:10.509Z"
   },
   {
    "duration": 444,
    "start_time": "2024-05-28T21:56:10.639Z"
   },
   {
    "duration": 41,
    "start_time": "2024-05-28T21:56:11.086Z"
   },
   {
    "duration": 521,
    "start_time": "2024-05-28T21:56:11.129Z"
   },
   {
    "duration": 128,
    "start_time": "2024-05-28T21:56:11.655Z"
   },
   {
    "duration": 61,
    "start_time": "2024-05-28T21:56:11.787Z"
   },
   {
    "duration": 190,
    "start_time": "2024-05-28T21:56:11.850Z"
   },
   {
    "duration": 35,
    "start_time": "2024-05-28T21:59:48.039Z"
   },
   {
    "duration": 214,
    "start_time": "2024-05-28T22:00:08.385Z"
   },
   {
    "duration": 40,
    "start_time": "2024-05-28T22:00:10.743Z"
   },
   {
    "duration": 165,
    "start_time": "2024-05-28T22:00:32.294Z"
   },
   {
    "duration": 85,
    "start_time": "2024-05-28T22:00:34.108Z"
   },
   {
    "duration": 46,
    "start_time": "2024-05-28T22:00:35.777Z"
   },
   {
    "duration": 135,
    "start_time": "2024-05-28T22:00:59.480Z"
   },
   {
    "duration": 20,
    "start_time": "2024-05-28T22:00:59.619Z"
   },
   {
    "duration": 423,
    "start_time": "2024-05-28T22:00:59.643Z"
   },
   {
    "duration": 10,
    "start_time": "2024-05-28T22:01:00.069Z"
   },
   {
    "duration": 423,
    "start_time": "2024-05-28T22:01:00.084Z"
   },
   {
    "duration": 11,
    "start_time": "2024-05-28T22:01:00.512Z"
   },
   {
    "duration": 342420,
    "start_time": "2024-05-28T22:01:00.526Z"
   },
   {
    "duration": 10,
    "start_time": "2024-05-28T22:06:42.949Z"
   },
   {
    "duration": 99645,
    "start_time": "2024-05-28T22:06:42.962Z"
   },
   {
    "duration": 12,
    "start_time": "2024-05-28T22:08:22.610Z"
   },
   {
    "duration": 3805,
    "start_time": "2024-05-28T22:08:22.625Z"
   },
   {
    "duration": 12,
    "start_time": "2024-05-28T22:08:26.432Z"
   },
   {
    "duration": 63098,
    "start_time": "2024-05-28T22:08:26.447Z"
   },
   {
    "duration": 10,
    "start_time": "2024-05-28T22:09:29.550Z"
   },
   {
    "duration": 59,
    "start_time": "2024-05-28T22:09:29.564Z"
   },
   {
    "duration": 5,
    "start_time": "2024-05-28T22:09:29.627Z"
   },
   {
    "duration": 7,
    "start_time": "2024-05-28T22:27:31.601Z"
   },
   {
    "duration": 5533,
    "start_time": "2024-05-30T19:00:46.968Z"
   },
   {
    "duration": 1659,
    "start_time": "2024-05-30T19:02:08.841Z"
   },
   {
    "duration": 799,
    "start_time": "2024-05-30T19:02:10.503Z"
   },
   {
    "duration": 152,
    "start_time": "2024-05-30T19:02:11.305Z"
   },
   {
    "duration": 43,
    "start_time": "2024-05-30T19:02:11.460Z"
   },
   {
    "duration": 409,
    "start_time": "2024-05-30T19:02:11.507Z"
   },
   {
    "duration": 128,
    "start_time": "2024-05-30T19:02:11.919Z"
   },
   {
    "duration": 439,
    "start_time": "2024-05-30T19:02:12.051Z"
   },
   {
    "duration": 46,
    "start_time": "2024-05-30T19:02:12.501Z"
   },
   {
    "duration": 543,
    "start_time": "2024-05-30T19:02:12.549Z"
   },
   {
    "duration": 144,
    "start_time": "2024-05-30T19:02:13.096Z"
   },
   {
    "duration": 71,
    "start_time": "2024-05-30T19:02:13.244Z"
   },
   {
    "duration": 195,
    "start_time": "2024-05-30T19:02:13.319Z"
   },
   {
    "duration": 194,
    "start_time": "2024-05-30T19:02:13.517Z"
   },
   {
    "duration": 39,
    "start_time": "2024-05-30T19:02:13.717Z"
   },
   {
    "duration": 177,
    "start_time": "2024-05-30T19:02:13.759Z"
   },
   {
    "duration": 88,
    "start_time": "2024-05-30T19:02:13.939Z"
   },
   {
    "duration": 64,
    "start_time": "2024-05-30T19:02:14.030Z"
   },
   {
    "duration": 138,
    "start_time": "2024-05-30T19:02:14.097Z"
   },
   {
    "duration": 30,
    "start_time": "2024-05-30T19:02:14.238Z"
   },
   {
    "duration": 465,
    "start_time": "2024-05-30T19:02:14.272Z"
   },
   {
    "duration": 16,
    "start_time": "2024-05-30T19:02:14.740Z"
   },
   {
    "duration": 339,
    "start_time": "2024-05-30T19:02:14.759Z"
   },
   {
    "duration": 91,
    "start_time": "2024-05-30T19:02:15.101Z"
   },
   {
    "duration": 22272,
    "start_time": "2024-05-30T19:02:15.198Z"
   },
   {
    "duration": 0,
    "start_time": "2024-05-30T19:02:37.472Z"
   },
   {
    "duration": 0,
    "start_time": "2024-05-30T19:02:37.475Z"
   },
   {
    "duration": 0,
    "start_time": "2024-05-30T19:02:37.477Z"
   },
   {
    "duration": 0,
    "start_time": "2024-05-30T19:02:37.491Z"
   },
   {
    "duration": 0,
    "start_time": "2024-05-30T19:02:37.493Z"
   },
   {
    "duration": 0,
    "start_time": "2024-05-30T19:02:37.495Z"
   },
   {
    "duration": 0,
    "start_time": "2024-05-30T19:02:37.498Z"
   },
   {
    "duration": 0,
    "start_time": "2024-05-30T19:02:37.501Z"
   },
   {
    "duration": 0,
    "start_time": "2024-05-30T19:02:37.502Z"
   },
   {
    "duration": 5444,
    "start_time": "2024-05-30T20:15:38.662Z"
   },
   {
    "duration": 787,
    "start_time": "2024-05-30T20:15:44.109Z"
   },
   {
    "duration": 156,
    "start_time": "2024-05-30T20:15:44.900Z"
   },
   {
    "duration": 23,
    "start_time": "2024-05-30T20:15:45.060Z"
   },
   {
    "duration": 452,
    "start_time": "2024-05-30T20:15:45.086Z"
   },
   {
    "duration": 134,
    "start_time": "2024-05-30T20:15:45.541Z"
   },
   {
    "duration": 457,
    "start_time": "2024-05-30T20:15:45.679Z"
   },
   {
    "duration": 42,
    "start_time": "2024-05-30T20:15:46.140Z"
   },
   {
    "duration": 543,
    "start_time": "2024-05-30T20:15:46.184Z"
   },
   {
    "duration": 127,
    "start_time": "2024-05-30T20:15:46.733Z"
   },
   {
    "duration": 69,
    "start_time": "2024-05-30T20:15:46.862Z"
   },
   {
    "duration": 189,
    "start_time": "2024-05-30T20:15:46.933Z"
   },
   {
    "duration": 14,
    "start_time": "2024-05-30T20:16:50.590Z"
   },
   {
    "duration": 14,
    "start_time": "2024-05-30T20:18:02.043Z"
   },
   {
    "duration": 6,
    "start_time": "2024-05-30T20:19:22.103Z"
   },
   {
    "duration": 91,
    "start_time": "2024-05-30T20:19:31.590Z"
   },
   {
    "duration": 30,
    "start_time": "2024-05-30T20:19:54.483Z"
   },
   {
    "duration": 15,
    "start_time": "2024-05-30T20:22:38.654Z"
   },
   {
    "duration": 13,
    "start_time": "2024-05-30T20:22:55.271Z"
   },
   {
    "duration": 6,
    "start_time": "2024-05-30T20:24:09.633Z"
   },
   {
    "duration": 91,
    "start_time": "2024-05-30T20:39:30.499Z"
   },
   {
    "duration": 5,
    "start_time": "2024-05-30T20:48:31.384Z"
   },
   {
    "duration": 85,
    "start_time": "2024-05-30T20:48:43.841Z"
   },
   {
    "duration": 87,
    "start_time": "2024-05-30T20:48:45.848Z"
   },
   {
    "duration": 1809,
    "start_time": "2024-05-30T20:50:16.237Z"
   },
   {
    "duration": 729,
    "start_time": "2024-05-30T20:50:18.050Z"
   },
   {
    "duration": 161,
    "start_time": "2024-05-30T20:50:18.781Z"
   },
   {
    "duration": 25,
    "start_time": "2024-05-30T20:50:18.948Z"
   },
   {
    "duration": 470,
    "start_time": "2024-05-30T20:50:18.976Z"
   },
   {
    "duration": 129,
    "start_time": "2024-05-30T20:50:19.450Z"
   },
   {
    "duration": 483,
    "start_time": "2024-05-30T20:50:19.583Z"
   },
   {
    "duration": 60,
    "start_time": "2024-05-30T20:50:20.070Z"
   },
   {
    "duration": 514,
    "start_time": "2024-05-30T20:50:20.138Z"
   },
   {
    "duration": 134,
    "start_time": "2024-05-30T20:50:20.656Z"
   },
   {
    "duration": 71,
    "start_time": "2024-05-30T20:50:20.793Z"
   },
   {
    "duration": 184,
    "start_time": "2024-05-30T20:50:20.866Z"
   },
   {
    "duration": 14,
    "start_time": "2024-05-30T20:50:21.052Z"
   },
   {
    "duration": 6,
    "start_time": "2024-05-30T20:50:21.069Z"
   },
   {
    "duration": 116,
    "start_time": "2024-05-30T20:50:21.081Z"
   },
   {
    "duration": 88,
    "start_time": "2024-05-30T20:50:21.200Z"
   },
   {
    "duration": 159,
    "start_time": "2024-05-30T20:50:21.294Z"
   },
   {
    "duration": 41,
    "start_time": "2024-05-30T20:50:21.456Z"
   },
   {
    "duration": 133,
    "start_time": "2024-05-30T20:50:21.523Z"
   },
   {
    "duration": 85,
    "start_time": "2024-05-30T20:50:21.659Z"
   },
   {
    "duration": 49,
    "start_time": "2024-05-30T20:50:21.746Z"
   },
   {
    "duration": 128,
    "start_time": "2024-05-30T20:50:21.798Z"
   },
   {
    "duration": 24,
    "start_time": "2024-05-30T20:50:21.929Z"
   },
   {
    "duration": 387,
    "start_time": "2024-05-30T20:50:21.956Z"
   },
   {
    "duration": 11,
    "start_time": "2024-05-30T20:50:22.346Z"
   },
   {
    "duration": 280,
    "start_time": "2024-05-30T20:50:22.361Z"
   },
   {
    "duration": 9,
    "start_time": "2024-05-30T20:50:22.722Z"
   },
   {
    "duration": 339478,
    "start_time": "2024-05-30T20:50:22.738Z"
   },
   {
    "duration": 12,
    "start_time": "2024-05-30T20:56:02.219Z"
   },
   {
    "duration": 3512,
    "start_time": "2024-05-30T20:56:02.234Z"
   },
   {
    "duration": 10,
    "start_time": "2024-05-30T20:56:05.750Z"
   },
   {
    "duration": 3458,
    "start_time": "2024-05-30T20:56:05.764Z"
   },
   {
    "duration": 9,
    "start_time": "2024-05-30T20:56:09.225Z"
   },
   {
    "duration": 38511,
    "start_time": "2024-05-30T20:56:09.237Z"
   },
   {
    "duration": 77,
    "start_time": "2024-05-30T20:56:47.751Z"
   },
   {
    "duration": 17,
    "start_time": "2024-05-30T20:56:47.831Z"
   },
   {
    "duration": 9,
    "start_time": "2024-05-30T20:56:47.852Z"
   }
  ],
  "kernelspec": {
   "display_name": "Python 3 (ipykernel)",
   "language": "python",
   "name": "python3"
  },
  "language_info": {
   "codemirror_mode": {
    "name": "ipython",
    "version": 3
   },
   "file_extension": ".py",
   "mimetype": "text/x-python",
   "name": "python",
   "nbconvert_exporter": "python",
   "pygments_lexer": "ipython3",
   "version": "3.12.5"
  },
  "toc": {
   "base_numbering": 1,
   "nav_menu": {},
   "number_sections": true,
   "sideBar": true,
   "skip_h1_title": true,
   "title_cell": "Table of Contents",
   "title_sidebar": "Contents",
   "toc_cell": false,
   "toc_position": {
    "height": "calc(100% - 180px)",
    "left": "10px",
    "top": "150px",
    "width": "290.4px"
   },
   "toc_section_display": true,
   "toc_window_display": true
  }
 },
 "nbformat": 4,
 "nbformat_minor": 2
}
